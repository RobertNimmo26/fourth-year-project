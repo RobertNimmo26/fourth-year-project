{
  "nbformat": 4,
  "nbformat_minor": 0,
  "metadata": {
    "kernelspec": {
      "display_name": "Python 3",
      "language": "python",
      "name": "python3"
    },
    "language_info": {
      "codemirror_mode": {
        "name": "ipython",
        "version": 3
      },
      "file_extension": ".py",
      "mimetype": "text/x-python",
      "name": "python",
      "nbconvert_exporter": "python",
      "pygments_lexer": "ipython3",
      "version": "3.7.4"
    },
    "colab": {
      "name": "oulad_prepare_dataset.ipynb",
      "provenance": [],
      "collapsed_sections": []
    }
  },
  "cells": [
    {
      "cell_type": "markdown",
      "metadata": {
        "id": "50rs6MLKz5fn"
      },
      "source": [
        "# Prepare Dataset"
      ]
    },
    {
      "cell_type": "markdown",
      "metadata": {
        "id": "k-CKgOJr0C7W"
      },
      "source": [
        "### GDrive setup"
      ]
    },
    {
      "cell_type": "code",
      "metadata": {
        "colab": {
          "base_uri": "https://localhost:8080/"
        },
        "id": "2puHe1Ty0Gn4",
        "outputId": "53190f1b-3e25-489c-e6ba-79cfa886780c"
      },
      "source": [
        "from google.colab import drive\n",
        "drive.mount('/content/drive')"
      ],
      "execution_count": null,
      "outputs": [
        {
          "output_type": "stream",
          "name": "stdout",
          "text": [
            "Drive already mounted at /content/drive; to attempt to forcibly remount, call drive.mount(\"/content/drive\", force_remount=True).\n"
          ]
        }
      ]
    },
    {
      "cell_type": "code",
      "metadata": {
        "colab": {
          "base_uri": "https://localhost:8080/"
        },
        "id": "ArM2sqXK2cG3",
        "outputId": "60295358-c902-4322-e164-d50f4443d261"
      },
      "source": [
        "cd 'drive/My Drive/Colab Notebooks/4th year project/OULAD dataset/Deadline'"
      ],
      "execution_count": null,
      "outputs": [
        {
          "output_type": "stream",
          "name": "stdout",
          "text": [
            "/content/drive/My Drive/Colab Notebooks/4th year project/OULAD dataset/Deadline\n"
          ]
        }
      ]
    },
    {
      "cell_type": "code",
      "metadata": {
        "id": "p9ayAhws2evi",
        "colab": {
          "base_uri": "https://localhost:8080/"
        },
        "outputId": "12a65a56-4e44-446e-810b-a0f59636d215"
      },
      "source": [
        "ls"
      ],
      "execution_count": null,
      "outputs": [
        {
          "output_type": "stream",
          "name": "stdout",
          "text": [
            "\u001b[0m\u001b[01;34m120\u001b[0m/  \u001b[01;34m150\u001b[0m/  \u001b[01;34m180\u001b[0m/  \u001b[01;34m210\u001b[0m/  \u001b[01;34m240\u001b[0m/  \u001b[01;34m270\u001b[0m/  \u001b[01;34m30\u001b[0m/  \u001b[01;34m60\u001b[0m/  \u001b[01;34m90\u001b[0m/\n"
          ]
        }
      ]
    },
    {
      "cell_type": "markdown",
      "metadata": {
        "id": "v3Uycz2vz5fx"
      },
      "source": [
        "## Setup"
      ]
    },
    {
      "cell_type": "code",
      "metadata": {
        "id": "SmyB7uFCz5fz"
      },
      "source": [
        "import pandas as pd\n",
        "import numpy as np\n",
        "import matplotlib.pyplot as plt\n",
        "import seaborn as sns"
      ],
      "execution_count": null,
      "outputs": []
    },
    {
      "cell_type": "code",
      "metadata": {
        "id": "YO6dS31xz5f2"
      },
      "source": [
        "assessments_df = pd.read_csv('../../OULAD dataset/anonymisedOUDataSet/assessments.csv')\n",
        "courses_df = pd.read_csv('../../OULAD dataset/anonymisedOUDataSet/courses.csv')\n",
        "student_assessments_df = pd.read_csv('../../OULAD dataset/anonymisedOUDataSet/studentAssessment.csv')\n",
        "student_info_df = pd.read_csv('../../OULAD dataset/anonymisedOUDataSet/studentInfo.csv')\n",
        "student_registration_df = pd.read_csv('../../OULAD dataset/anonymisedOUDataSet/studentRegistration.csv')\n",
        "student_vle_df = pd.read_csv('../../OULAD dataset/anonymisedOUDataSet/studentVle.csv')\n",
        "vle_df = pd.read_csv('../../OULAD dataset/anonymisedOUDataSet/vle.csv')\n",
        "\n",
        "sa_days_deadline_df = pd.read_csv('../../OULAD dataset/StudentAssessmentDaysDeadline.csv')\n",
        "\n",
        "sns.set(rc={'figure.figsize':(11.7,8.27)})"
      ],
      "execution_count": null,
      "outputs": []
    },
    {
      "cell_type": "code",
      "source": [
        "assessments_df['code_module'].value_counts()"
      ],
      "metadata": {
        "colab": {
          "base_uri": "https://localhost:8080/"
        },
        "id": "1K9kpA49RsKD",
        "outputId": "22dd035e-4f95-4311-ec44-ed66b9be9c6a"
      },
      "execution_count": null,
      "outputs": [
        {
          "output_type": "execute_result",
          "data": {
            "text/plain": [
              "FFF    52\n",
              "BBB    42\n",
              "DDD    35\n",
              "GGG    30\n",
              "CCC    20\n",
              "EEE    15\n",
              "AAA    12\n",
              "Name: code_module, dtype: int64"
            ]
          },
          "metadata": {},
          "execution_count": 6
        }
      ]
    },
    {
      "cell_type": "code",
      "source": [
        "assessments_df['code_presentation'].value_counts()"
      ],
      "metadata": {
        "colab": {
          "base_uri": "https://localhost:8080/"
        },
        "id": "BaJSRpbiV04e",
        "outputId": "d53be23c-3505-481e-f19b-5626e7266f70"
      },
      "execution_count": null,
      "outputs": [
        {
          "output_type": "execute_result",
          "data": {
            "text/plain": [
              "2014B    57\n",
              "2014J    57\n",
              "2013J    53\n",
              "2013B    39\n",
              "Name: code_presentation, dtype: int64"
            ]
          },
          "metadata": {},
          "execution_count": 7
        }
      ]
    },
    {
      "cell_type": "markdown",
      "source": [
        "### Dates for each assessment"
      ],
      "metadata": {
        "id": "tvXrf2x1ekD9"
      }
    },
    {
      "cell_type": "markdown",
      "source": [
        "#### Course Presentation for AAA\n",
        "* 2013J\n",
        "* 2014J\n",
        "\n",
        "Assessments are the same each year"
      ],
      "metadata": {
        "id": "8N1zvpD1Zq1J"
      }
    },
    {
      "cell_type": "code",
      "source": [
        "assessments_df.loc[assessments_df['code_module']==\"AAA\"].code_presentation.value_counts()"
      ],
      "metadata": {
        "colab": {
          "base_uri": "https://localhost:8080/"
        },
        "id": "uwOiUitEXJjt",
        "outputId": "24346522-4635-402d-cf1e-f7fcaf230b1b"
      },
      "execution_count": null,
      "outputs": [
        {
          "output_type": "execute_result",
          "data": {
            "text/plain": [
              "2013J    6\n",
              "2014J    6\n",
              "Name: code_presentation, dtype: int64"
            ]
          },
          "metadata": {},
          "execution_count": 8
        }
      ]
    },
    {
      "cell_type": "code",
      "source": [
        "assessments_df.loc[(assessments_df['code_module']==\"AAA\") & (assessments_df['code_presentation']==\"2013J\")].sort_values('date').date"
      ],
      "metadata": {
        "colab": {
          "base_uri": "https://localhost:8080/"
        },
        "id": "x2iol3OGd18F",
        "outputId": "fce3ac3b-2263-415e-c2db-05d01e812c05"
      },
      "execution_count": null,
      "outputs": [
        {
          "output_type": "execute_result",
          "data": {
            "text/plain": [
              "0     19.0\n",
              "1     54.0\n",
              "2    117.0\n",
              "3    166.0\n",
              "4    215.0\n",
              "5      NaN\n",
              "Name: date, dtype: float64"
            ]
          },
          "metadata": {},
          "execution_count": 9
        }
      ]
    },
    {
      "cell_type": "code",
      "source": [
        "assessments_df.loc[(assessments_df['code_module']==\"AAA\") & (assessments_df['code_presentation']==\"2014J\")].sort_values('date').date"
      ],
      "metadata": {
        "colab": {
          "base_uri": "https://localhost:8080/"
        },
        "id": "3DZgt9luZ7U-",
        "outputId": "7aa19257-b7a7-48c1-e702-6837b3c28c02"
      },
      "execution_count": null,
      "outputs": [
        {
          "output_type": "execute_result",
          "data": {
            "text/plain": [
              "6      19.0\n",
              "7      54.0\n",
              "8     117.0\n",
              "9     166.0\n",
              "10    215.0\n",
              "11      NaN\n",
              "Name: date, dtype: float64"
            ]
          },
          "metadata": {},
          "execution_count": 10
        }
      ]
    },
    {
      "cell_type": "markdown",
      "source": [
        "#### Course Presentation for BBB\n",
        "* 2013B\n",
        "* 2013J\n",
        "* 2014B\n",
        "* 2014J\n",
        "\n",
        "\n",
        "Assessments are the same in 2013 but vary in 2014"
      ],
      "metadata": {
        "id": "iZmV1QHibIEV"
      }
    },
    {
      "cell_type": "code",
      "source": [
        "assessments_df.loc[assessments_df['code_module']==\"BBB\"].code_presentation.value_counts()"
      ],
      "metadata": {
        "colab": {
          "base_uri": "https://localhost:8080/"
        },
        "id": "Dmo6iU6-XIWo",
        "outputId": "7cc31861-d19a-4ead-c3e3-bc794ee723e0"
      },
      "execution_count": null,
      "outputs": [
        {
          "output_type": "execute_result",
          "data": {
            "text/plain": [
              "2013J    12\n",
              "2014B    12\n",
              "2013B    12\n",
              "2014J     6\n",
              "Name: code_presentation, dtype: int64"
            ]
          },
          "metadata": {},
          "execution_count": 11
        }
      ]
    },
    {
      "cell_type": "code",
      "source": [
        "assessments_df.loc[(assessments_df['code_module']==\"BBB\") & (assessments_df['code_presentation']==\"2013B\")].sort_values('date').date"
      ],
      "metadata": {
        "colab": {
          "base_uri": "https://localhost:8080/"
        },
        "id": "vLkS-JzzcEbY",
        "outputId": "dd50b5be-d175-4dad-fcf5-932522e1fac2"
      },
      "execution_count": null,
      "outputs": [
        {
          "output_type": "execute_result",
          "data": {
            "text/plain": [
              "17     19.0\n",
              "18     47.0\n",
              "12     54.0\n",
              "13     89.0\n",
              "19     89.0\n",
              "14    124.0\n",
              "20    124.0\n",
              "15    159.0\n",
              "21    159.0\n",
              "16    187.0\n",
              "22    187.0\n",
              "23      NaN\n",
              "Name: date, dtype: float64"
            ]
          },
          "metadata": {},
          "execution_count": 12
        }
      ]
    },
    {
      "cell_type": "code",
      "source": [
        "assessments_df.loc[(assessments_df['code_module']==\"BBB\") & (assessments_df['code_presentation']==\"2013J\")].sort_values('date').date"
      ],
      "metadata": {
        "colab": {
          "base_uri": "https://localhost:8080/"
        },
        "id": "ZT8M4eX5R55A",
        "outputId": "ca4ba787-09ed-47f9-f382-f357a045d583"
      },
      "execution_count": null,
      "outputs": [
        {
          "output_type": "execute_result",
          "data": {
            "text/plain": [
              "29     19.0\n",
              "30     47.0\n",
              "24     54.0\n",
              "25     96.0\n",
              "31     96.0\n",
              "26    131.0\n",
              "32    131.0\n",
              "27    166.0\n",
              "33    166.0\n",
              "28    208.0\n",
              "34    208.0\n",
              "35      NaN\n",
              "Name: date, dtype: float64"
            ]
          },
          "metadata": {},
          "execution_count": 13
        }
      ]
    },
    {
      "cell_type": "code",
      "source": [
        "assessments_df.loc[(assessments_df['code_module']==\"BBB\") & (assessments_df['code_presentation']==\"2014B\")].sort_values('date').date"
      ],
      "metadata": {
        "colab": {
          "base_uri": "https://localhost:8080/"
        },
        "id": "odVce6lUcI3d",
        "outputId": "15082233-4a7b-4853-985d-83563bc02f4f"
      },
      "execution_count": null,
      "outputs": [
        {
          "output_type": "execute_result",
          "data": {
            "text/plain": [
              "41     12.0\n",
              "42     40.0\n",
              "36     47.0\n",
              "37     82.0\n",
              "43     82.0\n",
              "38    117.0\n",
              "44    117.0\n",
              "39    152.0\n",
              "45    152.0\n",
              "40    194.0\n",
              "46    194.0\n",
              "47      NaN\n",
              "Name: date, dtype: float64"
            ]
          },
          "metadata": {},
          "execution_count": 14
        }
      ]
    },
    {
      "cell_type": "code",
      "source": [
        "assessments_df.loc[(assessments_df['code_module']==\"BBB\") & (assessments_df['code_presentation']==\"2014J\")].sort_values('date').date"
      ],
      "metadata": {
        "colab": {
          "base_uri": "https://localhost:8080/"
        },
        "id": "4IT0Q34ccIbH",
        "outputId": "2c99635b-5de6-4746-8df3-3f38ee6d44ba"
      },
      "execution_count": null,
      "outputs": [
        {
          "output_type": "execute_result",
          "data": {
            "text/plain": [
              "48     19.0\n",
              "49     54.0\n",
              "50    110.0\n",
              "51    152.0\n",
              "52    201.0\n",
              "53      NaN\n",
              "Name: date, dtype: float64"
            ]
          },
          "metadata": {},
          "execution_count": 15
        }
      ]
    },
    {
      "cell_type": "markdown",
      "source": [
        "#### Course Presentation for CCC\n",
        "\n",
        "* 2014B\n",
        "* 2014J\n",
        "\n",
        "Assessments are the same each year with a minor variety in dates of assessment"
      ],
      "metadata": {
        "id": "se3zM0a6chGt"
      }
    },
    {
      "cell_type": "code",
      "source": [
        "assessments_df.loc[assessments_df['code_module']==\"CCC\"].code_presentation.value_counts()"
      ],
      "metadata": {
        "colab": {
          "base_uri": "https://localhost:8080/"
        },
        "id": "KBA7mzr-WwvP",
        "outputId": "93e9f0aa-4489-4fef-bac0-e2d3d33cf6d5"
      },
      "execution_count": null,
      "outputs": [
        {
          "output_type": "execute_result",
          "data": {
            "text/plain": [
              "2014J    10\n",
              "2014B    10\n",
              "Name: code_presentation, dtype: int64"
            ]
          },
          "metadata": {},
          "execution_count": 16
        }
      ]
    },
    {
      "cell_type": "code",
      "source": [
        "assessments_df.loc[(assessments_df['code_module']==\"CCC\") & (assessments_df['code_presentation']==\"2014B\")].sort_values('date').date"
      ],
      "metadata": {
        "colab": {
          "base_uri": "https://localhost:8080/"
        },
        "id": "HWIov8IDR6EQ",
        "outputId": "d867f912-ca51-4a88-9fac-b4a80f3885fb"
      },
      "execution_count": null,
      "outputs": [
        {
          "output_type": "execute_result",
          "data": {
            "text/plain": [
              "54     18.0\n",
              "58     32.0\n",
              "55     67.0\n",
              "59    102.0\n",
              "56    137.0\n",
              "60    151.0\n",
              "61    200.0\n",
              "57    207.0\n",
              "62      NaN\n",
              "63      NaN\n",
              "Name: date, dtype: float64"
            ]
          },
          "metadata": {},
          "execution_count": 17
        }
      ]
    },
    {
      "cell_type": "code",
      "source": [
        "assessments_df.loc[(assessments_df['code_module']==\"CCC\") & (assessments_df['code_presentation']==\"2014J\")].sort_values('date').date"
      ],
      "metadata": {
        "colab": {
          "base_uri": "https://localhost:8080/"
        },
        "id": "vBBxmmQ5c89f",
        "outputId": "bbcc552e-3074-488a-b316-ff6afd890a54"
      },
      "execution_count": null,
      "outputs": [
        {
          "output_type": "execute_result",
          "data": {
            "text/plain": [
              "64     18.0\n",
              "68     32.0\n",
              "65     67.0\n",
              "69    109.0\n",
              "66    144.0\n",
              "70    158.0\n",
              "71    207.0\n",
              "67    214.0\n",
              "72      NaN\n",
              "73      NaN\n",
              "Name: date, dtype: float64"
            ]
          },
          "metadata": {},
          "execution_count": 18
        }
      ]
    },
    {
      "cell_type": "markdown",
      "source": [
        "#### Course Presentation for DDD\n",
        "\n",
        "* 2013B\n",
        "* 2013J\n",
        "* 2014B\n",
        "* 2014J\n",
        "\n",
        "Assessments are different for 2013B but the rest of the assessments follow a similar assessment structure with a small variety of dates"
      ],
      "metadata": {
        "id": "fyQDn2K9dKeY"
      }
    },
    {
      "cell_type": "code",
      "source": [
        "assessments_df.loc[assessments_df['code_module']==\"DDD\"].code_presentation.value_counts()"
      ],
      "metadata": {
        "colab": {
          "base_uri": "https://localhost:8080/"
        },
        "id": "MIxcrR2NXLTU",
        "outputId": "9ac4060f-0564-4213-bbf2-f754394da4ce"
      },
      "execution_count": null,
      "outputs": [
        {
          "output_type": "execute_result",
          "data": {
            "text/plain": [
              "2013B    14\n",
              "2013J     7\n",
              "2014J     7\n",
              "2014B     7\n",
              "Name: code_presentation, dtype: int64"
            ]
          },
          "metadata": {},
          "execution_count": 19
        }
      ]
    },
    {
      "cell_type": "code",
      "source": [
        "assessments_df.loc[(assessments_df['code_module']==\"DDD\") & (assessments_df['code_presentation']==\"2013B\")].sort_values('date').date"
      ],
      "metadata": {
        "colab": {
          "base_uri": "https://localhost:8080/"
        },
        "id": "bXZkEtcGdYnN",
        "outputId": "92fda969-878a-49b1-a4fd-8aba2575f74f"
      },
      "execution_count": null,
      "outputs": [
        {
          "output_type": "execute_result",
          "data": {
            "text/plain": [
              "74     23.0\n",
              "81     25.0\n",
              "75     51.0\n",
              "82     53.0\n",
              "76     79.0\n",
              "83     81.0\n",
              "77    114.0\n",
              "84    116.0\n",
              "78    149.0\n",
              "85    151.0\n",
              "79    170.0\n",
              "86    200.0\n",
              "80    206.0\n",
              "87    240.0\n",
              "Name: date, dtype: float64"
            ]
          },
          "metadata": {},
          "execution_count": 20
        }
      ]
    },
    {
      "cell_type": "code",
      "source": [
        "assessments_df.loc[(assessments_df['code_module']==\"DDD\") & (assessments_df['code_presentation']==\"2013J\")].sort_values('date').date"
      ],
      "metadata": {
        "colab": {
          "base_uri": "https://localhost:8080/"
        },
        "id": "9WqVJrwpR6OJ",
        "outputId": "f84f6ebd-4543-4146-d836-9588fb1ae896"
      },
      "execution_count": null,
      "outputs": [
        {
          "output_type": "execute_result",
          "data": {
            "text/plain": [
              "88     25.0\n",
              "89     53.0\n",
              "90     88.0\n",
              "91    123.0\n",
              "92    165.0\n",
              "93    207.0\n",
              "94    261.0\n",
              "Name: date, dtype: float64"
            ]
          },
          "metadata": {},
          "execution_count": 21
        }
      ]
    },
    {
      "cell_type": "code",
      "source": [
        "assessments_df.loc[(assessments_df['code_module']==\"DDD\") & (assessments_df['code_presentation']==\"2014B\")].sort_values('date').date"
      ],
      "metadata": {
        "colab": {
          "base_uri": "https://localhost:8080/"
        },
        "id": "V_8qEqEOdaFX",
        "outputId": "e4b09d3f-59fd-49e1-abca-3e8da131ea4c"
      },
      "execution_count": null,
      "outputs": [
        {
          "output_type": "execute_result",
          "data": {
            "text/plain": [
              "95      25.0\n",
              "96      53.0\n",
              "97      74.0\n",
              "98     116.0\n",
              "99     158.0\n",
              "100    200.0\n",
              "101    241.0\n",
              "Name: date, dtype: float64"
            ]
          },
          "metadata": {},
          "execution_count": 22
        }
      ]
    },
    {
      "cell_type": "code",
      "source": [
        "assessments_df.loc[(assessments_df['code_module']==\"DDD\") & (assessments_df['code_presentation']==\"2014J\")].sort_values('date').date"
      ],
      "metadata": {
        "colab": {
          "base_uri": "https://localhost:8080/"
        },
        "id": "fjkgHvFDdaTr",
        "outputId": "833acc94-917c-4e97-fc99-57d4239b4d08"
      },
      "execution_count": null,
      "outputs": [
        {
          "output_type": "execute_result",
          "data": {
            "text/plain": [
              "102     20.0\n",
              "103     41.0\n",
              "104     62.0\n",
              "105    111.0\n",
              "106    146.0\n",
              "107    195.0\n",
              "108      NaN\n",
              "Name: date, dtype: float64"
            ]
          },
          "metadata": {},
          "execution_count": 23
        }
      ]
    },
    {
      "cell_type": "markdown",
      "source": [
        "#### Course Presentation for EEE\n",
        "\n",
        "* 2013J\n",
        "* 2014B\n",
        "* 2014J\n",
        "\n",
        "Assessments are the same each year with a small variety of dates"
      ],
      "metadata": {
        "id": "sfWCOZdgdxXE"
      }
    },
    {
      "cell_type": "code",
      "source": [
        "assessments_df.loc[assessments_df['code_module']==\"EEE\"].code_presentation.value_counts()"
      ],
      "metadata": {
        "colab": {
          "base_uri": "https://localhost:8080/"
        },
        "id": "lbeTsoWcXMlw",
        "outputId": "b4980930-6a4e-42bf-8ef6-d819bb20e13c"
      },
      "execution_count": null,
      "outputs": [
        {
          "output_type": "execute_result",
          "data": {
            "text/plain": [
              "2013J    5\n",
              "2014J    5\n",
              "2014B    5\n",
              "Name: code_presentation, dtype: int64"
            ]
          },
          "metadata": {},
          "execution_count": 24
        }
      ]
    },
    {
      "cell_type": "code",
      "source": [
        "assessments_df.loc[(assessments_df['code_module']==\"EEE\") & (assessments_df['code_presentation']==\"2013J\")].sort_values('date').date"
      ],
      "metadata": {
        "colab": {
          "base_uri": "https://localhost:8080/"
        },
        "id": "WgsN6oFnR8En",
        "outputId": "eb0b670e-15b7-418e-9816-21c2ed131a72"
      },
      "execution_count": null,
      "outputs": [
        {
          "output_type": "execute_result",
          "data": {
            "text/plain": [
              "109     33.0\n",
              "110     68.0\n",
              "111    124.0\n",
              "112    159.0\n",
              "113    235.0\n",
              "Name: date, dtype: float64"
            ]
          },
          "metadata": {},
          "execution_count": 25
        }
      ]
    },
    {
      "cell_type": "code",
      "source": [
        "assessments_df.loc[(assessments_df['code_module']==\"EEE\") & (assessments_df['code_presentation']==\"2014B\")].sort_values('date').date"
      ],
      "metadata": {
        "colab": {
          "base_uri": "https://localhost:8080/"
        },
        "id": "3vXaOuzBe8NE",
        "outputId": "fa033ffe-3a8d-4754-be01-39491ddaf6db"
      },
      "execution_count": null,
      "outputs": [
        {
          "output_type": "execute_result",
          "data": {
            "text/plain": [
              "114     33.0\n",
              "115     68.0\n",
              "116    117.0\n",
              "117    152.0\n",
              "118    228.0\n",
              "Name: date, dtype: float64"
            ]
          },
          "metadata": {},
          "execution_count": 26
        }
      ]
    },
    {
      "cell_type": "code",
      "source": [
        "assessments_df.loc[(assessments_df['code_module']==\"EEE\") & (assessments_df['code_presentation']==\"2014J\")].sort_values('date').date"
      ],
      "metadata": {
        "colab": {
          "base_uri": "https://localhost:8080/"
        },
        "id": "mVF0wCSMe8rG",
        "outputId": "505b5e04-4638-486f-df68-9c817830bdee"
      },
      "execution_count": null,
      "outputs": [
        {
          "output_type": "execute_result",
          "data": {
            "text/plain": [
              "119     33.0\n",
              "120     68.0\n",
              "121    131.0\n",
              "122    166.0\n",
              "123    235.0\n",
              "Name: date, dtype: float64"
            ]
          },
          "metadata": {},
          "execution_count": 27
        }
      ]
    },
    {
      "cell_type": "markdown",
      "source": [
        "#### Course Presentation for FFF\n",
        "\n",
        "* 2013B\n",
        "* 2013J\n",
        "* 2014B\n",
        "* 2014J\n",
        "\n",
        "Same assessmen structure with a slight change of dates year on year"
      ],
      "metadata": {
        "id": "l0qUBtfRfiVY"
      }
    },
    {
      "cell_type": "code",
      "source": [
        "assessments_df.loc[assessments_df['code_module']==\"FFF\"].code_presentation.value_counts()"
      ],
      "metadata": {
        "colab": {
          "base_uri": "https://localhost:8080/"
        },
        "id": "IGS7IRPMXN2m",
        "outputId": "5152aaba-2d2f-4f47-b26d-e211a00f1cee"
      },
      "execution_count": null,
      "outputs": [
        {
          "output_type": "execute_result",
          "data": {
            "text/plain": [
              "2013J    13\n",
              "2014J    13\n",
              "2014B    13\n",
              "2013B    13\n",
              "Name: code_presentation, dtype: int64"
            ]
          },
          "metadata": {},
          "execution_count": 28
        }
      ]
    },
    {
      "cell_type": "code",
      "source": [
        "assessments_df.loc[(assessments_df['code_module']==\"FFF\") & (assessments_df['code_presentation']==\"2013B\")].sort_values('date').date"
      ],
      "metadata": {
        "colab": {
          "base_uri": "https://localhost:8080/"
        },
        "id": "SmCzpFLOforz",
        "outputId": "afa3ad16-9da1-4c37-c301-e66a85a11428"
      },
      "execution_count": null,
      "outputs": [
        {
          "output_type": "execute_result",
          "data": {
            "text/plain": [
              "131     19.0\n",
              "132     47.0\n",
              "133     89.0\n",
              "134    131.0\n",
              "135    166.0\n",
              "124    222.0\n",
              "125    222.0\n",
              "126    222.0\n",
              "127    222.0\n",
              "128    222.0\n",
              "129    222.0\n",
              "130    222.0\n",
              "136    222.0\n",
              "Name: date, dtype: float64"
            ]
          },
          "metadata": {},
          "execution_count": 29
        }
      ]
    },
    {
      "cell_type": "code",
      "source": [
        "assessments_df.loc[(assessments_df['code_module']==\"FFF\") & (assessments_df['code_presentation']==\"2013J\")].sort_values('date').date"
      ],
      "metadata": {
        "colab": {
          "base_uri": "https://localhost:8080/"
        },
        "id": "Is40bp1YR8Ro",
        "outputId": "723713ec-45ed-499d-dd37-47f00fea3488"
      },
      "execution_count": null,
      "outputs": [
        {
          "output_type": "execute_result",
          "data": {
            "text/plain": [
              "144     19.0\n",
              "145     47.0\n",
              "146     96.0\n",
              "147    131.0\n",
              "148    173.0\n",
              "137    236.0\n",
              "138    236.0\n",
              "139    236.0\n",
              "140    236.0\n",
              "141    236.0\n",
              "142    236.0\n",
              "143    236.0\n",
              "149    236.0\n",
              "Name: date, dtype: float64"
            ]
          },
          "metadata": {},
          "execution_count": 30
        }
      ]
    },
    {
      "cell_type": "code",
      "source": [
        "assessments_df.loc[(assessments_df['code_module']==\"FFF\") & (assessments_df['code_presentation']==\"2014B\")].sort_values('date').date"
      ],
      "metadata": {
        "colab": {
          "base_uri": "https://localhost:8080/"
        },
        "id": "yDnHPCeGfrgC",
        "outputId": "bbe8656b-6ae0-490f-c62f-82e1cad1d3e8"
      },
      "execution_count": null,
      "outputs": [
        {
          "output_type": "execute_result",
          "data": {
            "text/plain": [
              "157     24.0\n",
              "158     52.0\n",
              "159     87.0\n",
              "160    129.0\n",
              "161    171.0\n",
              "150    227.0\n",
              "151    227.0\n",
              "152    227.0\n",
              "153    227.0\n",
              "154    227.0\n",
              "155    227.0\n",
              "156    227.0\n",
              "162    227.0\n",
              "Name: date, dtype: float64"
            ]
          },
          "metadata": {},
          "execution_count": 31
        }
      ]
    },
    {
      "cell_type": "code",
      "source": [
        "assessments_df.loc[(assessments_df['code_module']==\"FFF\") & (assessments_df['code_presentation']==\"2014J\")].sort_values('date').date"
      ],
      "metadata": {
        "colab": {
          "base_uri": "https://localhost:8080/"
        },
        "id": "rgYDmK-eftWd",
        "outputId": "d3522c39-a454-48f2-e601-f834ce92a1bd"
      },
      "execution_count": null,
      "outputs": [
        {
          "output_type": "execute_result",
          "data": {
            "text/plain": [
              "170     24.0\n",
              "171     52.0\n",
              "172     94.0\n",
              "173    136.0\n",
              "174    199.0\n",
              "163    241.0\n",
              "164    241.0\n",
              "165    241.0\n",
              "166    241.0\n",
              "167    241.0\n",
              "168    241.0\n",
              "169    241.0\n",
              "175    241.0\n",
              "Name: date, dtype: float64"
            ]
          },
          "metadata": {},
          "execution_count": 32
        }
      ]
    },
    {
      "cell_type": "markdown",
      "source": [
        "#### Course Presentation for GGG\n",
        "\n",
        "* 2013J\n",
        "* 2014B\n",
        "* 2014J\n",
        "\n",
        "Same assessmen structure with a slight change of dates year on year"
      ],
      "metadata": {
        "id": "GFFPea6TgFSB"
      }
    },
    {
      "cell_type": "code",
      "source": [
        "assessments_df.loc[assessments_df['code_module']==\"GGG\"].code_presentation.value_counts()"
      ],
      "metadata": {
        "colab": {
          "base_uri": "https://localhost:8080/"
        },
        "id": "IwOOdXp4XPLm",
        "outputId": "f2a81024-8740-4830-a3c4-c0542cff1a73"
      },
      "execution_count": null,
      "outputs": [
        {
          "output_type": "execute_result",
          "data": {
            "text/plain": [
              "2013J    10\n",
              "2014J    10\n",
              "2014B    10\n",
              "Name: code_presentation, dtype: int64"
            ]
          },
          "metadata": {},
          "execution_count": 33
        }
      ]
    },
    {
      "cell_type": "code",
      "source": [
        "assessments_df.loc[(assessments_df['code_module']==\"GGG\") & (assessments_df['code_presentation']==\"2013J\")].sort_values('date').date"
      ],
      "metadata": {
        "colab": {
          "base_uri": "https://localhost:8080/"
        },
        "id": "P6fmef9lR8bu",
        "outputId": "4f4dc763-f0ae-4440-8f19-3e8dd531c6f3"
      },
      "execution_count": null,
      "outputs": [
        {
          "output_type": "execute_result",
          "data": {
            "text/plain": [
              "182     61.0\n",
              "183    124.0\n",
              "184    173.0\n",
              "176    229.0\n",
              "177    229.0\n",
              "178    229.0\n",
              "179    229.0\n",
              "180    229.0\n",
              "181    229.0\n",
              "185    229.0\n",
              "Name: date, dtype: float64"
            ]
          },
          "metadata": {},
          "execution_count": 34
        }
      ]
    },
    {
      "cell_type": "code",
      "source": [
        "assessments_df.loc[(assessments_df['code_module']==\"GGG\") & (assessments_df['code_presentation']==\"2014B\")].sort_values('date').date"
      ],
      "metadata": {
        "colab": {
          "base_uri": "https://localhost:8080/"
        },
        "id": "1KyLMG2YgMqR",
        "outputId": "fea9d5f5-e848-474a-8dc3-ad8d2cb2d661"
      },
      "execution_count": null,
      "outputs": [
        {
          "output_type": "execute_result",
          "data": {
            "text/plain": [
              "192     61.0\n",
              "193    117.0\n",
              "194    166.0\n",
              "186    222.0\n",
              "187    222.0\n",
              "188    222.0\n",
              "189    222.0\n",
              "190    222.0\n",
              "191    222.0\n",
              "195    222.0\n",
              "Name: date, dtype: float64"
            ]
          },
          "metadata": {},
          "execution_count": 35
        }
      ]
    },
    {
      "cell_type": "code",
      "source": [
        "assessments_df.loc[(assessments_df['code_module']==\"GGG\") & (assessments_df['code_presentation']==\"2014J\")].sort_values('date').date"
      ],
      "metadata": {
        "colab": {
          "base_uri": "https://localhost:8080/"
        },
        "id": "U45mqG8rgNOI",
        "outputId": "7bff4d90-3767-4054-e7c8-2686ea57e0aa"
      },
      "execution_count": null,
      "outputs": [
        {
          "output_type": "execute_result",
          "data": {
            "text/plain": [
              "202     61.0\n",
              "203    124.0\n",
              "204    173.0\n",
              "196    229.0\n",
              "197    229.0\n",
              "198    229.0\n",
              "199    229.0\n",
              "200    229.0\n",
              "201    229.0\n",
              "205    229.0\n",
              "Name: date, dtype: float64"
            ]
          },
          "metadata": {},
          "execution_count": 36
        }
      ]
    },
    {
      "cell_type": "code",
      "source": [
        "assessments_df.loc[(assessments_df['assessment_type'] != 'Exam')]"
      ],
      "metadata": {
        "colab": {
          "base_uri": "https://localhost:8080/",
          "height": 423
        },
        "id": "q7TCT954h_8r",
        "outputId": "58204dcb-6550-47b4-ea16-9b7d2218efb0"
      },
      "execution_count": null,
      "outputs": [
        {
          "output_type": "execute_result",
          "data": {
            "text/html": [
              "\n",
              "  <div id=\"df-f478e4fa-a081-4ac4-a4a4-84f62e76c106\">\n",
              "    <div class=\"colab-df-container\">\n",
              "      <div>\n",
              "<style scoped>\n",
              "    .dataframe tbody tr th:only-of-type {\n",
              "        vertical-align: middle;\n",
              "    }\n",
              "\n",
              "    .dataframe tbody tr th {\n",
              "        vertical-align: top;\n",
              "    }\n",
              "\n",
              "    .dataframe thead th {\n",
              "        text-align: right;\n",
              "    }\n",
              "</style>\n",
              "<table border=\"1\" class=\"dataframe\">\n",
              "  <thead>\n",
              "    <tr style=\"text-align: right;\">\n",
              "      <th></th>\n",
              "      <th>code_module</th>\n",
              "      <th>code_presentation</th>\n",
              "      <th>id_assessment</th>\n",
              "      <th>assessment_type</th>\n",
              "      <th>date</th>\n",
              "      <th>weight</th>\n",
              "    </tr>\n",
              "  </thead>\n",
              "  <tbody>\n",
              "    <tr>\n",
              "      <th>0</th>\n",
              "      <td>AAA</td>\n",
              "      <td>2013J</td>\n",
              "      <td>1752</td>\n",
              "      <td>TMA</td>\n",
              "      <td>19.0</td>\n",
              "      <td>10.0</td>\n",
              "    </tr>\n",
              "    <tr>\n",
              "      <th>1</th>\n",
              "      <td>AAA</td>\n",
              "      <td>2013J</td>\n",
              "      <td>1753</td>\n",
              "      <td>TMA</td>\n",
              "      <td>54.0</td>\n",
              "      <td>20.0</td>\n",
              "    </tr>\n",
              "    <tr>\n",
              "      <th>2</th>\n",
              "      <td>AAA</td>\n",
              "      <td>2013J</td>\n",
              "      <td>1754</td>\n",
              "      <td>TMA</td>\n",
              "      <td>117.0</td>\n",
              "      <td>20.0</td>\n",
              "    </tr>\n",
              "    <tr>\n",
              "      <th>3</th>\n",
              "      <td>AAA</td>\n",
              "      <td>2013J</td>\n",
              "      <td>1755</td>\n",
              "      <td>TMA</td>\n",
              "      <td>166.0</td>\n",
              "      <td>20.0</td>\n",
              "    </tr>\n",
              "    <tr>\n",
              "      <th>4</th>\n",
              "      <td>AAA</td>\n",
              "      <td>2013J</td>\n",
              "      <td>1756</td>\n",
              "      <td>TMA</td>\n",
              "      <td>215.0</td>\n",
              "      <td>30.0</td>\n",
              "    </tr>\n",
              "    <tr>\n",
              "      <th>...</th>\n",
              "      <td>...</td>\n",
              "      <td>...</td>\n",
              "      <td>...</td>\n",
              "      <td>...</td>\n",
              "      <td>...</td>\n",
              "      <td>...</td>\n",
              "    </tr>\n",
              "    <tr>\n",
              "      <th>200</th>\n",
              "      <td>GGG</td>\n",
              "      <td>2014J</td>\n",
              "      <td>37442</td>\n",
              "      <td>CMA</td>\n",
              "      <td>229.0</td>\n",
              "      <td>0.0</td>\n",
              "    </tr>\n",
              "    <tr>\n",
              "      <th>201</th>\n",
              "      <td>GGG</td>\n",
              "      <td>2014J</td>\n",
              "      <td>37443</td>\n",
              "      <td>CMA</td>\n",
              "      <td>229.0</td>\n",
              "      <td>0.0</td>\n",
              "    </tr>\n",
              "    <tr>\n",
              "      <th>202</th>\n",
              "      <td>GGG</td>\n",
              "      <td>2014J</td>\n",
              "      <td>37435</td>\n",
              "      <td>TMA</td>\n",
              "      <td>61.0</td>\n",
              "      <td>0.0</td>\n",
              "    </tr>\n",
              "    <tr>\n",
              "      <th>203</th>\n",
              "      <td>GGG</td>\n",
              "      <td>2014J</td>\n",
              "      <td>37436</td>\n",
              "      <td>TMA</td>\n",
              "      <td>124.0</td>\n",
              "      <td>0.0</td>\n",
              "    </tr>\n",
              "    <tr>\n",
              "      <th>204</th>\n",
              "      <td>GGG</td>\n",
              "      <td>2014J</td>\n",
              "      <td>37437</td>\n",
              "      <td>TMA</td>\n",
              "      <td>173.0</td>\n",
              "      <td>0.0</td>\n",
              "    </tr>\n",
              "  </tbody>\n",
              "</table>\n",
              "<p>182 rows × 6 columns</p>\n",
              "</div>\n",
              "      <button class=\"colab-df-convert\" onclick=\"convertToInteractive('df-f478e4fa-a081-4ac4-a4a4-84f62e76c106')\"\n",
              "              title=\"Convert this dataframe to an interactive table.\"\n",
              "              style=\"display:none;\">\n",
              "        \n",
              "  <svg xmlns=\"http://www.w3.org/2000/svg\" height=\"24px\"viewBox=\"0 0 24 24\"\n",
              "       width=\"24px\">\n",
              "    <path d=\"M0 0h24v24H0V0z\" fill=\"none\"/>\n",
              "    <path d=\"M18.56 5.44l.94 2.06.94-2.06 2.06-.94-2.06-.94-.94-2.06-.94 2.06-2.06.94zm-11 1L8.5 8.5l.94-2.06 2.06-.94-2.06-.94L8.5 2.5l-.94 2.06-2.06.94zm10 10l.94 2.06.94-2.06 2.06-.94-2.06-.94-.94-2.06-.94 2.06-2.06.94z\"/><path d=\"M17.41 7.96l-1.37-1.37c-.4-.4-.92-.59-1.43-.59-.52 0-1.04.2-1.43.59L10.3 9.45l-7.72 7.72c-.78.78-.78 2.05 0 2.83L4 21.41c.39.39.9.59 1.41.59.51 0 1.02-.2 1.41-.59l7.78-7.78 2.81-2.81c.8-.78.8-2.07 0-2.86zM5.41 20L4 18.59l7.72-7.72 1.47 1.35L5.41 20z\"/>\n",
              "  </svg>\n",
              "      </button>\n",
              "      \n",
              "  <style>\n",
              "    .colab-df-container {\n",
              "      display:flex;\n",
              "      flex-wrap:wrap;\n",
              "      gap: 12px;\n",
              "    }\n",
              "\n",
              "    .colab-df-convert {\n",
              "      background-color: #E8F0FE;\n",
              "      border: none;\n",
              "      border-radius: 50%;\n",
              "      cursor: pointer;\n",
              "      display: none;\n",
              "      fill: #1967D2;\n",
              "      height: 32px;\n",
              "      padding: 0 0 0 0;\n",
              "      width: 32px;\n",
              "    }\n",
              "\n",
              "    .colab-df-convert:hover {\n",
              "      background-color: #E2EBFA;\n",
              "      box-shadow: 0px 1px 2px rgba(60, 64, 67, 0.3), 0px 1px 3px 1px rgba(60, 64, 67, 0.15);\n",
              "      fill: #174EA6;\n",
              "    }\n",
              "\n",
              "    [theme=dark] .colab-df-convert {\n",
              "      background-color: #3B4455;\n",
              "      fill: #D2E3FC;\n",
              "    }\n",
              "\n",
              "    [theme=dark] .colab-df-convert:hover {\n",
              "      background-color: #434B5C;\n",
              "      box-shadow: 0px 1px 3px 1px rgba(0, 0, 0, 0.15);\n",
              "      filter: drop-shadow(0px 1px 2px rgba(0, 0, 0, 0.3));\n",
              "      fill: #FFFFFF;\n",
              "    }\n",
              "  </style>\n",
              "\n",
              "      <script>\n",
              "        const buttonEl =\n",
              "          document.querySelector('#df-f478e4fa-a081-4ac4-a4a4-84f62e76c106 button.colab-df-convert');\n",
              "        buttonEl.style.display =\n",
              "          google.colab.kernel.accessAllowed ? 'block' : 'none';\n",
              "\n",
              "        async function convertToInteractive(key) {\n",
              "          const element = document.querySelector('#df-f478e4fa-a081-4ac4-a4a4-84f62e76c106');\n",
              "          const dataTable =\n",
              "            await google.colab.kernel.invokeFunction('convertToInteractive',\n",
              "                                                     [key], {});\n",
              "          if (!dataTable) return;\n",
              "\n",
              "          const docLinkHtml = 'Like what you see? Visit the ' +\n",
              "            '<a target=\"_blank\" href=https://colab.research.google.com/notebooks/data_table.ipynb>data table notebook</a>'\n",
              "            + ' to learn more about interactive tables.';\n",
              "          element.innerHTML = '';\n",
              "          dataTable['output_type'] = 'display_data';\n",
              "          await google.colab.output.renderOutput(dataTable, element);\n",
              "          const docLink = document.createElement('div');\n",
              "          docLink.innerHTML = docLinkHtml;\n",
              "          element.appendChild(docLink);\n",
              "        }\n",
              "      </script>\n",
              "    </div>\n",
              "  </div>\n",
              "  "
            ],
            "text/plain": [
              "    code_module code_presentation  id_assessment assessment_type   date  weight\n",
              "0           AAA             2013J           1752             TMA   19.0    10.0\n",
              "1           AAA             2013J           1753             TMA   54.0    20.0\n",
              "2           AAA             2013J           1754             TMA  117.0    20.0\n",
              "3           AAA             2013J           1755             TMA  166.0    20.0\n",
              "4           AAA             2013J           1756             TMA  215.0    30.0\n",
              "..          ...               ...            ...             ...    ...     ...\n",
              "200         GGG             2014J          37442             CMA  229.0     0.0\n",
              "201         GGG             2014J          37443             CMA  229.0     0.0\n",
              "202         GGG             2014J          37435             TMA   61.0     0.0\n",
              "203         GGG             2014J          37436             TMA  124.0     0.0\n",
              "204         GGG             2014J          37437             TMA  173.0     0.0\n",
              "\n",
              "[182 rows x 6 columns]"
            ]
          },
          "metadata": {},
          "execution_count": 37
        }
      ]
    },
    {
      "cell_type": "markdown",
      "source": [
        "### Merge other_df and all other student_info"
      ],
      "metadata": {
        "id": "85x85CkjjixN"
      }
    },
    {
      "cell_type": "code",
      "source": [
        "def merge_df(student_info_df, other_df, on, how='inner'):\n",
        "  student_all_info = pd.merge(student_info_df,other_df,on=on, how=how)\n",
        "\n",
        "  return student_all_info"
      ],
      "metadata": {
        "id": "OSn6fgaOi-mv"
      },
      "execution_count": null,
      "outputs": []
    },
    {
      "cell_type": "markdown",
      "metadata": {
        "id": "Aquh2SL95X1z"
      },
      "source": [
        "### Join assessment data with individual student assessments"
      ]
    },
    {
      "cell_type": "code",
      "source": [
        "def get_score_data(assessments_df, student_assessments_df, score_deadline):\n",
        "  # drop columns not required to join with student_assessments_df\n",
        "  assessments_df.drop(['weight'], axis = 1, inplace = True)\n",
        "  assessments_df.code_module.value_counts()\n",
        "\n",
        "  # merge each student assessments with assessment data\n",
        "  combined_assessment = pd.merge(student_assessments_df,assessments_df,on='id_assessment')\n",
        "  combined_assessment.drop(['is_banked','date_submitted'],axis = 1,inplace=True)\n",
        "\n",
        "  # Get all assessments which are not the final exam and happened before a certain date\n",
        "  combined_assessment = combined_assessment[(combined_assessment['assessment_type'] != 'Exam') & (combined_assessment['date'] <= score_deadline)]\n",
        "\n",
        "  grouped_student_assessments = combined_assessment.groupby(['id_student','code_module','code_presentation']).mean()\n",
        "  grouped_student_assessments.drop(['id_assessment', 'date'],axis=1,inplace = True)\n",
        "\n",
        "  return grouped_student_assessments"
      ],
      "metadata": {
        "id": "607N6K-tfCfc"
      },
      "execution_count": null,
      "outputs": []
    },
    {
      "cell_type": "markdown",
      "metadata": {
        "id": "qtxteGf5_5vb"
      },
      "source": [
        "### Get the number of clicks by a deadline"
      ]
    },
    {
      "cell_type": "code",
      "source": [
        "# click data\n",
        "def inner_merge(left_df,right_df,right_cols,on_cols):\n",
        "    right_df = right_df[right_cols]\n",
        "    left_df = left_df.merge(right_df, on = on_cols)\n",
        "    return left_df.drop_duplicates()\n",
        "\n",
        "\n",
        "def get_click_data(student_vle_df,vle_df,click_deadline):\n",
        "\n",
        "  def clicks_from(clicks, deadline):\n",
        "    temp = clicks[clicks['date'] <= deadline]\n",
        "    temp = temp.drop('date', axis = 1)\n",
        "    temp = temp.groupby(['code_module','code_presentation','id_student','activity_type']).mean()\n",
        "    temp = temp.rename(columns = {'sum_click': f'sum_click{deadline} mean'})\n",
        "    temp = temp.reset_index() # this fills out the missing columns for merging later \n",
        "    return temp\n",
        "\n",
        "  clicks = inner_merge(student_vle_df,\n",
        "                        vle_df,\n",
        "                        ['id_site','code_module','code_presentation','activity_type'],\n",
        "                        ['id_site','code_module','code_presentation'],\n",
        "                      )\n",
        "\n",
        "  clicks = clicks.drop(['id_site'], axis = 1)\n",
        "\n",
        "  #clicks = clicks.groupby(['code_module','code_presentation','id_student','activity_type']).sum().reset_index()\n",
        "\n",
        "  sum_click_df = pd.pivot_table(data = clicks_from(clicks,click_deadline), \n",
        "                              index = ['code_module','code_presentation','id_student'],\n",
        "                              columns = 'activity_type', \n",
        "                              values = [f'sum_click{click_deadline} mean'],\n",
        "                              fill_value = 0,\n",
        "                              ).reset_index()\n",
        "\n",
        "  # get rid of multi index\n",
        "  sum_click_df = pd.concat([sum_click_df['code_module'],\n",
        "                            sum_click_df['code_presentation'],\n",
        "                            sum_click_df['id_student'], \n",
        "                            sum_click_df[f'sum_click{click_deadline} mean']], axis=1)\n",
        "\n",
        "  temp = sum_click_df.groupby(['code_module','code_presentation','id_student']).mean(numeric_only=True)\n",
        "\n",
        "  temp2 = pd.DataFrame()\n",
        "  temp2['mean_click'] = temp.mean(axis=1)\n",
        "  sum_click_df = pd.merge(sum_click_df,temp2,on = ['id_student','code_module','code_presentation'],how='left')\n",
        "\n",
        "  return sum_click_df"
      ],
      "metadata": {
        "id": "xIudDhhnu_4f"
      },
      "execution_count": null,
      "outputs": []
    },
    {
      "cell_type": "code",
      "source": [
        "def tidy_up_dataset(student_all_info):\n",
        "  # remove rows with null\n",
        "  student_all_info.dropna(inplace=True)\n",
        "\n",
        "  # replace final result string with numerical representation\n",
        "  student_all_info.final_result = student_all_info.final_result.replace({'Withdrawn':0,'Fail':1,'Pass':2,'Distinction':3})\n",
        "\n",
        "  # remove withdrawnn students\n",
        "  student_all_info = student_all_info[student_all_info.final_result != 0]\n",
        "\n",
        "  return student_all_info"
      ],
      "metadata": {
        "id": "Dn7-jFeesgKN"
      },
      "execution_count": null,
      "outputs": []
    },
    {
      "cell_type": "code",
      "source": [
        "import os\n",
        "\n",
        "deadline_list = [30,60,90,120,150,180,210,240,270]\n",
        "\n",
        "for DEADLINE in deadline_list:\n",
        "  if not os.path.exists(f'{DEADLINE}'):\n",
        "    os.makedirs(f'{DEADLINE}')\n",
        "\n",
        "  score_df = get_score_data(assessments_df.copy(), student_assessments_df.copy(), DEADLINE)\n",
        "  student_all_info = merge_df(student_info_df.copy(), score_df.copy(), on='id_student')\n",
        "\n",
        "  sum_click_df = get_click_data(student_vle_df.copy(),vle_df.copy(),DEADLINE)\n",
        "  student_all_info = merge_df(student_info_df.copy(), sum_click_df.copy(), on = ['id_student','code_module','code_presentation'],how='left')\n",
        "\n",
        "  student_all_info = tidy_up_dataset(student_all_info.copy())\n",
        "\n",
        "  student_all_info.to_csv(f'{DEADLINE}/oulad_dataset_combined_{DEADLINE}.csv', index=False)"
      ],
      "metadata": {
        "id": "rdgxKwNEzuhd"
      },
      "execution_count": null,
      "outputs": []
    },
    {
      "cell_type": "code",
      "source": [
        ""
      ],
      "metadata": {
        "id": "IiTs5VZO39re"
      },
      "execution_count": null,
      "outputs": []
    }
  ]
}