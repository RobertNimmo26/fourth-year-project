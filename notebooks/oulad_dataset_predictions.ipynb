{
  "nbformat": 4,
  "nbformat_minor": 0,
  "metadata": {
    "kernelspec": {
      "display_name": "Python 3",
      "language": "python",
      "name": "python3"
    },
    "language_info": {
      "codemirror_mode": {
        "name": "ipython",
        "version": 3
      },
      "file_extension": ".py",
      "mimetype": "text/x-python",
      "name": "python",
      "nbconvert_exporter": "python",
      "pygments_lexer": "ipython3",
      "version": "3.7.4"
    },
    "colab": {
      "name": "oulad_dataset_predictions.ipynb",
      "provenance": [],
      "collapsed_sections": []
    }
  },
  "cells": [
    {
      "cell_type": "markdown",
      "metadata": {
        "id": "50rs6MLKz5fn"
      },
      "source": [
        "# Join Dataset"
      ]
    },
    {
      "cell_type": "markdown",
      "metadata": {
        "id": "k-CKgOJr0C7W"
      },
      "source": [
        "### GDrive setup"
      ]
    },
    {
      "cell_type": "code",
      "metadata": {
        "colab": {
          "base_uri": "https://localhost:8080/"
        },
        "id": "2puHe1Ty0Gn4",
        "outputId": "8374e8c9-2fcd-47e6-e0b6-7a5ac7fd44f8"
      },
      "source": [
        "from google.colab import drive\n",
        "drive.mount('/content/drive')"
      ],
      "execution_count": 1,
      "outputs": [
        {
          "output_type": "stream",
          "name": "stdout",
          "text": [
            "Mounted at /content/drive\n"
          ]
        }
      ]
    },
    {
      "cell_type": "code",
      "metadata": {
        "colab": {
          "base_uri": "https://localhost:8080/"
        },
        "id": "ArM2sqXK2cG3",
        "outputId": "fd0ece8e-8276-4be9-ac76-f5b2bddf9abf"
      },
      "source": [
        "cd 'drive/My Drive/Colab Notebooks/4th year project/OULAD dataset'"
      ],
      "execution_count": 2,
      "outputs": [
        {
          "output_type": "stream",
          "name": "stdout",
          "text": [
            "/content/drive/My Drive/Colab Notebooks/4th year project/OULAD dataset\n"
          ]
        }
      ]
    },
    {
      "cell_type": "code",
      "metadata": {
        "colab": {
          "base_uri": "https://localhost:8080/"
        },
        "id": "p9ayAhws2evi",
        "outputId": "d3556754-19ad-4c11-bbf3-5edd0a2b940d"
      },
      "source": [
        "ls"
      ],
      "execution_count": 3,
      "outputs": [
        {
          "output_type": "stream",
          "name": "stdout",
          "text": [
            "\u001b[0m\u001b[01;34manonymisedOUDataSet\u001b[0m/  StudentAssessmentDaysDeadline.csv\n"
          ]
        }
      ]
    },
    {
      "cell_type": "markdown",
      "metadata": {
        "id": "v3Uycz2vz5fx"
      },
      "source": [
        "## Setup"
      ]
    },
    {
      "cell_type": "code",
      "metadata": {
        "id": "SmyB7uFCz5fz"
      },
      "source": [
        "import pandas as pd\n",
        "import numpy as np\n",
        "import matplotlib.pyplot as plt\n",
        "import seaborn as sns"
      ],
      "execution_count": 4,
      "outputs": []
    },
    {
      "cell_type": "code",
      "metadata": {
        "id": "YO6dS31xz5f2"
      },
      "source": [
        "assessments_df = pd.read_csv('../OULAD dataset/anonymisedOUDataSet/assessments.csv')\n",
        "courses_df = pd.read_csv('../OULAD dataset/anonymisedOUDataSet/courses.csv')\n",
        "student_assessments_df = pd.read_csv('../OULAD dataset/anonymisedOUDataSet/studentAssessment.csv')\n",
        "student_info_df = pd.read_csv('../OULAD dataset/anonymisedOUDataSet/studentInfo.csv')\n",
        "student_registration_df = pd.read_csv('../OULAD dataset/anonymisedOUDataSet/studentRegistration.csv')\n",
        "student_vle_df = pd.read_csv('../OULAD dataset/anonymisedOUDataSet/studentVle.csv')\n",
        "vle_df = pd.read_csv('../OULAD dataset/anonymisedOUDataSet/vle.csv')\n",
        "\n",
        "sa_days_deadline_df = pd.read_csv('../OULAD dataset/StudentAssessmentDaysDeadline.csv')\n",
        "\n",
        "sns.set(rc={'figure.figsize':(11.7,8.27)})"
      ],
      "execution_count": 5,
      "outputs": []
    },
    {
      "cell_type": "markdown",
      "metadata": {
        "id": "Aquh2SL95X1z"
      },
      "source": [
        "### Join assessment data with individual student assessments"
      ]
    },
    {
      "cell_type": "code",
      "metadata": {
        "execution": {
          "iopub.execute_input": "2021-11-24T15:49:22.443734Z",
          "iopub.status.busy": "2021-11-24T15:49:22.443113Z",
          "iopub.status.idle": "2021-11-24T15:49:22.457776Z",
          "shell.execute_reply": "2021-11-24T15:49:22.456671Z",
          "shell.execute_reply.started": "2021-11-24T15:49:22.443686Z"
        },
        "id": "7gtDyT3Lz5f6",
        "colab": {
          "base_uri": "https://localhost:8080/"
        },
        "outputId": "b7bd276d-2ba2-4500-8ed4-0ee43aa0e165"
      },
      "source": [
        "# drop columns not required to join with student_assessments_df\n",
        "assessments_df.drop(['code_presentation','assessment_type','date','weight'], axis = 1, inplace = True)\n",
        "assessments_df.code_module.value_counts()"
      ],
      "execution_count": 6,
      "outputs": [
        {
          "output_type": "execute_result",
          "data": {
            "text/plain": [
              "FFF    52\n",
              "BBB    42\n",
              "DDD    35\n",
              "GGG    30\n",
              "CCC    20\n",
              "EEE    15\n",
              "AAA    12\n",
              "Name: code_module, dtype: int64"
            ]
          },
          "metadata": {},
          "execution_count": 6
        }
      ]
    },
    {
      "cell_type": "code",
      "metadata": {
        "execution": {
          "iopub.execute_input": "2021-11-24T15:49:22.459829Z",
          "iopub.status.busy": "2021-11-24T15:49:22.459264Z",
          "iopub.status.idle": "2021-11-24T15:49:22.489154Z",
          "shell.execute_reply": "2021-11-24T15:49:22.488437Z",
          "shell.execute_reply.started": "2021-11-24T15:49:22.459794Z"
        },
        "id": "SQOeVzVOz5f8",
        "colab": {
          "base_uri": "https://localhost:8080/",
          "height": 206
        },
        "outputId": "bde577a0-7ef2-47c3-e6f7-db7f09bb01a7"
      },
      "source": [
        "# merge each student assessments with assessment data\n",
        "combined_assessment = pd.merge(student_assessments_df,assessments_df,on='id_assessment')\n",
        "combined_assessment.drop(['is_banked','date_submitted'],axis = 1,inplace=True)\n",
        "combined_assessment.head()"
      ],
      "execution_count": 7,
      "outputs": [
        {
          "output_type": "execute_result",
          "data": {
            "text/html": [
              "<div>\n",
              "<style scoped>\n",
              "    .dataframe tbody tr th:only-of-type {\n",
              "        vertical-align: middle;\n",
              "    }\n",
              "\n",
              "    .dataframe tbody tr th {\n",
              "        vertical-align: top;\n",
              "    }\n",
              "\n",
              "    .dataframe thead th {\n",
              "        text-align: right;\n",
              "    }\n",
              "</style>\n",
              "<table border=\"1\" class=\"dataframe\">\n",
              "  <thead>\n",
              "    <tr style=\"text-align: right;\">\n",
              "      <th></th>\n",
              "      <th>id_assessment</th>\n",
              "      <th>id_student</th>\n",
              "      <th>score</th>\n",
              "      <th>code_module</th>\n",
              "    </tr>\n",
              "  </thead>\n",
              "  <tbody>\n",
              "    <tr>\n",
              "      <th>0</th>\n",
              "      <td>1752</td>\n",
              "      <td>11391</td>\n",
              "      <td>78.0</td>\n",
              "      <td>AAA</td>\n",
              "    </tr>\n",
              "    <tr>\n",
              "      <th>1</th>\n",
              "      <td>1752</td>\n",
              "      <td>28400</td>\n",
              "      <td>70.0</td>\n",
              "      <td>AAA</td>\n",
              "    </tr>\n",
              "    <tr>\n",
              "      <th>2</th>\n",
              "      <td>1752</td>\n",
              "      <td>31604</td>\n",
              "      <td>72.0</td>\n",
              "      <td>AAA</td>\n",
              "    </tr>\n",
              "    <tr>\n",
              "      <th>3</th>\n",
              "      <td>1752</td>\n",
              "      <td>32885</td>\n",
              "      <td>69.0</td>\n",
              "      <td>AAA</td>\n",
              "    </tr>\n",
              "    <tr>\n",
              "      <th>4</th>\n",
              "      <td>1752</td>\n",
              "      <td>38053</td>\n",
              "      <td>79.0</td>\n",
              "      <td>AAA</td>\n",
              "    </tr>\n",
              "  </tbody>\n",
              "</table>\n",
              "</div>"
            ],
            "text/plain": [
              "   id_assessment  id_student  score code_module\n",
              "0           1752       11391   78.0         AAA\n",
              "1           1752       28400   70.0         AAA\n",
              "2           1752       31604   72.0         AAA\n",
              "3           1752       32885   69.0         AAA\n",
              "4           1752       38053   79.0         AAA"
            ]
          },
          "metadata": {},
          "execution_count": 7
        }
      ]
    },
    {
      "cell_type": "code",
      "metadata": {
        "execution": {
          "iopub.execute_input": "2021-11-24T15:49:22.493378Z",
          "iopub.status.busy": "2021-11-24T15:49:22.490379Z",
          "iopub.status.idle": "2021-11-24T15:49:22.538936Z",
          "shell.execute_reply": "2021-11-24T15:49:22.537949Z",
          "shell.execute_reply.started": "2021-11-24T15:49:22.493330Z"
        },
        "id": "Ss1f0Uhvz5f-",
        "colab": {
          "base_uri": "https://localhost:8080/",
          "height": 237
        },
        "outputId": "0642b51b-0bff-4286-a98f-af5524735ae9"
      },
      "source": [
        "# group assessments by student then course\n",
        "grouped_student_assessments = combined_assessment.groupby(['id_student','code_module']).mean()\n",
        "grouped_student_assessments.sort_values('id_student')\n",
        "\n",
        "grouped_student_assessments.drop(['id_assessment'],axis=1,inplace = True)\n",
        "grouped_student_assessments.head()"
      ],
      "execution_count": 8,
      "outputs": [
        {
          "output_type": "execute_result",
          "data": {
            "text/html": [
              "<div>\n",
              "<style scoped>\n",
              "    .dataframe tbody tr th:only-of-type {\n",
              "        vertical-align: middle;\n",
              "    }\n",
              "\n",
              "    .dataframe tbody tr th {\n",
              "        vertical-align: top;\n",
              "    }\n",
              "\n",
              "    .dataframe thead th {\n",
              "        text-align: right;\n",
              "    }\n",
              "</style>\n",
              "<table border=\"1\" class=\"dataframe\">\n",
              "  <thead>\n",
              "    <tr style=\"text-align: right;\">\n",
              "      <th></th>\n",
              "      <th></th>\n",
              "      <th>score</th>\n",
              "    </tr>\n",
              "    <tr>\n",
              "      <th>id_student</th>\n",
              "      <th>code_module</th>\n",
              "      <th></th>\n",
              "    </tr>\n",
              "  </thead>\n",
              "  <tbody>\n",
              "    <tr>\n",
              "      <th>6516</th>\n",
              "      <th>AAA</th>\n",
              "      <td>61.800000</td>\n",
              "    </tr>\n",
              "    <tr>\n",
              "      <th>8462</th>\n",
              "      <th>DDD</th>\n",
              "      <td>87.000000</td>\n",
              "    </tr>\n",
              "    <tr>\n",
              "      <th>11391</th>\n",
              "      <th>AAA</th>\n",
              "      <td>82.000000</td>\n",
              "    </tr>\n",
              "    <tr>\n",
              "      <th>23629</th>\n",
              "      <th>BBB</th>\n",
              "      <td>82.500000</td>\n",
              "    </tr>\n",
              "    <tr>\n",
              "      <th>23698</th>\n",
              "      <th>CCC</th>\n",
              "      <td>74.444444</td>\n",
              "    </tr>\n",
              "  </tbody>\n",
              "</table>\n",
              "</div>"
            ],
            "text/plain": [
              "                            score\n",
              "id_student code_module           \n",
              "6516       AAA          61.800000\n",
              "8462       DDD          87.000000\n",
              "11391      AAA          82.000000\n",
              "23629      BBB          82.500000\n",
              "23698      CCC          74.444444"
            ]
          },
          "metadata": {},
          "execution_count": 8
        }
      ]
    },
    {
      "cell_type": "markdown",
      "metadata": {
        "id": "iEiGcMvB-I5R"
      },
      "source": [
        "#### Plot the number of modules each student takes"
      ]
    },
    {
      "cell_type": "code",
      "metadata": {
        "execution": {
          "iopub.execute_input": "2021-11-24T15:49:22.540955Z",
          "iopub.status.busy": "2021-11-24T15:49:22.540386Z",
          "iopub.status.idle": "2021-11-24T15:49:22.745013Z",
          "shell.execute_reply": "2021-11-24T15:49:22.744208Z",
          "shell.execute_reply.started": "2021-11-24T15:49:22.540911Z"
        },
        "id": "EqJLw3EYz5gB",
        "colab": {
          "base_uri": "https://localhost:8080/",
          "height": 551
        },
        "outputId": "35b4bfd9-edf6-432a-f06c-481f0ecb43da"
      },
      "source": [
        "student_all_info = pd.merge(student_info_df,grouped_student_assessments,on='id_student')\n",
        "fig1 = student_all_info.groupby(['id_student']).code_module.count().sort_values().hist()\n",
        "fig1.set_title('Number of modules by student')\n",
        "fig1.set_xlabel('Number of modules')\n",
        "fig1.set_ylabel('Number of students')"
      ],
      "execution_count": 9,
      "outputs": [
        {
          "output_type": "execute_result",
          "data": {
            "text/plain": [
              "Text(0, 0.5, 'Number of students')"
            ]
          },
          "metadata": {},
          "execution_count": 9
        },
        {
          "output_type": "display_data",
          "data": {
            "image/png": "[encoded data removed]",
            "text/plain": [
              "<Figure size 842.4x595.44 with 1 Axes>"
            ]
          },
          "metadata": {}
        }
      ]
    },
    {
      "cell_type": "markdown",
      "metadata": {
        "id": "qtxteGf5_5vb"
      },
      "source": [
        "#### Number of sum clicks per student"
      ]
    },
    {
      "cell_type": "code",
      "metadata": {
        "execution": {
          "iopub.execute_input": "2021-11-24T15:49:22.747286Z",
          "iopub.status.busy": "2021-11-24T15:49:22.746734Z",
          "iopub.status.idle": "2021-11-24T15:49:24.586027Z",
          "shell.execute_reply": "2021-11-24T15:49:24.585258Z",
          "shell.execute_reply.started": "2021-11-24T15:49:22.747240Z"
        },
        "id": "KtkzDCXBz5gE",
        "colab": {
          "base_uri": "https://localhost:8080/",
          "height": 237
        },
        "outputId": "bd3b6744-d4ba-4f63-bf79-4908192b531b"
      },
      "source": [
        "# number of clicks a student makes for a module a day\n",
        "grouped_vle_sum_clicks = student_vle_df.groupby(['id_student','code_module']).sum()\n",
        "\n",
        "# Remove uneeded columns\n",
        "grouped_vle_sum_clicks.drop(['id_site','date'],axis=1,inplace=True)\n",
        "grouped_vle_sum_clicks.head()"
      ],
      "execution_count": 10,
      "outputs": [
        {
          "output_type": "execute_result",
          "data": {
            "text/html": [
              "<div>\n",
              "<style scoped>\n",
              "    .dataframe tbody tr th:only-of-type {\n",
              "        vertical-align: middle;\n",
              "    }\n",
              "\n",
              "    .dataframe tbody tr th {\n",
              "        vertical-align: top;\n",
              "    }\n",
              "\n",
              "    .dataframe thead th {\n",
              "        text-align: right;\n",
              "    }\n",
              "</style>\n",
              "<table border=\"1\" class=\"dataframe\">\n",
              "  <thead>\n",
              "    <tr style=\"text-align: right;\">\n",
              "      <th></th>\n",
              "      <th></th>\n",
              "      <th>sum_click</th>\n",
              "    </tr>\n",
              "    <tr>\n",
              "      <th>id_student</th>\n",
              "      <th>code_module</th>\n",
              "      <th></th>\n",
              "    </tr>\n",
              "  </thead>\n",
              "  <tbody>\n",
              "    <tr>\n",
              "      <th>6516</th>\n",
              "      <th>AAA</th>\n",
              "      <td>2791</td>\n",
              "    </tr>\n",
              "    <tr>\n",
              "      <th>8462</th>\n",
              "      <th>DDD</th>\n",
              "      <td>656</td>\n",
              "    </tr>\n",
              "    <tr>\n",
              "      <th>11391</th>\n",
              "      <th>AAA</th>\n",
              "      <td>934</td>\n",
              "    </tr>\n",
              "    <tr>\n",
              "      <th>23629</th>\n",
              "      <th>BBB</th>\n",
              "      <td>161</td>\n",
              "    </tr>\n",
              "    <tr>\n",
              "      <th>23698</th>\n",
              "      <th>CCC</th>\n",
              "      <td>910</td>\n",
              "    </tr>\n",
              "  </tbody>\n",
              "</table>\n",
              "</div>"
            ],
            "text/plain": [
              "                        sum_click\n",
              "id_student code_module           \n",
              "6516       AAA               2791\n",
              "8462       DDD                656\n",
              "11391      AAA                934\n",
              "23629      BBB                161\n",
              "23698      CCC                910"
            ]
          },
          "metadata": {},
          "execution_count": 10
        }
      ]
    },
    {
      "cell_type": "code",
      "metadata": {
        "execution": {
          "iopub.execute_input": "2021-11-24T15:49:24.589464Z",
          "iopub.status.busy": "2021-11-24T15:49:24.589138Z",
          "iopub.status.idle": "2021-11-24T15:49:24.621484Z",
          "shell.execute_reply": "2021-11-24T15:49:24.620407Z",
          "shell.execute_reply.started": "2021-11-24T15:49:24.589434Z"
        },
        "id": "MSLv94y3z5gG"
      },
      "source": [
        "# merge grouped_vle_sum_clicks to student_all_info to a new dataframe called df\n",
        "df = pd.merge(student_all_info,grouped_vle_sum_clicks,on = ['id_student','code_module'],how='left')"
      ],
      "execution_count": 11,
      "outputs": []
    },
    {
      "cell_type": "code",
      "metadata": {
        "execution": {
          "iopub.execute_input": "2021-11-24T15:49:24.623184Z",
          "iopub.status.busy": "2021-11-24T15:49:24.622869Z",
          "iopub.status.idle": "2021-11-24T15:49:24.663722Z",
          "shell.execute_reply": "2021-11-24T15:49:24.662819Z",
          "shell.execute_reply.started": "2021-11-24T15:49:24.623141Z"
        },
        "id": "l6vJXeC7z5gH"
      },
      "source": [
        "# remove rows with null\n",
        "df.dropna(inplace=True)"
      ],
      "execution_count": 12,
      "outputs": []
    },
    {
      "cell_type": "code",
      "metadata": {
        "execution": {
          "iopub.execute_input": "2021-11-24T15:49:24.675966Z",
          "iopub.status.busy": "2021-11-24T15:49:24.675582Z",
          "iopub.status.idle": "2021-11-24T15:49:24.715515Z",
          "shell.execute_reply": "2021-11-24T15:49:24.714712Z",
          "shell.execute_reply.started": "2021-11-24T15:49:24.675937Z"
        },
        "id": "Nj52q4qfz5gJ"
      },
      "source": [
        "# categorise df columns\n",
        "df.code_module = pd.Categorical(df.code_module)\n",
        "df.code_presentation = pd.Categorical(df.code_presentation)\n",
        "df.gender = pd.Categorical(df.gender)\n",
        "df.region = pd.Categorical(df.region)\n",
        "df.highest_education = pd.Categorical(df.highest_education)\n",
        "df.imd_band = pd.Categorical(df.imd_band)\n",
        "df.age_band = pd.Categorical(df.age_band)\n",
        "df.disability = pd.Categorical(df.disability)\n",
        "df.final_result = pd.Categorical(df.final_result)"
      ],
      "execution_count": 13,
      "outputs": []
    },
    {
      "cell_type": "code",
      "metadata": {
        "execution": {
          "iopub.execute_input": "2021-11-24T15:49:24.731759Z",
          "iopub.status.busy": "2021-11-24T15:49:24.731382Z",
          "iopub.status.idle": "2021-11-24T15:49:24.757195Z",
          "shell.execute_reply": "2021-11-24T15:49:24.756380Z",
          "shell.execute_reply.started": "2021-11-24T15:49:24.731730Z"
        },
        "id": "m925Y4SBz5gK"
      },
      "source": [
        "# replace final result string with numerical representation\n",
        "df.final_result = df.final_result.replace({'Withdrawn':0,'Fail':1,'Pass':2,'Distinction':3})"
      ],
      "execution_count": 14,
      "outputs": []
    },
    {
      "cell_type": "markdown",
      "metadata": {
        "id": "TdHcyLriFvuv"
      },
      "source": [
        "### Module AAA - statistics"
      ]
    },
    {
      "cell_type": "code",
      "metadata": {
        "execution": {
          "iopub.execute_input": "2021-11-24T15:49:24.763478Z",
          "iopub.status.busy": "2021-11-24T15:49:24.763188Z",
          "iopub.status.idle": "2021-11-24T15:49:24.782091Z",
          "shell.execute_reply": "2021-11-24T15:49:24.781160Z",
          "shell.execute_reply.started": "2021-11-24T15:49:24.763449Z"
        },
        "id": "OLHnkl_cz5gL",
        "colab": {
          "base_uri": "https://localhost:8080/"
        },
        "outputId": "e1c72c98-85d7-4eaf-e163-542905232d0d"
      },
      "source": [
        "# select every \n",
        "module_AAA = df.loc[df['code_module'] == \"AAA\"]\n",
        "\n",
        "#module_AAA = module_AAA.loc[module_AAA['sum_click'] > 50]\n",
        "\n",
        "# 2 results - pass or fail\n",
        "module_AAA['final_result'] = module_AAA['final_result'].replace({1:0, 2:1, 3:1})\n",
        "module_AAA.shape"
      ],
      "execution_count": 15,
      "outputs": [
        {
          "output_type": "stream",
          "name": "stderr",
          "text": [
            "/usr/local/lib/python3.7/dist-packages/ipykernel_launcher.py:7: SettingWithCopyWarning: \n",
            "A value is trying to be set on a copy of a slice from a DataFrame.\n",
            "Try using .loc[row_indexer,col_indexer] = value instead\n",
            "\n",
            "See the caveats in the documentation: https://pandas.pydata.org/pandas-docs/stable/user_guide/indexing.html#returning-a-view-versus-a-copy\n",
            "  import sys\n"
          ]
        },
        {
          "output_type": "execute_result",
          "data": {
            "text/plain": [
              "(690, 14)"
            ]
          },
          "metadata": {},
          "execution_count": 15
        }
      ]
    },
    {
      "cell_type": "code",
      "metadata": {
        "colab": {
          "base_uri": "https://localhost:8080/",
          "height": 347
        },
        "id": "ogKYpjI0G_Nx",
        "outputId": "c194a744-c3d2-423b-ce7a-aa5234908452"
      },
      "source": [
        "module_AAA.head()"
      ],
      "execution_count": 16,
      "outputs": [
        {
          "output_type": "execute_result",
          "data": {
            "text/html": [
              "<div>\n",
              "<style scoped>\n",
              "    .dataframe tbody tr th:only-of-type {\n",
              "        vertical-align: middle;\n",
              "    }\n",
              "\n",
              "    .dataframe tbody tr th {\n",
              "        vertical-align: top;\n",
              "    }\n",
              "\n",
              "    .dataframe thead th {\n",
              "        text-align: right;\n",
              "    }\n",
              "</style>\n",
              "<table border=\"1\" class=\"dataframe\">\n",
              "  <thead>\n",
              "    <tr style=\"text-align: right;\">\n",
              "      <th></th>\n",
              "      <th>code_module</th>\n",
              "      <th>code_presentation</th>\n",
              "      <th>id_student</th>\n",
              "      <th>gender</th>\n",
              "      <th>region</th>\n",
              "      <th>highest_education</th>\n",
              "      <th>imd_band</th>\n",
              "      <th>age_band</th>\n",
              "      <th>num_of_prev_attempts</th>\n",
              "      <th>studied_credits</th>\n",
              "      <th>disability</th>\n",
              "      <th>final_result</th>\n",
              "      <th>score</th>\n",
              "      <th>sum_click</th>\n",
              "    </tr>\n",
              "  </thead>\n",
              "  <tbody>\n",
              "    <tr>\n",
              "      <th>0</th>\n",
              "      <td>AAA</td>\n",
              "      <td>2013J</td>\n",
              "      <td>11391</td>\n",
              "      <td>M</td>\n",
              "      <td>East Anglian Region</td>\n",
              "      <td>HE Qualification</td>\n",
              "      <td>90-100%</td>\n",
              "      <td>55&lt;=</td>\n",
              "      <td>0</td>\n",
              "      <td>240</td>\n",
              "      <td>N</td>\n",
              "      <td>1</td>\n",
              "      <td>82.0</td>\n",
              "      <td>934.0</td>\n",
              "    </tr>\n",
              "    <tr>\n",
              "      <th>1</th>\n",
              "      <td>AAA</td>\n",
              "      <td>2013J</td>\n",
              "      <td>28400</td>\n",
              "      <td>F</td>\n",
              "      <td>Scotland</td>\n",
              "      <td>HE Qualification</td>\n",
              "      <td>20-30%</td>\n",
              "      <td>35-55</td>\n",
              "      <td>0</td>\n",
              "      <td>60</td>\n",
              "      <td>N</td>\n",
              "      <td>1</td>\n",
              "      <td>66.4</td>\n",
              "      <td>1435.0</td>\n",
              "    </tr>\n",
              "    <tr>\n",
              "      <th>2</th>\n",
              "      <td>AAA</td>\n",
              "      <td>2013J</td>\n",
              "      <td>31604</td>\n",
              "      <td>F</td>\n",
              "      <td>South East Region</td>\n",
              "      <td>A Level or Equivalent</td>\n",
              "      <td>50-60%</td>\n",
              "      <td>35-55</td>\n",
              "      <td>0</td>\n",
              "      <td>60</td>\n",
              "      <td>N</td>\n",
              "      <td>1</td>\n",
              "      <td>76.0</td>\n",
              "      <td>2158.0</td>\n",
              "    </tr>\n",
              "    <tr>\n",
              "      <th>3</th>\n",
              "      <td>AAA</td>\n",
              "      <td>2013J</td>\n",
              "      <td>32885</td>\n",
              "      <td>F</td>\n",
              "      <td>West Midlands Region</td>\n",
              "      <td>Lower Than A Level</td>\n",
              "      <td>50-60%</td>\n",
              "      <td>0-35</td>\n",
              "      <td>0</td>\n",
              "      <td>60</td>\n",
              "      <td>N</td>\n",
              "      <td>1</td>\n",
              "      <td>54.4</td>\n",
              "      <td>1034.0</td>\n",
              "    </tr>\n",
              "    <tr>\n",
              "      <th>4</th>\n",
              "      <td>AAA</td>\n",
              "      <td>2013J</td>\n",
              "      <td>38053</td>\n",
              "      <td>M</td>\n",
              "      <td>Wales</td>\n",
              "      <td>A Level or Equivalent</td>\n",
              "      <td>80-90%</td>\n",
              "      <td>35-55</td>\n",
              "      <td>0</td>\n",
              "      <td>60</td>\n",
              "      <td>N</td>\n",
              "      <td>1</td>\n",
              "      <td>68.0</td>\n",
              "      <td>2445.0</td>\n",
              "    </tr>\n",
              "  </tbody>\n",
              "</table>\n",
              "</div>"
            ],
            "text/plain": [
              "  code_module code_presentation  id_student  ... final_result score sum_click\n",
              "0         AAA             2013J       11391  ...            1  82.0     934.0\n",
              "1         AAA             2013J       28400  ...            1  66.4    1435.0\n",
              "2         AAA             2013J       31604  ...            1  76.0    2158.0\n",
              "3         AAA             2013J       32885  ...            1  54.4    1034.0\n",
              "4         AAA             2013J       38053  ...            1  68.0    2445.0\n",
              "\n",
              "[5 rows x 14 columns]"
            ]
          },
          "metadata": {},
          "execution_count": 16
        }
      ]
    },
    {
      "cell_type": "code",
      "metadata": {
        "colab": {
          "base_uri": "https://localhost:8080/",
          "height": 423
        },
        "id": "8YGXkHqjGKhP",
        "outputId": "d368617f-d426-4b27-fa6f-c5a36ed45a22"
      },
      "source": [
        "# students who completed the module >1 are included\n",
        "module_AAA.groupby('id_student',as_index=False).size().sort_values(by='size')"
      ],
      "execution_count": 17,
      "outputs": [
        {
          "output_type": "execute_result",
          "data": {
            "text/html": [
              "<div>\n",
              "<style scoped>\n",
              "    .dataframe tbody tr th:only-of-type {\n",
              "        vertical-align: middle;\n",
              "    }\n",
              "\n",
              "    .dataframe tbody tr th {\n",
              "        vertical-align: top;\n",
              "    }\n",
              "\n",
              "    .dataframe thead th {\n",
              "        text-align: right;\n",
              "    }\n",
              "</style>\n",
              "<table border=\"1\" class=\"dataframe\">\n",
              "  <thead>\n",
              "    <tr style=\"text-align: right;\">\n",
              "      <th></th>\n",
              "      <th>id_student</th>\n",
              "      <th>size</th>\n",
              "    </tr>\n",
              "  </thead>\n",
              "  <tbody>\n",
              "    <tr>\n",
              "      <th>0</th>\n",
              "      <td>6516</td>\n",
              "      <td>1</td>\n",
              "    </tr>\n",
              "    <tr>\n",
              "      <th>424</th>\n",
              "      <td>958987</td>\n",
              "      <td>1</td>\n",
              "    </tr>\n",
              "    <tr>\n",
              "      <th>425</th>\n",
              "      <td>968578</td>\n",
              "      <td>1</td>\n",
              "    </tr>\n",
              "    <tr>\n",
              "      <th>426</th>\n",
              "      <td>969076</td>\n",
              "      <td>1</td>\n",
              "    </tr>\n",
              "    <tr>\n",
              "      <th>427</th>\n",
              "      <td>971027</td>\n",
              "      <td>1</td>\n",
              "    </tr>\n",
              "    <tr>\n",
              "      <th>...</th>\n",
              "      <td>...</td>\n",
              "      <td>...</td>\n",
              "    </tr>\n",
              "    <tr>\n",
              "      <th>600</th>\n",
              "      <td>2569324</td>\n",
              "      <td>2</td>\n",
              "    </tr>\n",
              "    <tr>\n",
              "      <th>603</th>\n",
              "      <td>2576122</td>\n",
              "      <td>2</td>\n",
              "    </tr>\n",
              "    <tr>\n",
              "      <th>363</th>\n",
              "      <td>470588</td>\n",
              "      <td>2</td>\n",
              "    </tr>\n",
              "    <tr>\n",
              "      <th>99</th>\n",
              "      <td>159954</td>\n",
              "      <td>2</td>\n",
              "    </tr>\n",
              "    <tr>\n",
              "      <th>565</th>\n",
              "      <td>2470694</td>\n",
              "      <td>2</td>\n",
              "    </tr>\n",
              "  </tbody>\n",
              "</table>\n",
              "<p>655 rows × 2 columns</p>\n",
              "</div>"
            ],
            "text/plain": [
              "     id_student  size\n",
              "0          6516     1\n",
              "424      958987     1\n",
              "425      968578     1\n",
              "426      969076     1\n",
              "427      971027     1\n",
              "..          ...   ...\n",
              "600     2569324     2\n",
              "603     2576122     2\n",
              "363      470588     2\n",
              "99       159954     2\n",
              "565     2470694     2\n",
              "\n",
              "[655 rows x 2 columns]"
            ]
          },
          "metadata": {},
          "execution_count": 17
        }
      ]
    },
    {
      "cell_type": "code",
      "metadata": {
        "execution": {
          "iopub.execute_input": "2021-11-24T15:49:24.783493Z",
          "iopub.status.busy": "2021-11-24T15:49:24.783216Z",
          "iopub.status.idle": "2021-11-24T15:49:24.793598Z",
          "shell.execute_reply": "2021-11-24T15:49:24.792634Z",
          "shell.execute_reply.started": "2021-11-24T15:49:24.783466Z"
        },
        "id": "ibJC_yG0z5gL"
      },
      "source": [
        "# split students by pass or fail\n",
        "module_AAA_fail = module_AAA.loc[module_AAA['final_result'] == 0]\n",
        "module_AAA_pass = module_AAA.loc[module_AAA['final_result'] == 1]"
      ],
      "execution_count": 18,
      "outputs": []
    },
    {
      "cell_type": "markdown",
      "metadata": {
        "id": "Jm76T21xHM7T"
      },
      "source": [
        "#### Plot distribution of sum clicks by pass and fail"
      ]
    },
    {
      "cell_type": "code",
      "metadata": {
        "execution": {
          "iopub.execute_input": "2021-11-24T16:00:16.552056Z",
          "iopub.status.busy": "2021-11-24T16:00:16.551587Z",
          "iopub.status.idle": "2021-11-24T16:00:17.057783Z",
          "shell.execute_reply": "2021-11-24T16:00:17.056628Z",
          "shell.execute_reply.started": "2021-11-24T16:00:16.552019Z"
        },
        "id": "kJkvrUKQz5gM",
        "colab": {
          "base_uri": "https://localhost:8080/",
          "height": 605
        },
        "outputId": "f36a8790-4558-4072-cb29-0deb54e7e687"
      },
      "source": [
        "import matplotlib.pyplot as plt\n",
        "import seaborn as sns\n",
        "\n",
        "sns.distplot(module_AAA_pass[\"sum_click\"], kde=False)\n",
        "sns.distplot(module_AAA_fail[\"sum_click\"], kde=False)\n",
        "\n",
        "plt.legend(labels=['pass',\"fail\"])\n",
        "\n",
        "plt.xlabel(\"sum clicks\")\n",
        "plt.ylabel(\"count\")\n",
        "\n",
        "plt.title(\"Distribution of sum clicks by pass and fail\")"
      ],
      "execution_count": 19,
      "outputs": [
        {
          "output_type": "stream",
          "name": "stderr",
          "text": [
            "/usr/local/lib/python3.7/dist-packages/seaborn/distributions.py:2619: FutureWarning: `distplot` is a deprecated function and will be removed in a future version. Please adapt your code to use either `displot` (a figure-level function with similar flexibility) or `histplot` (an axes-level function for histograms).\n",
            "  warnings.warn(msg, FutureWarning)\n"
          ]
        },
        {
          "output_type": "execute_result",
          "data": {
            "text/plain": [
              "Text(0.5, 1.0, 'Distribution of sum clicks by pass and fail')"
            ]
          },
          "metadata": {},
          "execution_count": 19
        },
        {
          "output_type": "display_data",
          "data": {
            "image/png": "[encoded data removed]",
            "text/plain": [
              "<Figure size 842.4x595.44 with 1 Axes>"
            ]
          },
          "metadata": {}
        }
      ]
    },
    {
      "cell_type": "markdown",
      "metadata": {
        "id": "JwMKlM1nHekV"
      },
      "source": [
        "#### Plot distribution of assessment scores by pass and fail"
      ]
    },
    {
      "cell_type": "code",
      "metadata": {
        "execution": {
          "iopub.execute_input": "2021-11-24T16:00:27.030083Z",
          "iopub.status.busy": "2021-11-24T16:00:27.029721Z",
          "iopub.status.idle": "2021-11-24T16:00:27.264307Z",
          "shell.execute_reply": "2021-11-24T16:00:27.263248Z",
          "shell.execute_reply.started": "2021-11-24T16:00:27.030051Z"
        },
        "id": "IvR90qDEz5gM",
        "colab": {
          "base_uri": "https://localhost:8080/",
          "height": 605
        },
        "outputId": "02c422db-a8ce-4f23-cc2f-2b8a9689ea75"
      },
      "source": [
        "sns.distplot(module_AAA_pass[\"score\"],kde=False)\n",
        "sns.distplot(module_AAA_fail[\"score\"],kde=False)\n",
        "\n",
        "plt.legend(labels=['pass',\"fail\"])\n",
        "\n",
        "plt.xlabel(\"score\")\n",
        "plt.ylabel(\"count\")\n",
        "\n",
        "plt.title(\"Distribution of assessment scores by pass and fail\")"
      ],
      "execution_count": 20,
      "outputs": [
        {
          "output_type": "stream",
          "name": "stderr",
          "text": [
            "/usr/local/lib/python3.7/dist-packages/seaborn/distributions.py:2619: FutureWarning: `distplot` is a deprecated function and will be removed in a future version. Please adapt your code to use either `displot` (a figure-level function with similar flexibility) or `histplot` (an axes-level function for histograms).\n",
            "  warnings.warn(msg, FutureWarning)\n"
          ]
        },
        {
          "output_type": "execute_result",
          "data": {
            "text/plain": [
              "Text(0.5, 1.0, 'Distribution of assessment scores by pass and fail')"
            ]
          },
          "metadata": {},
          "execution_count": 20
        },
        {
          "output_type": "display_data",
          "data": {
            "image/png": "[encoded data removed]",
            "text/plain": [
              "<Figure size 842.4x595.44 with 1 Axes>"
            ]
          },
          "metadata": {}
        }
      ]
    },
    {
      "cell_type": "markdown",
      "metadata": {
        "id": "6aW2Xm6nKMAL"
      },
      "source": [
        "#### Plot final result by gender"
      ]
    },
    {
      "cell_type": "code",
      "metadata": {
        "execution": {
          "iopub.execute_input": "2021-11-24T15:49:25.437557Z",
          "iopub.status.busy": "2021-11-24T15:49:25.437259Z",
          "iopub.status.idle": "2021-11-24T15:49:25.601737Z",
          "shell.execute_reply": "2021-11-24T15:49:25.600942Z",
          "shell.execute_reply.started": "2021-11-24T15:49:25.437528Z"
        },
        "id": "rP9Oexgfz5gN",
        "colab": {
          "base_uri": "https://localhost:8080/",
          "height": 549
        },
        "outputId": "a23ac185-55ff-430f-9e6e-773d21781e75"
      },
      "source": [
        "pd.crosstab(module_AAA['gender'],module_AAA['final_result']).plot.bar(stacked=True)\n",
        "plt.title(\"Final result by gender\")\n",
        "\n",
        "plt.legend(labels=['fail','pass'])\n",
        "\n",
        "plt.xlabel(\"Gender\")\n",
        "plt.ylabel(\"Count\")"
      ],
      "execution_count": 21,
      "outputs": [
        {
          "output_type": "execute_result",
          "data": {
            "text/plain": [
              "Text(0, 0.5, 'Count')"
            ]
          },
          "metadata": {},
          "execution_count": 21
        },
        {
          "output_type": "display_data",
          "data": {
            "image/png": "[encoded data removed]",
            "text/plain": [
              "<Figure size 842.4x595.44 with 1 Axes>"
            ]
          },
          "metadata": {}
        }
      ]
    },
    {
      "cell_type": "markdown",
      "metadata": {
        "id": "hLpqS4SQF0EX"
      },
      "source": [
        "### Predictions"
      ]
    },
    {
      "cell_type": "markdown",
      "metadata": {
        "id": "hdIuLIELUzI-"
      },
      "source": [
        "#### Evaluation"
      ]
    },
    {
      "cell_type": "code",
      "metadata": {
        "id": "uhgNhMwRLbWQ"
      },
      "source": [
        "from sklearn.metrics import classification_report\n",
        "from sklearn.metrics import confusion_matrix\n",
        "from sklearn.metrics import precision_score\n",
        "from sklearn.metrics import recall_score\n",
        "from sklearn.metrics import accuracy_score\n",
        "from sklearn.metrics import fbeta_score\n",
        "\n",
        "\n",
        "def evaluation_summary(description, predictions, true_labels):\n",
        "  print(\"Evaluation for: \" + description)\n",
        "  precision_macro = precision_score(true_labels, predictions, average='macro')\n",
        "  precision_weighted = precision_score(true_labels, predictions, average='weighted')\n",
        "\n",
        "  recall = recall_score(true_labels, predictions, average='macro')\n",
        "  accuracy = accuracy_score(true_labels, predictions)\n",
        "  f1 = fbeta_score(true_labels, predictions, beta=1, average='macro')#, labels=np.unique(predictions)) #1 means f_1 measure\n",
        "\n",
        "  print(\"Classifier '%s' has Acc=%0.3f P_macro=%0.3f P_weighted=%0.3f R=%0.3f F1=%0.3f\" % (description,accuracy,precision_macro,precision_weighted,recall,f1))\n",
        "  # Specify three digits instead of the default two.\n",
        "  print(classification_report(true_labels, predictions, digits=3))\n",
        "  print('\\nConfusion matrix:\\n') # Note the order here is true, predicted, odd.\n",
        "  cm = confusion_matrix(true_labels, predictions)\n",
        "  labels = np.unique(true_labels)\n",
        "  print(pd.DataFrame(cm, index=labels, columns=labels))\n",
        "\n",
        "  plt.subplots(figsize=(8,7))\n",
        "  ax= plt.subplot()\n",
        "  sns.heatmap(cm, annot=True, fmt='g', ax=ax, cmap=\"YlGnBu\");  #annot=True to annotate cells, ftm='g' to disable scientific notation\n",
        "\n",
        "  # labels, title and ticks\n",
        "  ax.set_xlabel('Predicted labels');ax.set_ylabel('True labels'); \n",
        "  ax.set_title('Confusion Matrix'); \n",
        "  ax.xaxis.set_ticklabels(['fail', 'pass']); ax.yaxis.set_ticklabels(['fail', 'pass'])"
      ],
      "execution_count": 29,
      "outputs": []
    },
    {
      "cell_type": "markdown",
      "metadata": {
        "id": "dRxzFuz3U2EY"
      },
      "source": [
        "#### Split dataset"
      ]
    },
    {
      "cell_type": "code",
      "metadata": {
        "execution": {
          "iopub.execute_input": "2021-11-24T15:49:25.714577Z",
          "iopub.status.busy": "2021-11-24T15:49:25.714299Z",
          "iopub.status.idle": "2021-11-24T15:49:25.875592Z",
          "shell.execute_reply": "2021-11-24T15:49:25.874635Z",
          "shell.execute_reply.started": "2021-11-24T15:49:25.714550Z"
        },
        "id": "B_Vx1IA-z5gO"
      },
      "source": [
        "from sklearn.model_selection import train_test_split\n",
        "\n",
        "def split_dataset(X, Y):   \n",
        "    X_train, X_test, Y_train, Y_test = train_test_split(X, Y)\n",
        "    return X_train, Y_train, X_test, Y_test\n"
      ],
      "execution_count": 23,
      "outputs": []
    },
    {
      "cell_type": "markdown",
      "metadata": {
        "id": "zas-wWClU5tt"
      },
      "source": [
        "#### Prepare data"
      ]
    },
    {
      "cell_type": "code",
      "metadata": {
        "execution": {
          "iopub.execute_input": "2021-11-24T15:49:25.898064Z",
          "iopub.status.busy": "2021-11-24T15:49:25.897633Z",
          "iopub.status.idle": "2021-11-24T15:49:26.265276Z",
          "shell.execute_reply": "2021-11-24T15:49:26.264276Z",
          "shell.execute_reply.started": "2021-11-24T15:49:25.898034Z"
        },
        "id": "r18gPU8sz5gP"
      },
      "source": [
        "Y = df['final_result'].replace({1:0, 2:1, 3:1}) # Fail, Withdraw, Pass, Distinction -> Incomplete, Complete\n",
        "X = df.drop('final_result', axis=1)\n",
        "\n",
        "# Convert categorical variable into indicator variables. One-hot encoding\n",
        "X = pd.get_dummies(X)"
      ],
      "execution_count": 24,
      "outputs": []
    },
    {
      "cell_type": "code",
      "metadata": {
        "id": "N3slzCxLNQUu"
      },
      "source": [
        "X_train, Y_train, X_test, Y_test = split_dataset(X,Y)"
      ],
      "execution_count": 25,
      "outputs": []
    },
    {
      "cell_type": "markdown",
      "metadata": {
        "id": "vlYXEvcdU7iV"
      },
      "source": [
        "#### Decision Tree Classifier"
      ]
    },
    {
      "cell_type": "code",
      "metadata": {
        "colab": {
          "base_uri": "https://localhost:8080/",
          "height": 759
        },
        "id": "8v-qo6OJMrFp",
        "outputId": "b00891c2-6525-4f70-ff05-b39cc18a5446"
      },
      "source": [
        "from sklearn.tree import DecisionTreeClassifier \n",
        "\n",
        "dt_classifier = DecisionTreeClassifier()\n",
        "dt_classifier.fit(X_train, Y_train)\n",
        "\n",
        "test_dt_predictions = dt_classifier.predict( X_test)\n",
        "\n",
        "evaluation_summary(\"Decision Tree Classifier test dataset\",  test_dt_predictions, Y_test)"
      ],
      "execution_count": 30,
      "outputs": [
        {
          "output_type": "stream",
          "name": "stdout",
          "text": [
            "Evaluation for: Decision Tree Classifier test dataset\n",
            "Classifier 'Decision Tree Classifier test dataset' has Acc=0.755 P_macro=0.749 P_weighted=0.754 R=0.748 F1=0.749\n",
            "              precision    recall  f1-score   support\n",
            "\n",
            "           0      0.716     0.702     0.709      3080\n",
            "           1      0.782     0.794     0.788      4155\n",
            "\n",
            "    accuracy                          0.755      7235\n",
            "   macro avg      0.749     0.748     0.749      7235\n",
            "weighted avg      0.754     0.755     0.754      7235\n",
            "\n",
            "\n",
            "Confusion matrix:\n",
            "\n",
            "      0     1\n",
            "0  2162   918\n",
            "1   856  3299\n"
          ]
        },
        {
          "output_type": "display_data",
          "data": {
            "image/png": "[encoded data removed]",
            "text/plain": [
              "<Figure size 576x504 with 2 Axes>"
            ]
          },
          "metadata": {}
        }
      ]
    },
    {
      "cell_type": "code",
      "metadata": {
        "id": "w8hKz8YUSu5o"
      },
      "source": [
        ""
      ],
      "execution_count": 26,
      "outputs": []
    }
  ]
}