{
  "nbformat": 4,
  "nbformat_minor": 0,
  "metadata": {
    "kernelspec": {
      "display_name": "Python 3",
      "language": "python",
      "name": "python3"
    },
    "language_info": {
      "codemirror_mode": {
        "name": "ipython",
        "version": 3
      },
      "file_extension": ".py",
      "mimetype": "text/x-python",
      "name": "python",
      "nbconvert_exporter": "python",
      "pygments_lexer": "ipython3",
      "version": "3.7.4"
    },
    "colab": {
      "name": "oulad_prepare_dataset.ipynb",
      "provenance": [],
      "collapsed_sections": []
    }
  },
  "cells": [
    {
      "cell_type": "markdown",
      "metadata": {
        "id": "50rs6MLKz5fn"
      },
      "source": [
        "# Prepare Dataset"
      ]
    },
    {
      "cell_type": "markdown",
      "metadata": {
        "id": "k-CKgOJr0C7W"
      },
      "source": [
        "### GDrive setup"
      ]
    },
    {
      "cell_type": "code",
      "metadata": {
        "colab": {
          "base_uri": "https://localhost:8080/"
        },
        "id": "2puHe1Ty0Gn4",
        "outputId": "030aa298-5d90-457b-d504-e5d527869289"
      },
      "source": [
        "from google.colab import drive\n",
        "drive.mount('/content/drive')"
      ],
      "execution_count": null,
      "outputs": [
        {
          "output_type": "stream",
          "name": "stdout",
          "text": [
            "Drive already mounted at /content/drive; to attempt to forcibly remount, call drive.mount(\"/content/drive\", force_remount=True).\n"
          ]
        }
      ]
    },
    {
      "cell_type": "code",
      "metadata": {
        "colab": {
          "base_uri": "https://localhost:8080/"
        },
        "id": "ArM2sqXK2cG3",
        "outputId": "7f519dbf-82ae-46c1-8dd7-490ac9f674d4"
      },
      "source": [
        "cd 'drive/My Drive/Colab Notebooks/4th year project/OULAD dataset/Deadline'"
      ],
      "execution_count": null,
      "outputs": [
        {
          "output_type": "stream",
          "name": "stdout",
          "text": [
            "/content/drive/My Drive/Colab Notebooks/4th year project/OULAD dataset/Deadline\n"
          ]
        }
      ]
    },
    {
      "cell_type": "code",
      "metadata": {
        "id": "p9ayAhws2evi"
      },
      "source": [
        "ls"
      ],
      "execution_count": null,
      "outputs": []
    },
    {
      "cell_type": "markdown",
      "metadata": {
        "id": "v3Uycz2vz5fx"
      },
      "source": [
        "## Setup"
      ]
    },
    {
      "cell_type": "code",
      "metadata": {
        "id": "SmyB7uFCz5fz"
      },
      "source": [
        "import pandas as pd\n",
        "import numpy as np\n",
        "import matplotlib.pyplot as plt\n",
        "import seaborn as sns"
      ],
      "execution_count": null,
      "outputs": []
    },
    {
      "cell_type": "code",
      "metadata": {
        "id": "YO6dS31xz5f2"
      },
      "source": [
        "assessments_df = pd.read_csv('../../OULAD dataset/anonymisedOUDataSet/assessments.csv')\n",
        "courses_df = pd.read_csv('../../OULAD dataset/anonymisedOUDataSet/courses.csv')\n",
        "student_assessments_df = pd.read_csv('../../OULAD dataset/anonymisedOUDataSet/studentAssessment.csv')\n",
        "student_info_df = pd.read_csv('../../OULAD dataset/anonymisedOUDataSet/studentInfo.csv')\n",
        "student_registration_df = pd.read_csv('../../OULAD dataset/anonymisedOUDataSet/studentRegistration.csv')\n",
        "student_vle_df = pd.read_csv('../../OULAD dataset/anonymisedOUDataSet/studentVle.csv')\n",
        "vle_df = pd.read_csv('../../OULAD dataset/anonymisedOUDataSet/vle.csv')\n",
        "\n",
        "sa_days_deadline_df = pd.read_csv('../../OULAD dataset/StudentAssessmentDaysDeadline.csv')\n",
        "\n",
        "sns.set(rc={'figure.figsize':(11.7,8.27)})"
      ],
      "execution_count": null,
      "outputs": []
    },
    {
      "cell_type": "markdown",
      "source": [
        "### Dates for each assessment"
      ],
      "metadata": {
        "id": "tvXrf2x1ekD9"
      }
    },
    {
      "cell_type": "code",
      "source": [
        "assessments_df.loc[(assessments_df['code_module']==\"AAA\") & (assessments_df['code_presentation']==\"2013J\")].date"
      ],
      "metadata": {
        "colab": {
          "base_uri": "https://localhost:8080/"
        },
        "id": "x2iol3OGd18F",
        "outputId": "0e2a76ac-84b7-481a-d4de-4e3fa40b5177"
      },
      "execution_count": null,
      "outputs": [
        {
          "output_type": "execute_result",
          "data": {
            "text/plain": [
              "0     19.0\n",
              "1     54.0\n",
              "2    117.0\n",
              "3    166.0\n",
              "4    215.0\n",
              "5      NaN\n",
              "Name: date, dtype: float64"
            ]
          },
          "metadata": {},
          "execution_count": 6
        }
      ]
    },
    {
      "cell_type": "code",
      "source": [
        "DEADLINE = 220\n",
        "\n",
        "SCORE_DEADLINE = DEADLINE\n",
        "CLICKS_DEADLINE = DEADLINE"
      ],
      "metadata": {
        "id": "0SlpW1aUdZ1t"
      },
      "execution_count": null,
      "outputs": []
    },
    {
      "cell_type": "markdown",
      "metadata": {
        "id": "Aquh2SL95X1z"
      },
      "source": [
        "### Join assessment data with individual student assessments"
      ]
    },
    {
      "cell_type": "code",
      "source": [
        "def get_score_data(assessments_df, student_assessments_df, score_deadline):\n",
        "  # drop columns not required to join with student_assessments_df\n",
        "  assessments_df.drop(['weight'], axis = 1, inplace = True)\n",
        "  assessments_df.code_module.value_counts()\n",
        "\n",
        "  # merge each student assessments with assessment data\n",
        "  combined_assessment = pd.merge(student_assessments_df,assessments_df,on='id_assessment')\n",
        "  combined_assessment.drop(['is_banked','date_submitted'],axis = 1,inplace=True)\n",
        "\n",
        "  # Get all assessments which are not the final exam and happened before a certain date\n",
        "  combined_assessment = combined_assessment[(combined_assessment['assessment_type'] != 'Exam') & (combined_assessment['date'] <= score_deadline)]\n",
        "\n",
        "  grouped_student_assessments = combined_assessment.groupby(['id_student','code_module','code_presentation']).mean()\n",
        "  grouped_student_assessments.drop(['id_assessment', 'date'],axis=1,inplace = True)\n",
        "\n",
        "  return grouped_student_assessments"
      ],
      "metadata": {
        "id": "607N6K-tfCfc"
      },
      "execution_count": null,
      "outputs": []
    },
    {
      "cell_type": "code",
      "source": [
        "def merge_df(student_info_df, other_df, on, how='inner'):\n",
        "  student_all_info = pd.merge(student_info_df,other_df,on=on, how=how)\n",
        "\n",
        "  return student_all_info"
      ],
      "metadata": {
        "id": "OSn6fgaOi-mv"
      },
      "execution_count": null,
      "outputs": []
    },
    {
      "cell_type": "code",
      "source": [
        "score_df = get_score_data(assessments_df.copy(), student_assessments_df.copy(), SCORE_DEADLINE)\n",
        "\n",
        "score_df.head()"
      ],
      "metadata": {
        "colab": {
          "base_uri": "https://localhost:8080/",
          "height": 237
        },
        "id": "rQdPIPIl_JjC",
        "outputId": "6490e21c-efc8-4763-93ae-577f5fb6088a"
      },
      "execution_count": null,
      "outputs": [
        {
          "output_type": "execute_result",
          "data": {
            "text/html": [
              "<div>\n",
              "<style scoped>\n",
              "    .dataframe tbody tr th:only-of-type {\n",
              "        vertical-align: middle;\n",
              "    }\n",
              "\n",
              "    .dataframe tbody tr th {\n",
              "        vertical-align: top;\n",
              "    }\n",
              "\n",
              "    .dataframe thead th {\n",
              "        text-align: right;\n",
              "    }\n",
              "</style>\n",
              "<table border=\"1\" class=\"dataframe\">\n",
              "  <thead>\n",
              "    <tr style=\"text-align: right;\">\n",
              "      <th></th>\n",
              "      <th></th>\n",
              "      <th></th>\n",
              "      <th>score</th>\n",
              "    </tr>\n",
              "    <tr>\n",
              "      <th>id_student</th>\n",
              "      <th>code_module</th>\n",
              "      <th>code_presentation</th>\n",
              "      <th></th>\n",
              "    </tr>\n",
              "  </thead>\n",
              "  <tbody>\n",
              "    <tr>\n",
              "      <th>6516</th>\n",
              "      <th>AAA</th>\n",
              "      <th>2014J</th>\n",
              "      <td>61.800000</td>\n",
              "    </tr>\n",
              "    <tr>\n",
              "      <th rowspan=\"2\" valign=\"top\">8462</th>\n",
              "      <th rowspan=\"2\" valign=\"top\">DDD</th>\n",
              "      <th>2013J</th>\n",
              "      <td>87.666667</td>\n",
              "    </tr>\n",
              "    <tr>\n",
              "      <th>2014J</th>\n",
              "      <td>86.500000</td>\n",
              "    </tr>\n",
              "    <tr>\n",
              "      <th>11391</th>\n",
              "      <th>AAA</th>\n",
              "      <th>2013J</th>\n",
              "      <td>82.000000</td>\n",
              "    </tr>\n",
              "    <tr>\n",
              "      <th>23629</th>\n",
              "      <th>BBB</th>\n",
              "      <th>2013B</th>\n",
              "      <td>82.500000</td>\n",
              "    </tr>\n",
              "  </tbody>\n",
              "</table>\n",
              "</div>"
            ],
            "text/plain": [
              "                                              score\n",
              "id_student code_module code_presentation           \n",
              "6516       AAA         2014J              61.800000\n",
              "8462       DDD         2013J              87.666667\n",
              "                       2014J              86.500000\n",
              "11391      AAA         2013J              82.000000\n",
              "23629      BBB         2013B              82.500000"
            ]
          },
          "metadata": {},
          "execution_count": 10
        }
      ]
    },
    {
      "cell_type": "markdown",
      "source": [
        "### Merge score_df and all other student_info"
      ],
      "metadata": {
        "id": "85x85CkjjixN"
      }
    },
    {
      "cell_type": "code",
      "source": [
        "student_all_info = merge_df(student_info_df.copy(), score_df.copy(), on='id_student')\n",
        "\n",
        "student_all_info.head()"
      ],
      "metadata": {
        "colab": {
          "base_uri": "https://localhost:8080/",
          "height": 347
        },
        "id": "uzupro5_g6jl",
        "outputId": "73cd9f8c-bf42-44e8-f1d3-44a6e58c7944"
      },
      "execution_count": null,
      "outputs": [
        {
          "output_type": "execute_result",
          "data": {
            "text/html": [
              "<div>\n",
              "<style scoped>\n",
              "    .dataframe tbody tr th:only-of-type {\n",
              "        vertical-align: middle;\n",
              "    }\n",
              "\n",
              "    .dataframe tbody tr th {\n",
              "        vertical-align: top;\n",
              "    }\n",
              "\n",
              "    .dataframe thead th {\n",
              "        text-align: right;\n",
              "    }\n",
              "</style>\n",
              "<table border=\"1\" class=\"dataframe\">\n",
              "  <thead>\n",
              "    <tr style=\"text-align: right;\">\n",
              "      <th></th>\n",
              "      <th>code_module</th>\n",
              "      <th>code_presentation</th>\n",
              "      <th>id_student</th>\n",
              "      <th>gender</th>\n",
              "      <th>region</th>\n",
              "      <th>highest_education</th>\n",
              "      <th>imd_band</th>\n",
              "      <th>age_band</th>\n",
              "      <th>num_of_prev_attempts</th>\n",
              "      <th>studied_credits</th>\n",
              "      <th>disability</th>\n",
              "      <th>final_result</th>\n",
              "      <th>score</th>\n",
              "    </tr>\n",
              "  </thead>\n",
              "  <tbody>\n",
              "    <tr>\n",
              "      <th>0</th>\n",
              "      <td>AAA</td>\n",
              "      <td>2013J</td>\n",
              "      <td>11391</td>\n",
              "      <td>M</td>\n",
              "      <td>East Anglian Region</td>\n",
              "      <td>HE Qualification</td>\n",
              "      <td>90-100%</td>\n",
              "      <td>55&lt;=</td>\n",
              "      <td>0</td>\n",
              "      <td>240</td>\n",
              "      <td>N</td>\n",
              "      <td>Pass</td>\n",
              "      <td>82.0</td>\n",
              "    </tr>\n",
              "    <tr>\n",
              "      <th>1</th>\n",
              "      <td>AAA</td>\n",
              "      <td>2013J</td>\n",
              "      <td>28400</td>\n",
              "      <td>F</td>\n",
              "      <td>Scotland</td>\n",
              "      <td>HE Qualification</td>\n",
              "      <td>20-30%</td>\n",
              "      <td>35-55</td>\n",
              "      <td>0</td>\n",
              "      <td>60</td>\n",
              "      <td>N</td>\n",
              "      <td>Pass</td>\n",
              "      <td>66.4</td>\n",
              "    </tr>\n",
              "    <tr>\n",
              "      <th>2</th>\n",
              "      <td>AAA</td>\n",
              "      <td>2013J</td>\n",
              "      <td>31604</td>\n",
              "      <td>F</td>\n",
              "      <td>South East Region</td>\n",
              "      <td>A Level or Equivalent</td>\n",
              "      <td>50-60%</td>\n",
              "      <td>35-55</td>\n",
              "      <td>0</td>\n",
              "      <td>60</td>\n",
              "      <td>N</td>\n",
              "      <td>Pass</td>\n",
              "      <td>76.0</td>\n",
              "    </tr>\n",
              "    <tr>\n",
              "      <th>3</th>\n",
              "      <td>AAA</td>\n",
              "      <td>2013J</td>\n",
              "      <td>32885</td>\n",
              "      <td>F</td>\n",
              "      <td>West Midlands Region</td>\n",
              "      <td>Lower Than A Level</td>\n",
              "      <td>50-60%</td>\n",
              "      <td>0-35</td>\n",
              "      <td>0</td>\n",
              "      <td>60</td>\n",
              "      <td>N</td>\n",
              "      <td>Pass</td>\n",
              "      <td>54.4</td>\n",
              "    </tr>\n",
              "    <tr>\n",
              "      <th>4</th>\n",
              "      <td>AAA</td>\n",
              "      <td>2013J</td>\n",
              "      <td>38053</td>\n",
              "      <td>M</td>\n",
              "      <td>Wales</td>\n",
              "      <td>A Level or Equivalent</td>\n",
              "      <td>80-90%</td>\n",
              "      <td>35-55</td>\n",
              "      <td>0</td>\n",
              "      <td>60</td>\n",
              "      <td>N</td>\n",
              "      <td>Pass</td>\n",
              "      <td>68.0</td>\n",
              "    </tr>\n",
              "  </tbody>\n",
              "</table>\n",
              "</div>"
            ],
            "text/plain": [
              "  code_module code_presentation  id_student  ... disability final_result score\n",
              "0         AAA             2013J       11391  ...          N         Pass  82.0\n",
              "1         AAA             2013J       28400  ...          N         Pass  66.4\n",
              "2         AAA             2013J       31604  ...          N         Pass  76.0\n",
              "3         AAA             2013J       32885  ...          N         Pass  54.4\n",
              "4         AAA             2013J       38053  ...          N         Pass  68.0\n",
              "\n",
              "[5 rows x 13 columns]"
            ]
          },
          "metadata": {},
          "execution_count": 11
        }
      ]
    },
    {
      "cell_type": "markdown",
      "metadata": {
        "id": "qtxteGf5_5vb"
      },
      "source": [
        "### Get the number of clicks by a deadline"
      ]
    },
    {
      "cell_type": "code",
      "source": [
        "# click data\n",
        "def inner_merge(left_df,right_df,right_cols,on_cols):\n",
        "    right_df = right_df[right_cols]\n",
        "    left_df = left_df.merge(right_df, on = on_cols)\n",
        "    return left_df.drop_duplicates()\n",
        "\n",
        "\n",
        "def get_click_data(student_vle_df,vle_df,click_deadline):\n",
        "\n",
        "  def clicks_from(clicks, deadline):\n",
        "    temp = clicks[clicks['date'] <= deadline]\n",
        "    temp = temp.drop('date', axis = 1)\n",
        "    temp = temp.groupby(['code_module','code_presentation','id_student','activity_type']).sum()\n",
        "    temp = temp.rename(columns = {'sum_click': f'sum_click{deadline} sum'})\n",
        "    temp = temp.reset_index() # this fills out the missing columns for merging later \n",
        "    return temp\n",
        "\n",
        "  clicks = inner_merge(student_vle_df,\n",
        "                        vle_df,\n",
        "                        ['id_site','code_module','code_presentation','activity_type'],\n",
        "                        ['id_site','code_module','code_presentation'],\n",
        "                      )\n",
        "\n",
        "  clicks = clicks.drop(['id_site'], axis = 1)\n",
        "\n",
        "  #clicks = clicks.groupby(['code_module','code_presentation','id_student','activity_type']).sum().reset_index()\n",
        "\n",
        "  sum_click_df = pd.pivot_table(data = clicks_from(clicks,click_deadline), \n",
        "                              index = ['code_module','code_presentation','id_student'],\n",
        "                              columns = 'activity_type', \n",
        "                              values = [f'sum_click{click_deadline} sum'],\n",
        "                              fill_value = 0,\n",
        "                              ).reset_index()\n",
        "\n",
        "  # get rid of multi index\n",
        "  sum_click_df = pd.concat([sum_click_df['code_module'],\n",
        "                            sum_click_df['code_presentation'],\n",
        "                            sum_click_df['id_student'], \n",
        "                            sum_click_df[f'sum_click{click_deadline} sum']], axis=1)\n",
        "\n",
        "  temp = sum_click_df.groupby(['code_module','code_presentation','id_student']).sum(numeric_only=True, min_count=0)\n",
        "\n",
        "  temp2 = pd.DataFrame()\n",
        "  temp2['sum_click'] = temp.sum(axis=1)\n",
        "  sum_click_df = pd.merge(sum_click_df,temp2,on = ['id_student','code_module','code_presentation'],how='left')\n",
        "\n",
        "  return sum_click_df"
      ],
      "metadata": {
        "id": "xIudDhhnu_4f"
      },
      "execution_count": null,
      "outputs": []
    },
    {
      "cell_type": "code",
      "source": [
        "sum_click_df = get_click_data(student_vle_df.copy(),vle_df.copy(),CLICKS_DEADLINE)"
      ],
      "metadata": {
        "id": "6bhwoYJ00YIA"
      },
      "execution_count": null,
      "outputs": []
    },
    {
      "cell_type": "markdown",
      "source": [
        "### Merge sum_click_df and student_info_df"
      ],
      "metadata": {
        "id": "1JVC7f_orvR5"
      }
    },
    {
      "cell_type": "code",
      "source": [
        "student_all_info = merge_df(student_info_df.copy(), sum_click_df.copy(), on = ['id_student','code_module','code_presentation'],how='left')\n",
        "\n",
        "student_all_info.head()"
      ],
      "metadata": {
        "colab": {
          "base_uri": "https://localhost:8080/",
          "height": 365
        },
        "id": "TXq6R0R6zJEI",
        "outputId": "b75e013a-8217-44cf-c210-5696932c0139"
      },
      "execution_count": null,
      "outputs": [
        {
          "output_type": "execute_result",
          "data": {
            "text/html": [
              "<div>\n",
              "<style scoped>\n",
              "    .dataframe tbody tr th:only-of-type {\n",
              "        vertical-align: middle;\n",
              "    }\n",
              "\n",
              "    .dataframe tbody tr th {\n",
              "        vertical-align: top;\n",
              "    }\n",
              "\n",
              "    .dataframe thead th {\n",
              "        text-align: right;\n",
              "    }\n",
              "</style>\n",
              "<table border=\"1\" class=\"dataframe\">\n",
              "  <thead>\n",
              "    <tr style=\"text-align: right;\">\n",
              "      <th></th>\n",
              "      <th>code_module</th>\n",
              "      <th>code_presentation</th>\n",
              "      <th>id_student</th>\n",
              "      <th>gender</th>\n",
              "      <th>region</th>\n",
              "      <th>highest_education</th>\n",
              "      <th>imd_band</th>\n",
              "      <th>age_band</th>\n",
              "      <th>num_of_prev_attempts</th>\n",
              "      <th>studied_credits</th>\n",
              "      <th>disability</th>\n",
              "      <th>final_result</th>\n",
              "      <th>dataplus</th>\n",
              "      <th>dualpane</th>\n",
              "      <th>externalquiz</th>\n",
              "      <th>folder</th>\n",
              "      <th>forumng</th>\n",
              "      <th>glossary</th>\n",
              "      <th>homepage</th>\n",
              "      <th>htmlactivity</th>\n",
              "      <th>oucollaborate</th>\n",
              "      <th>oucontent</th>\n",
              "      <th>ouelluminate</th>\n",
              "      <th>ouwiki</th>\n",
              "      <th>page</th>\n",
              "      <th>questionnaire</th>\n",
              "      <th>quiz</th>\n",
              "      <th>repeatactivity</th>\n",
              "      <th>resource</th>\n",
              "      <th>sharedsubpage</th>\n",
              "      <th>subpage</th>\n",
              "      <th>url</th>\n",
              "      <th>sum_click</th>\n",
              "    </tr>\n",
              "  </thead>\n",
              "  <tbody>\n",
              "    <tr>\n",
              "      <th>0</th>\n",
              "      <td>AAA</td>\n",
              "      <td>2013J</td>\n",
              "      <td>11391</td>\n",
              "      <td>M</td>\n",
              "      <td>East Anglian Region</td>\n",
              "      <td>HE Qualification</td>\n",
              "      <td>90-100%</td>\n",
              "      <td>55&lt;=</td>\n",
              "      <td>0</td>\n",
              "      <td>240</td>\n",
              "      <td>N</td>\n",
              "      <td>Pass</td>\n",
              "      <td>0.0</td>\n",
              "      <td>0.0</td>\n",
              "      <td>0.0</td>\n",
              "      <td>0.0</td>\n",
              "      <td>153.0</td>\n",
              "      <td>0.0</td>\n",
              "      <td>128.0</td>\n",
              "      <td>0.0</td>\n",
              "      <td>0.0</td>\n",
              "      <td>459.0</td>\n",
              "      <td>0.0</td>\n",
              "      <td>0.0</td>\n",
              "      <td>0.0</td>\n",
              "      <td>0.0</td>\n",
              "      <td>0.0</td>\n",
              "      <td>0.0</td>\n",
              "      <td>11.0</td>\n",
              "      <td>0.0</td>\n",
              "      <td>30.0</td>\n",
              "      <td>5.0</td>\n",
              "      <td>786.0</td>\n",
              "    </tr>\n",
              "    <tr>\n",
              "      <th>1</th>\n",
              "      <td>AAA</td>\n",
              "      <td>2013J</td>\n",
              "      <td>28400</td>\n",
              "      <td>F</td>\n",
              "      <td>Scotland</td>\n",
              "      <td>HE Qualification</td>\n",
              "      <td>20-30%</td>\n",
              "      <td>35-55</td>\n",
              "      <td>0</td>\n",
              "      <td>60</td>\n",
              "      <td>N</td>\n",
              "      <td>Pass</td>\n",
              "      <td>10.0</td>\n",
              "      <td>0.0</td>\n",
              "      <td>0.0</td>\n",
              "      <td>0.0</td>\n",
              "      <td>385.0</td>\n",
              "      <td>0.0</td>\n",
              "      <td>319.0</td>\n",
              "      <td>0.0</td>\n",
              "      <td>0.0</td>\n",
              "      <td>535.0</td>\n",
              "      <td>0.0</td>\n",
              "      <td>0.0</td>\n",
              "      <td>0.0</td>\n",
              "      <td>0.0</td>\n",
              "      <td>0.0</td>\n",
              "      <td>0.0</td>\n",
              "      <td>12.0</td>\n",
              "      <td>0.0</td>\n",
              "      <td>87.0</td>\n",
              "      <td>48.0</td>\n",
              "      <td>1396.0</td>\n",
              "    </tr>\n",
              "    <tr>\n",
              "      <th>2</th>\n",
              "      <td>AAA</td>\n",
              "      <td>2013J</td>\n",
              "      <td>30268</td>\n",
              "      <td>F</td>\n",
              "      <td>North Western Region</td>\n",
              "      <td>A Level or Equivalent</td>\n",
              "      <td>30-40%</td>\n",
              "      <td>35-55</td>\n",
              "      <td>0</td>\n",
              "      <td>60</td>\n",
              "      <td>Y</td>\n",
              "      <td>Withdrawn</td>\n",
              "      <td>0.0</td>\n",
              "      <td>0.0</td>\n",
              "      <td>0.0</td>\n",
              "      <td>0.0</td>\n",
              "      <td>105.0</td>\n",
              "      <td>0.0</td>\n",
              "      <td>59.0</td>\n",
              "      <td>0.0</td>\n",
              "      <td>0.0</td>\n",
              "      <td>66.0</td>\n",
              "      <td>0.0</td>\n",
              "      <td>0.0</td>\n",
              "      <td>0.0</td>\n",
              "      <td>0.0</td>\n",
              "      <td>0.0</td>\n",
              "      <td>0.0</td>\n",
              "      <td>4.0</td>\n",
              "      <td>0.0</td>\n",
              "      <td>22.0</td>\n",
              "      <td>4.0</td>\n",
              "      <td>260.0</td>\n",
              "    </tr>\n",
              "    <tr>\n",
              "      <th>3</th>\n",
              "      <td>AAA</td>\n",
              "      <td>2013J</td>\n",
              "      <td>31604</td>\n",
              "      <td>F</td>\n",
              "      <td>South East Region</td>\n",
              "      <td>A Level or Equivalent</td>\n",
              "      <td>50-60%</td>\n",
              "      <td>35-55</td>\n",
              "      <td>0</td>\n",
              "      <td>60</td>\n",
              "      <td>N</td>\n",
              "      <td>Pass</td>\n",
              "      <td>2.0</td>\n",
              "      <td>0.0</td>\n",
              "      <td>0.0</td>\n",
              "      <td>0.0</td>\n",
              "      <td>357.0</td>\n",
              "      <td>1.0</td>\n",
              "      <td>389.0</td>\n",
              "      <td>0.0</td>\n",
              "      <td>0.0</td>\n",
              "      <td>783.0</td>\n",
              "      <td>0.0</td>\n",
              "      <td>0.0</td>\n",
              "      <td>0.0</td>\n",
              "      <td>0.0</td>\n",
              "      <td>0.0</td>\n",
              "      <td>0.0</td>\n",
              "      <td>14.0</td>\n",
              "      <td>0.0</td>\n",
              "      <td>136.0</td>\n",
              "      <td>90.0</td>\n",
              "      <td>1772.0</td>\n",
              "    </tr>\n",
              "    <tr>\n",
              "      <th>4</th>\n",
              "      <td>AAA</td>\n",
              "      <td>2013J</td>\n",
              "      <td>32885</td>\n",
              "      <td>F</td>\n",
              "      <td>West Midlands Region</td>\n",
              "      <td>Lower Than A Level</td>\n",
              "      <td>50-60%</td>\n",
              "      <td>0-35</td>\n",
              "      <td>0</td>\n",
              "      <td>60</td>\n",
              "      <td>N</td>\n",
              "      <td>Pass</td>\n",
              "      <td>0.0</td>\n",
              "      <td>0.0</td>\n",
              "      <td>0.0</td>\n",
              "      <td>0.0</td>\n",
              "      <td>149.0</td>\n",
              "      <td>4.0</td>\n",
              "      <td>179.0</td>\n",
              "      <td>0.0</td>\n",
              "      <td>0.0</td>\n",
              "      <td>461.0</td>\n",
              "      <td>0.0</td>\n",
              "      <td>0.0</td>\n",
              "      <td>0.0</td>\n",
              "      <td>0.0</td>\n",
              "      <td>0.0</td>\n",
              "      <td>0.0</td>\n",
              "      <td>40.0</td>\n",
              "      <td>0.0</td>\n",
              "      <td>65.0</td>\n",
              "      <td>11.0</td>\n",
              "      <td>909.0</td>\n",
              "    </tr>\n",
              "  </tbody>\n",
              "</table>\n",
              "</div>"
            ],
            "text/plain": [
              "  code_module code_presentation  id_student  ... subpage   url sum_click\n",
              "0         AAA             2013J       11391  ...    30.0   5.0     786.0\n",
              "1         AAA             2013J       28400  ...    87.0  48.0    1396.0\n",
              "2         AAA             2013J       30268  ...    22.0   4.0     260.0\n",
              "3         AAA             2013J       31604  ...   136.0  90.0    1772.0\n",
              "4         AAA             2013J       32885  ...    65.0  11.0     909.0\n",
              "\n",
              "[5 rows x 33 columns]"
            ]
          },
          "metadata": {},
          "execution_count": 14
        }
      ]
    },
    {
      "cell_type": "code",
      "source": [
        "def tidy_up_dataset(student_all_info):\n",
        "  # remove rows with null\n",
        "  student_all_info.dropna(inplace=True)\n",
        "\n",
        "  # replace final result string with numerical representation\n",
        "  student_all_info.final_result = student_all_info.final_result.replace({'Withdrawn':0,'Fail':1,'Pass':2,'Distinction':3})\n",
        "\n",
        "  # remove withdrawnn students\n",
        "  student_all_info = student_all_info[student_all_info.final_result != 0]\n",
        "\n",
        "  return student_all_info"
      ],
      "metadata": {
        "id": "Dn7-jFeesgKN"
      },
      "execution_count": null,
      "outputs": []
    },
    {
      "cell_type": "code",
      "metadata": {
        "execution": {
          "iopub.execute_input": "2021-11-24T15:49:24.731759Z",
          "iopub.status.busy": "2021-11-24T15:49:24.731382Z",
          "iopub.status.idle": "2021-11-24T15:49:24.757195Z",
          "shell.execute_reply": "2021-11-24T15:49:24.756380Z",
          "shell.execute_reply.started": "2021-11-24T15:49:24.731730Z"
        },
        "id": "m925Y4SBz5gK"
      },
      "source": [
        "student_all_info = tidy_up_dataset(student_all_info.copy())"
      ],
      "execution_count": null,
      "outputs": []
    },
    {
      "cell_type": "code",
      "source": [
        "student_all_info.head()"
      ],
      "metadata": {
        "colab": {
          "base_uri": "https://localhost:8080/",
          "height": 347
        },
        "id": "S-VR2z2Lcqbi",
        "outputId": "0d3c5543-8e07-4edc-822e-7e984778749c"
      },
      "execution_count": null,
      "outputs": [
        {
          "output_type": "execute_result",
          "data": {
            "text/html": [
              "<div>\n",
              "<style scoped>\n",
              "    .dataframe tbody tr th:only-of-type {\n",
              "        vertical-align: middle;\n",
              "    }\n",
              "\n",
              "    .dataframe tbody tr th {\n",
              "        vertical-align: top;\n",
              "    }\n",
              "\n",
              "    .dataframe thead th {\n",
              "        text-align: right;\n",
              "    }\n",
              "</style>\n",
              "<table border=\"1\" class=\"dataframe\">\n",
              "  <thead>\n",
              "    <tr style=\"text-align: right;\">\n",
              "      <th></th>\n",
              "      <th>code_module</th>\n",
              "      <th>code_presentation</th>\n",
              "      <th>id_student</th>\n",
              "      <th>gender</th>\n",
              "      <th>region</th>\n",
              "      <th>highest_education</th>\n",
              "      <th>imd_band</th>\n",
              "      <th>age_band</th>\n",
              "      <th>num_of_prev_attempts</th>\n",
              "      <th>studied_credits</th>\n",
              "      <th>disability</th>\n",
              "      <th>final_result</th>\n",
              "      <th>dataplus</th>\n",
              "      <th>dualpane</th>\n",
              "      <th>externalquiz</th>\n",
              "      <th>folder</th>\n",
              "      <th>forumng</th>\n",
              "      <th>glossary</th>\n",
              "      <th>homepage</th>\n",
              "      <th>htmlactivity</th>\n",
              "      <th>oucollaborate</th>\n",
              "      <th>oucontent</th>\n",
              "      <th>ouelluminate</th>\n",
              "      <th>ouwiki</th>\n",
              "      <th>page</th>\n",
              "      <th>questionnaire</th>\n",
              "      <th>quiz</th>\n",
              "      <th>repeatactivity</th>\n",
              "      <th>resource</th>\n",
              "      <th>sharedsubpage</th>\n",
              "      <th>subpage</th>\n",
              "      <th>url</th>\n",
              "      <th>sum_click</th>\n",
              "    </tr>\n",
              "  </thead>\n",
              "  <tbody>\n",
              "    <tr>\n",
              "      <th>0</th>\n",
              "      <td>AAA</td>\n",
              "      <td>2013J</td>\n",
              "      <td>11391</td>\n",
              "      <td>M</td>\n",
              "      <td>East Anglian Region</td>\n",
              "      <td>HE Qualification</td>\n",
              "      <td>90-100%</td>\n",
              "      <td>55&lt;=</td>\n",
              "      <td>0</td>\n",
              "      <td>240</td>\n",
              "      <td>N</td>\n",
              "      <td>2</td>\n",
              "      <td>0.0</td>\n",
              "      <td>0.0</td>\n",
              "      <td>0.0</td>\n",
              "      <td>0.0</td>\n",
              "      <td>153.0</td>\n",
              "      <td>0.0</td>\n",
              "      <td>128.0</td>\n",
              "      <td>0.0</td>\n",
              "      <td>0.0</td>\n",
              "      <td>459.0</td>\n",
              "      <td>0.0</td>\n",
              "      <td>0.0</td>\n",
              "      <td>0.0</td>\n",
              "      <td>0.0</td>\n",
              "      <td>0.0</td>\n",
              "      <td>0.0</td>\n",
              "      <td>11.0</td>\n",
              "      <td>0.0</td>\n",
              "      <td>30.0</td>\n",
              "      <td>5.0</td>\n",
              "      <td>786.0</td>\n",
              "    </tr>\n",
              "    <tr>\n",
              "      <th>1</th>\n",
              "      <td>AAA</td>\n",
              "      <td>2013J</td>\n",
              "      <td>28400</td>\n",
              "      <td>F</td>\n",
              "      <td>Scotland</td>\n",
              "      <td>HE Qualification</td>\n",
              "      <td>20-30%</td>\n",
              "      <td>35-55</td>\n",
              "      <td>0</td>\n",
              "      <td>60</td>\n",
              "      <td>N</td>\n",
              "      <td>2</td>\n",
              "      <td>10.0</td>\n",
              "      <td>0.0</td>\n",
              "      <td>0.0</td>\n",
              "      <td>0.0</td>\n",
              "      <td>385.0</td>\n",
              "      <td>0.0</td>\n",
              "      <td>319.0</td>\n",
              "      <td>0.0</td>\n",
              "      <td>0.0</td>\n",
              "      <td>535.0</td>\n",
              "      <td>0.0</td>\n",
              "      <td>0.0</td>\n",
              "      <td>0.0</td>\n",
              "      <td>0.0</td>\n",
              "      <td>0.0</td>\n",
              "      <td>0.0</td>\n",
              "      <td>12.0</td>\n",
              "      <td>0.0</td>\n",
              "      <td>87.0</td>\n",
              "      <td>48.0</td>\n",
              "      <td>1396.0</td>\n",
              "    </tr>\n",
              "    <tr>\n",
              "      <th>3</th>\n",
              "      <td>AAA</td>\n",
              "      <td>2013J</td>\n",
              "      <td>31604</td>\n",
              "      <td>F</td>\n",
              "      <td>South East Region</td>\n",
              "      <td>A Level or Equivalent</td>\n",
              "      <td>50-60%</td>\n",
              "      <td>35-55</td>\n",
              "      <td>0</td>\n",
              "      <td>60</td>\n",
              "      <td>N</td>\n",
              "      <td>2</td>\n",
              "      <td>2.0</td>\n",
              "      <td>0.0</td>\n",
              "      <td>0.0</td>\n",
              "      <td>0.0</td>\n",
              "      <td>357.0</td>\n",
              "      <td>1.0</td>\n",
              "      <td>389.0</td>\n",
              "      <td>0.0</td>\n",
              "      <td>0.0</td>\n",
              "      <td>783.0</td>\n",
              "      <td>0.0</td>\n",
              "      <td>0.0</td>\n",
              "      <td>0.0</td>\n",
              "      <td>0.0</td>\n",
              "      <td>0.0</td>\n",
              "      <td>0.0</td>\n",
              "      <td>14.0</td>\n",
              "      <td>0.0</td>\n",
              "      <td>136.0</td>\n",
              "      <td>90.0</td>\n",
              "      <td>1772.0</td>\n",
              "    </tr>\n",
              "    <tr>\n",
              "      <th>4</th>\n",
              "      <td>AAA</td>\n",
              "      <td>2013J</td>\n",
              "      <td>32885</td>\n",
              "      <td>F</td>\n",
              "      <td>West Midlands Region</td>\n",
              "      <td>Lower Than A Level</td>\n",
              "      <td>50-60%</td>\n",
              "      <td>0-35</td>\n",
              "      <td>0</td>\n",
              "      <td>60</td>\n",
              "      <td>N</td>\n",
              "      <td>2</td>\n",
              "      <td>0.0</td>\n",
              "      <td>0.0</td>\n",
              "      <td>0.0</td>\n",
              "      <td>0.0</td>\n",
              "      <td>149.0</td>\n",
              "      <td>4.0</td>\n",
              "      <td>179.0</td>\n",
              "      <td>0.0</td>\n",
              "      <td>0.0</td>\n",
              "      <td>461.0</td>\n",
              "      <td>0.0</td>\n",
              "      <td>0.0</td>\n",
              "      <td>0.0</td>\n",
              "      <td>0.0</td>\n",
              "      <td>0.0</td>\n",
              "      <td>0.0</td>\n",
              "      <td>40.0</td>\n",
              "      <td>0.0</td>\n",
              "      <td>65.0</td>\n",
              "      <td>11.0</td>\n",
              "      <td>909.0</td>\n",
              "    </tr>\n",
              "    <tr>\n",
              "      <th>5</th>\n",
              "      <td>AAA</td>\n",
              "      <td>2013J</td>\n",
              "      <td>38053</td>\n",
              "      <td>M</td>\n",
              "      <td>Wales</td>\n",
              "      <td>A Level or Equivalent</td>\n",
              "      <td>80-90%</td>\n",
              "      <td>35-55</td>\n",
              "      <td>0</td>\n",
              "      <td>60</td>\n",
              "      <td>N</td>\n",
              "      <td>2</td>\n",
              "      <td>7.0</td>\n",
              "      <td>0.0</td>\n",
              "      <td>0.0</td>\n",
              "      <td>0.0</td>\n",
              "      <td>723.0</td>\n",
              "      <td>4.0</td>\n",
              "      <td>455.0</td>\n",
              "      <td>0.0</td>\n",
              "      <td>0.0</td>\n",
              "      <td>848.0</td>\n",
              "      <td>0.0</td>\n",
              "      <td>0.0</td>\n",
              "      <td>0.0</td>\n",
              "      <td>0.0</td>\n",
              "      <td>0.0</td>\n",
              "      <td>0.0</td>\n",
              "      <td>11.0</td>\n",
              "      <td>0.0</td>\n",
              "      <td>89.0</td>\n",
              "      <td>43.0</td>\n",
              "      <td>2180.0</td>\n",
              "    </tr>\n",
              "  </tbody>\n",
              "</table>\n",
              "</div>"
            ],
            "text/plain": [
              "  code_module code_presentation  id_student  ... subpage   url sum_click\n",
              "0         AAA             2013J       11391  ...    30.0   5.0     786.0\n",
              "1         AAA             2013J       28400  ...    87.0  48.0    1396.0\n",
              "3         AAA             2013J       31604  ...   136.0  90.0    1772.0\n",
              "4         AAA             2013J       32885  ...    65.0  11.0     909.0\n",
              "5         AAA             2013J       38053  ...    89.0  43.0    2180.0\n",
              "\n",
              "[5 rows x 33 columns]"
            ]
          },
          "metadata": {},
          "execution_count": 17
        }
      ]
    },
    {
      "cell_type": "code",
      "source": [
        "student_all_info.code_module.value_counts()"
      ],
      "metadata": {
        "colab": {
          "base_uri": "https://localhost:8080/"
        },
        "id": "uRkgaeWQtAaW",
        "outputId": "a42a43f8-f29a-4770-fc49-c222e672ece8"
      },
      "execution_count": null,
      "outputs": [
        {
          "output_type": "execute_result",
          "data": {
            "text/plain": [
              "BBB    5315\n",
              "FFF    5026\n",
              "DDD    3761\n",
              "CCC    2250\n",
              "GGG    2155\n",
              "EEE    2078\n",
              "AAA     601\n",
              "Name: code_module, dtype: int64"
            ]
          },
          "metadata": {},
          "execution_count": 18
        }
      ]
    },
    {
      "cell_type": "code",
      "source": [
        "student_all_info.to_csv(f'oulad_dataset_combined_{DEADLINE}.csv', index=False)"
      ],
      "metadata": {
        "id": "LkjVUpBFM1LA"
      },
      "execution_count": null,
      "outputs": []
    }
  ]
}