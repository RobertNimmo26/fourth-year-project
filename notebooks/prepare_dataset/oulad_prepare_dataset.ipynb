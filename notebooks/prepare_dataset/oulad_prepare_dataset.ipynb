{
  "nbformat": 4,
  "nbformat_minor": 0,
  "metadata": {
    "kernelspec": {
      "display_name": "Python 3",
      "language": "python",
      "name": "python3"
    },
    "language_info": {
      "codemirror_mode": {
        "name": "ipython",
        "version": 3
      },
      "file_extension": ".py",
      "mimetype": "text/x-python",
      "name": "python",
      "nbconvert_exporter": "python",
      "pygments_lexer": "ipython3",
      "version": "3.7.4"
    },
    "colab": {
      "name": "oulad_prepare_dataset.ipynb",
      "provenance": [],
      "collapsed_sections": []
    }
  },
  "cells": [
    {
      "cell_type": "markdown",
      "metadata": {
        "id": "50rs6MLKz5fn"
      },
      "source": [
        "# Prepare Dataset"
      ]
    },
    {
      "cell_type": "markdown",
      "metadata": {
        "id": "3yce43NF0Ku_"
      },
      "source": [
        "### GDrive Setup\n",
        "***- Only run if running on Google Colab***"
      ]
    },
    {
      "cell_type": "code",
      "metadata": {
        "colab": {
          "base_uri": "https://localhost:8080/"
        },
        "id": "uI68ucBxwNIs",
        "outputId": "f9f2b7d6-ea1a-452f-efc4-473b651bfeda"
      },
      "source": [
        "from google.colab import drive\n",
        "drive.mount('/content/drive')"
      ],
      "execution_count": null,
      "outputs": [
        {
          "output_type": "stream",
          "name": "stdout",
          "text": [
            "Mounted at /content/drive\n"
          ]
        }
      ]
    },
    {
      "cell_type": "markdown",
      "source": [
        "Set directory to location of OULAD dataset in google drive"
      ],
      "metadata": {
        "id": "wtpgCl3Z-k6M"
      }
    },
    {
      "cell_type": "code",
      "metadata": {
        "colab": {
          "base_uri": "https://localhost:8080/"
        },
        "id": "56oHg0Csw4vW",
        "outputId": "50f2db2f-7e33-41c9-992b-a07608b7a8c2"
      },
      "source": [
        "cd 'drive/My Drive/Colab Notebooks/4th year project/OULAD dataset'"
      ],
      "execution_count": null,
      "outputs": [
        {
          "output_type": "stream",
          "name": "stdout",
          "text": [
            "/content/drive/My Drive/Colab Notebooks/4th year project/OULAD dataset\n"
          ]
        }
      ]
    },
    {
      "cell_type": "code",
      "metadata": {
        "colab": {
          "base_uri": "https://localhost:8080/"
        },
        "id": "CjkQWwVIw0Dp",
        "outputId": "f84c03e9-073d-4cb6-a323-cb3d23f0721c"
      },
      "source": [
        "ls"
      ],
      "execution_count": null,
      "outputs": [
        {
          "output_type": "stream",
          "name": "stdout",
          "text": [
            "\u001b[0m\u001b[01;34manonymisedOUDataSet\u001b[0m/  oulad_dataset_combined.csv\n",
            "\u001b[01;34mDeadline\u001b[0m/             StudentAssessmentDaysDeadline.csv\n"
          ]
        }
      ]
    },
    {
      "cell_type": "markdown",
      "metadata": {
        "id": "v3Uycz2vz5fx"
      },
      "source": [
        "### Setup"
      ]
    },
    {
      "cell_type": "code",
      "metadata": {
        "id": "SmyB7uFCz5fz"
      },
      "source": [
        "import pandas as pd\n",
        "import numpy as np\n",
        "import os\n",
        "import sys"
      ],
      "execution_count": null,
      "outputs": []
    },
    {
      "cell_type": "code",
      "source": [
        "if 'google.colab' in sys.modules:\n",
        "  path = '../OULAD dataset'\n",
        "else:\n",
        "  path = '../../dataset'\n",
        "\n",
        "write_path = 'Deadline'"
      ],
      "metadata": {
        "id": "tXFQi0o9_Boe"
      },
      "execution_count": null,
      "outputs": []
    },
    {
      "cell_type": "code",
      "metadata": {
        "id": "arbitrary-pepper"
      },
      "source": [
        "assessments_df = pd.read_csv(f'{path}/anonymisedOUDataSet/assessments.csv')\n",
        "courses_df = pd.read_csv(f'{path}/anonymisedOUDataSet/courses.csv')\n",
        "student_assessments_df = pd.read_csv(f'{path}/anonymisedOUDataSet/studentAssessment.csv')\n",
        "student_info_df = pd.read_csv(f'{path}/anonymisedOUDataSet/studentInfo.csv')\n",
        "student_registration_df = pd.read_csv(f'{path}/anonymisedOUDataSet/studentRegistration.csv')\n",
        "student_vle_df = pd.read_csv(f'{path}/anonymisedOUDataSet/studentVle.csv')\n",
        "vle_df = pd.read_csv(f'{path}/anonymisedOUDataSet/vle.csv')"
      ],
      "execution_count": null,
      "outputs": []
    },
    {
      "cell_type": "code",
      "source": [
        "assessments_df['code_module'].value_counts()"
      ],
      "metadata": {
        "colab": {
          "base_uri": "https://localhost:8080/"
        },
        "id": "1K9kpA49RsKD",
        "outputId": "67b2af36-7862-40ac-c9fd-bc96f6d9afd3"
      },
      "execution_count": null,
      "outputs": [
        {
          "output_type": "execute_result",
          "data": {
            "text/plain": [
              "FFF    52\n",
              "BBB    42\n",
              "DDD    35\n",
              "GGG    30\n",
              "CCC    20\n",
              "EEE    15\n",
              "AAA    12\n",
              "Name: code_module, dtype: int64"
            ]
          },
          "metadata": {},
          "execution_count": 7
        }
      ]
    },
    {
      "cell_type": "code",
      "source": [
        "assessments_df['code_presentation'].value_counts()"
      ],
      "metadata": {
        "colab": {
          "base_uri": "https://localhost:8080/"
        },
        "id": "BaJSRpbiV04e",
        "outputId": "f82d713b-3cb7-4cc9-89a1-c005755d81f4"
      },
      "execution_count": null,
      "outputs": [
        {
          "output_type": "execute_result",
          "data": {
            "text/plain": [
              "2014J    57\n",
              "2014B    57\n",
              "2013J    53\n",
              "2013B    39\n",
              "Name: code_presentation, dtype: int64"
            ]
          },
          "metadata": {},
          "execution_count": 8
        }
      ]
    },
    {
      "cell_type": "markdown",
      "source": [
        "### Dates for each assessment"
      ],
      "metadata": {
        "id": "tvXrf2x1ekD9"
      }
    },
    {
      "cell_type": "markdown",
      "source": [
        "#### Course Presentation for AAA\n",
        "* 2013J\n",
        "* 2014J\n",
        "\n",
        "Assessments are the same each year"
      ],
      "metadata": {
        "id": "8N1zvpD1Zq1J"
      }
    },
    {
      "cell_type": "code",
      "source": [
        "assessments_df.loc[assessments_df['code_module']==\"AAA\"].code_presentation.value_counts()"
      ],
      "metadata": {
        "colab": {
          "base_uri": "https://localhost:8080/"
        },
        "id": "uwOiUitEXJjt",
        "outputId": "160d2fdd-f1b3-4d7b-c5d4-ebe7fbddcb0e"
      },
      "execution_count": null,
      "outputs": [
        {
          "output_type": "execute_result",
          "data": {
            "text/plain": [
              "2013J    6\n",
              "2014J    6\n",
              "Name: code_presentation, dtype: int64"
            ]
          },
          "metadata": {},
          "execution_count": 9
        }
      ]
    },
    {
      "cell_type": "code",
      "source": [
        "assessments_df.loc[(assessments_df['code_module']==\"AAA\") & (assessments_df['code_presentation']==\"2013J\")].sort_values('date').date"
      ],
      "metadata": {
        "colab": {
          "base_uri": "https://localhost:8080/"
        },
        "id": "x2iol3OGd18F",
        "outputId": "8606bd4f-7814-4d54-fcdb-e30f412be8a2"
      },
      "execution_count": null,
      "outputs": [
        {
          "output_type": "execute_result",
          "data": {
            "text/plain": [
              "0     19.0\n",
              "1     54.0\n",
              "2    117.0\n",
              "3    166.0\n",
              "4    215.0\n",
              "5      NaN\n",
              "Name: date, dtype: float64"
            ]
          },
          "metadata": {},
          "execution_count": 10
        }
      ]
    },
    {
      "cell_type": "code",
      "source": [
        "assessments_df.loc[(assessments_df['code_module']==\"AAA\") & (assessments_df['code_presentation']==\"2014J\")].sort_values('date').date"
      ],
      "metadata": {
        "colab": {
          "base_uri": "https://localhost:8080/"
        },
        "id": "3DZgt9luZ7U-",
        "outputId": "56d826b4-6cd0-44b8-af98-1aabee736e32"
      },
      "execution_count": null,
      "outputs": [
        {
          "output_type": "execute_result",
          "data": {
            "text/plain": [
              "6      19.0\n",
              "7      54.0\n",
              "8     117.0\n",
              "9     166.0\n",
              "10    215.0\n",
              "11      NaN\n",
              "Name: date, dtype: float64"
            ]
          },
          "metadata": {},
          "execution_count": 11
        }
      ]
    },
    {
      "cell_type": "markdown",
      "source": [
        "#### Course Presentation for BBB\n",
        "* 2013B\n",
        "* 2013J\n",
        "* 2014B\n",
        "* 2014J\n",
        "\n",
        "\n",
        "Assessments are the same in 2013 but vary in 2014. Small variety of dates."
      ],
      "metadata": {
        "id": "iZmV1QHibIEV"
      }
    },
    {
      "cell_type": "code",
      "source": [
        "assessments_df.loc[assessments_df['code_module']==\"BBB\"].code_presentation.value_counts()"
      ],
      "metadata": {
        "colab": {
          "base_uri": "https://localhost:8080/"
        },
        "id": "Dmo6iU6-XIWo",
        "outputId": "07527de4-64cb-482d-a893-65275b57d9ad"
      },
      "execution_count": null,
      "outputs": [
        {
          "output_type": "execute_result",
          "data": {
            "text/plain": [
              "2013B    12\n",
              "2013J    12\n",
              "2014B    12\n",
              "2014J     6\n",
              "Name: code_presentation, dtype: int64"
            ]
          },
          "metadata": {},
          "execution_count": 12
        }
      ]
    },
    {
      "cell_type": "code",
      "source": [
        "assessments_df.loc[(assessments_df['code_module']==\"BBB\") & (assessments_df['code_presentation']==\"2013B\")].sort_values('date').date"
      ],
      "metadata": {
        "colab": {
          "base_uri": "https://localhost:8080/"
        },
        "id": "vLkS-JzzcEbY",
        "outputId": "1480c754-45c9-4679-c42e-94c021b7474a"
      },
      "execution_count": null,
      "outputs": [
        {
          "output_type": "execute_result",
          "data": {
            "text/plain": [
              "17     19.0\n",
              "18     47.0\n",
              "12     54.0\n",
              "13     89.0\n",
              "19     89.0\n",
              "14    124.0\n",
              "20    124.0\n",
              "15    159.0\n",
              "21    159.0\n",
              "16    187.0\n",
              "22    187.0\n",
              "23      NaN\n",
              "Name: date, dtype: float64"
            ]
          },
          "metadata": {},
          "execution_count": 13
        }
      ]
    },
    {
      "cell_type": "code",
      "source": [
        "assessments_df.loc[(assessments_df['code_module']==\"BBB\") & (assessments_df['code_presentation']==\"2013J\")].sort_values('date').date"
      ],
      "metadata": {
        "colab": {
          "base_uri": "https://localhost:8080/"
        },
        "id": "ZT8M4eX5R55A",
        "outputId": "7ee00d34-fd57-45c4-a112-e19b3d83ae4f"
      },
      "execution_count": null,
      "outputs": [
        {
          "output_type": "execute_result",
          "data": {
            "text/plain": [
              "29     19.0\n",
              "30     47.0\n",
              "24     54.0\n",
              "25     96.0\n",
              "31     96.0\n",
              "26    131.0\n",
              "32    131.0\n",
              "27    166.0\n",
              "33    166.0\n",
              "28    208.0\n",
              "34    208.0\n",
              "35      NaN\n",
              "Name: date, dtype: float64"
            ]
          },
          "metadata": {},
          "execution_count": 14
        }
      ]
    },
    {
      "cell_type": "code",
      "source": [
        "assessments_df.loc[(assessments_df['code_module']==\"BBB\") & (assessments_df['code_presentation']==\"2014B\")].sort_values('date').date"
      ],
      "metadata": {
        "colab": {
          "base_uri": "https://localhost:8080/"
        },
        "id": "odVce6lUcI3d",
        "outputId": "56642661-30b3-4865-b649-44bfd6512ad6"
      },
      "execution_count": null,
      "outputs": [
        {
          "output_type": "execute_result",
          "data": {
            "text/plain": [
              "41     12.0\n",
              "42     40.0\n",
              "36     47.0\n",
              "37     82.0\n",
              "43     82.0\n",
              "38    117.0\n",
              "44    117.0\n",
              "39    152.0\n",
              "45    152.0\n",
              "40    194.0\n",
              "46    194.0\n",
              "47      NaN\n",
              "Name: date, dtype: float64"
            ]
          },
          "metadata": {},
          "execution_count": 15
        }
      ]
    },
    {
      "cell_type": "code",
      "source": [
        "assessments_df.loc[(assessments_df['code_module']==\"BBB\") & (assessments_df['code_presentation']==\"2014J\")].sort_values('date').date"
      ],
      "metadata": {
        "colab": {
          "base_uri": "https://localhost:8080/"
        },
        "id": "4IT0Q34ccIbH",
        "outputId": "4b94930e-972d-499e-e95b-d8b4bc375d9e"
      },
      "execution_count": null,
      "outputs": [
        {
          "output_type": "execute_result",
          "data": {
            "text/plain": [
              "48     19.0\n",
              "49     54.0\n",
              "50    110.0\n",
              "51    152.0\n",
              "52    201.0\n",
              "53      NaN\n",
              "Name: date, dtype: float64"
            ]
          },
          "metadata": {},
          "execution_count": 16
        }
      ]
    },
    {
      "cell_type": "markdown",
      "source": [
        "#### Course Presentation for CCC\n",
        "\n",
        "* 2014B\n",
        "* 2014J\n",
        "\n",
        "Assessments are the same each year with a minor variety in dates of assessment"
      ],
      "metadata": {
        "id": "se3zM0a6chGt"
      }
    },
    {
      "cell_type": "code",
      "source": [
        "assessments_df.loc[assessments_df['code_module']==\"CCC\"].code_presentation.value_counts()"
      ],
      "metadata": {
        "colab": {
          "base_uri": "https://localhost:8080/"
        },
        "id": "KBA7mzr-WwvP",
        "outputId": "43ddb567-567b-4abf-a94e-e40a3a767a0e"
      },
      "execution_count": null,
      "outputs": [
        {
          "output_type": "execute_result",
          "data": {
            "text/plain": [
              "2014B    10\n",
              "2014J    10\n",
              "Name: code_presentation, dtype: int64"
            ]
          },
          "metadata": {},
          "execution_count": 17
        }
      ]
    },
    {
      "cell_type": "code",
      "source": [
        "assessments_df.loc[(assessments_df['code_module']==\"CCC\") & (assessments_df['code_presentation']==\"2014B\")].sort_values('date').date"
      ],
      "metadata": {
        "colab": {
          "base_uri": "https://localhost:8080/"
        },
        "id": "HWIov8IDR6EQ",
        "outputId": "3d69be95-d180-49d0-fd1f-d6bfd4b8737f"
      },
      "execution_count": null,
      "outputs": [
        {
          "output_type": "execute_result",
          "data": {
            "text/plain": [
              "54     18.0\n",
              "58     32.0\n",
              "55     67.0\n",
              "59    102.0\n",
              "56    137.0\n",
              "60    151.0\n",
              "61    200.0\n",
              "57    207.0\n",
              "62      NaN\n",
              "63      NaN\n",
              "Name: date, dtype: float64"
            ]
          },
          "metadata": {},
          "execution_count": 18
        }
      ]
    },
    {
      "cell_type": "code",
      "source": [
        "assessments_df.loc[(assessments_df['code_module']==\"CCC\") & (assessments_df['code_presentation']==\"2014J\")].sort_values('date').date"
      ],
      "metadata": {
        "colab": {
          "base_uri": "https://localhost:8080/"
        },
        "id": "vBBxmmQ5c89f",
        "outputId": "5f203550-57fc-477c-9d02-2da34171da33"
      },
      "execution_count": null,
      "outputs": [
        {
          "output_type": "execute_result",
          "data": {
            "text/plain": [
              "64     18.0\n",
              "68     32.0\n",
              "65     67.0\n",
              "69    109.0\n",
              "66    144.0\n",
              "70    158.0\n",
              "71    207.0\n",
              "67    214.0\n",
              "72      NaN\n",
              "73      NaN\n",
              "Name: date, dtype: float64"
            ]
          },
          "metadata": {},
          "execution_count": 19
        }
      ]
    },
    {
      "cell_type": "markdown",
      "source": [
        "#### Course Presentation for DDD\n",
        "\n",
        "* 2013B\n",
        "* 2013J\n",
        "* 2014B\n",
        "* 2014J\n",
        "\n",
        "Assessments are different for 2013B but the rest of the assessments follow a similar assessment structure with a small variety of dates"
      ],
      "metadata": {
        "id": "fyQDn2K9dKeY"
      }
    },
    {
      "cell_type": "code",
      "source": [
        "assessments_df.loc[assessments_df['code_module']==\"DDD\"].code_presentation.value_counts()"
      ],
      "metadata": {
        "colab": {
          "base_uri": "https://localhost:8080/"
        },
        "id": "MIxcrR2NXLTU",
        "outputId": "388d8499-735a-48ea-8812-2a55c4b4bed0"
      },
      "execution_count": null,
      "outputs": [
        {
          "output_type": "execute_result",
          "data": {
            "text/plain": [
              "2013B    14\n",
              "2013J     7\n",
              "2014B     7\n",
              "2014J     7\n",
              "Name: code_presentation, dtype: int64"
            ]
          },
          "metadata": {},
          "execution_count": 20
        }
      ]
    },
    {
      "cell_type": "code",
      "source": [
        "assessments_df.loc[(assessments_df['code_module']==\"DDD\") & (assessments_df['code_presentation']==\"2013B\")].sort_values('date').date"
      ],
      "metadata": {
        "colab": {
          "base_uri": "https://localhost:8080/"
        },
        "id": "bXZkEtcGdYnN",
        "outputId": "0f841624-e3dc-4a39-e10e-8185efe69964"
      },
      "execution_count": null,
      "outputs": [
        {
          "output_type": "execute_result",
          "data": {
            "text/plain": [
              "74     23.0\n",
              "81     25.0\n",
              "75     51.0\n",
              "82     53.0\n",
              "76     79.0\n",
              "83     81.0\n",
              "77    114.0\n",
              "84    116.0\n",
              "78    149.0\n",
              "85    151.0\n",
              "79    170.0\n",
              "86    200.0\n",
              "80    206.0\n",
              "87    240.0\n",
              "Name: date, dtype: float64"
            ]
          },
          "metadata": {},
          "execution_count": 21
        }
      ]
    },
    {
      "cell_type": "code",
      "source": [
        "assessments_df.loc[(assessments_df['code_module']==\"DDD\") & (assessments_df['code_presentation']==\"2013J\")].sort_values('date').date"
      ],
      "metadata": {
        "colab": {
          "base_uri": "https://localhost:8080/"
        },
        "id": "9WqVJrwpR6OJ",
        "outputId": "af590a19-c45b-43fb-da1d-d37816927ffb"
      },
      "execution_count": null,
      "outputs": [
        {
          "output_type": "execute_result",
          "data": {
            "text/plain": [
              "88     25.0\n",
              "89     53.0\n",
              "90     88.0\n",
              "91    123.0\n",
              "92    165.0\n",
              "93    207.0\n",
              "94    261.0\n",
              "Name: date, dtype: float64"
            ]
          },
          "metadata": {},
          "execution_count": 22
        }
      ]
    },
    {
      "cell_type": "code",
      "source": [
        "assessments_df.loc[(assessments_df['code_module']==\"DDD\") & (assessments_df['code_presentation']==\"2014B\")].sort_values('date').date"
      ],
      "metadata": {
        "colab": {
          "base_uri": "https://localhost:8080/"
        },
        "id": "V_8qEqEOdaFX",
        "outputId": "cdefe0ec-6694-48a8-c74b-f149af90316f"
      },
      "execution_count": null,
      "outputs": [
        {
          "output_type": "execute_result",
          "data": {
            "text/plain": [
              "95      25.0\n",
              "96      53.0\n",
              "97      74.0\n",
              "98     116.0\n",
              "99     158.0\n",
              "100    200.0\n",
              "101    241.0\n",
              "Name: date, dtype: float64"
            ]
          },
          "metadata": {},
          "execution_count": 23
        }
      ]
    },
    {
      "cell_type": "code",
      "source": [
        "assessments_df.loc[(assessments_df['code_module']==\"DDD\") & (assessments_df['code_presentation']==\"2014J\")].sort_values('date').date"
      ],
      "metadata": {
        "colab": {
          "base_uri": "https://localhost:8080/"
        },
        "id": "fjkgHvFDdaTr",
        "outputId": "8c991e9d-90a8-4d5d-c1ef-75f6c45df15a"
      },
      "execution_count": null,
      "outputs": [
        {
          "output_type": "execute_result",
          "data": {
            "text/plain": [
              "102     20.0\n",
              "103     41.0\n",
              "104     62.0\n",
              "105    111.0\n",
              "106    146.0\n",
              "107    195.0\n",
              "108      NaN\n",
              "Name: date, dtype: float64"
            ]
          },
          "metadata": {},
          "execution_count": 24
        }
      ]
    },
    {
      "cell_type": "markdown",
      "source": [
        "#### Course Presentation for EEE\n",
        "\n",
        "* 2013J\n",
        "* 2014B\n",
        "* 2014J\n",
        "\n",
        "Assessments are the same each year with a small variety of dates"
      ],
      "metadata": {
        "id": "sfWCOZdgdxXE"
      }
    },
    {
      "cell_type": "code",
      "source": [
        "assessments_df.loc[assessments_df['code_module']==\"EEE\"].code_presentation.value_counts()"
      ],
      "metadata": {
        "colab": {
          "base_uri": "https://localhost:8080/"
        },
        "id": "lbeTsoWcXMlw",
        "outputId": "372f2cf1-cbcb-4654-d7fb-11e6045a80bb"
      },
      "execution_count": null,
      "outputs": [
        {
          "output_type": "execute_result",
          "data": {
            "text/plain": [
              "2013J    5\n",
              "2014B    5\n",
              "2014J    5\n",
              "Name: code_presentation, dtype: int64"
            ]
          },
          "metadata": {},
          "execution_count": 25
        }
      ]
    },
    {
      "cell_type": "code",
      "source": [
        "assessments_df.loc[(assessments_df['code_module']==\"EEE\") & (assessments_df['code_presentation']==\"2013J\")].sort_values('date').date"
      ],
      "metadata": {
        "colab": {
          "base_uri": "https://localhost:8080/"
        },
        "id": "WgsN6oFnR8En",
        "outputId": "b21e9508-8b34-4cda-876b-d1a6160f70b2"
      },
      "execution_count": null,
      "outputs": [
        {
          "output_type": "execute_result",
          "data": {
            "text/plain": [
              "109     33.0\n",
              "110     68.0\n",
              "111    124.0\n",
              "112    159.0\n",
              "113    235.0\n",
              "Name: date, dtype: float64"
            ]
          },
          "metadata": {},
          "execution_count": 26
        }
      ]
    },
    {
      "cell_type": "code",
      "source": [
        "assessments_df.loc[(assessments_df['code_module']==\"EEE\") & (assessments_df['code_presentation']==\"2014B\")].sort_values('date').date"
      ],
      "metadata": {
        "colab": {
          "base_uri": "https://localhost:8080/"
        },
        "id": "3vXaOuzBe8NE",
        "outputId": "ffa4efc5-7299-427e-ad12-f2c488196fce"
      },
      "execution_count": null,
      "outputs": [
        {
          "output_type": "execute_result",
          "data": {
            "text/plain": [
              "114     33.0\n",
              "115     68.0\n",
              "116    117.0\n",
              "117    152.0\n",
              "118    228.0\n",
              "Name: date, dtype: float64"
            ]
          },
          "metadata": {},
          "execution_count": 27
        }
      ]
    },
    {
      "cell_type": "code",
      "source": [
        "assessments_df.loc[(assessments_df['code_module']==\"EEE\") & (assessments_df['code_presentation']==\"2014J\")].sort_values('date').date"
      ],
      "metadata": {
        "colab": {
          "base_uri": "https://localhost:8080/"
        },
        "id": "mVF0wCSMe8rG",
        "outputId": "a7091b5e-0c74-4b4d-8bb3-1bc04b3115cc"
      },
      "execution_count": null,
      "outputs": [
        {
          "output_type": "execute_result",
          "data": {
            "text/plain": [
              "119     33.0\n",
              "120     68.0\n",
              "121    131.0\n",
              "122    166.0\n",
              "123    235.0\n",
              "Name: date, dtype: float64"
            ]
          },
          "metadata": {},
          "execution_count": 28
        }
      ]
    },
    {
      "cell_type": "markdown",
      "source": [
        "#### Course Presentation for FFF\n",
        "\n",
        "* 2013B\n",
        "* 2013J\n",
        "* 2014B\n",
        "* 2014J\n",
        "\n",
        "Same assessment structure with a slight change of dates year on year"
      ],
      "metadata": {
        "id": "l0qUBtfRfiVY"
      }
    },
    {
      "cell_type": "code",
      "source": [
        "assessments_df.loc[assessments_df['code_module']==\"FFF\"].code_presentation.value_counts()"
      ],
      "metadata": {
        "colab": {
          "base_uri": "https://localhost:8080/"
        },
        "id": "IGS7IRPMXN2m",
        "outputId": "3d0bf637-055a-4d6d-ee26-4d2ee539aaa6"
      },
      "execution_count": null,
      "outputs": [
        {
          "output_type": "execute_result",
          "data": {
            "text/plain": [
              "2013B    13\n",
              "2013J    13\n",
              "2014B    13\n",
              "2014J    13\n",
              "Name: code_presentation, dtype: int64"
            ]
          },
          "metadata": {},
          "execution_count": 29
        }
      ]
    },
    {
      "cell_type": "code",
      "source": [
        "assessments_df.loc[(assessments_df['code_module']==\"FFF\") & (assessments_df['code_presentation']==\"2013B\")].sort_values('date').date"
      ],
      "metadata": {
        "colab": {
          "base_uri": "https://localhost:8080/"
        },
        "id": "SmCzpFLOforz",
        "outputId": "7cf64668-1006-4499-99f9-6b4259ef38b1"
      },
      "execution_count": null,
      "outputs": [
        {
          "output_type": "execute_result",
          "data": {
            "text/plain": [
              "131     19.0\n",
              "132     47.0\n",
              "133     89.0\n",
              "134    131.0\n",
              "135    166.0\n",
              "124    222.0\n",
              "125    222.0\n",
              "126    222.0\n",
              "127    222.0\n",
              "128    222.0\n",
              "129    222.0\n",
              "130    222.0\n",
              "136    222.0\n",
              "Name: date, dtype: float64"
            ]
          },
          "metadata": {},
          "execution_count": 30
        }
      ]
    },
    {
      "cell_type": "code",
      "source": [
        "assessments_df.loc[(assessments_df['code_module']==\"FFF\") & (assessments_df['code_presentation']==\"2013J\")].sort_values('date').date"
      ],
      "metadata": {
        "colab": {
          "base_uri": "https://localhost:8080/"
        },
        "id": "Is40bp1YR8Ro",
        "outputId": "e3a80229-7a15-4be3-d5cc-3c4acf22a146"
      },
      "execution_count": null,
      "outputs": [
        {
          "output_type": "execute_result",
          "data": {
            "text/plain": [
              "144     19.0\n",
              "145     47.0\n",
              "146     96.0\n",
              "147    131.0\n",
              "148    173.0\n",
              "137    236.0\n",
              "138    236.0\n",
              "139    236.0\n",
              "140    236.0\n",
              "141    236.0\n",
              "142    236.0\n",
              "143    236.0\n",
              "149    236.0\n",
              "Name: date, dtype: float64"
            ]
          },
          "metadata": {},
          "execution_count": 31
        }
      ]
    },
    {
      "cell_type": "code",
      "source": [
        "assessments_df.loc[(assessments_df['code_module']==\"FFF\") & (assessments_df['code_presentation']==\"2014B\")].sort_values('date').date"
      ],
      "metadata": {
        "colab": {
          "base_uri": "https://localhost:8080/"
        },
        "id": "yDnHPCeGfrgC",
        "outputId": "49bac181-f161-4958-e0b3-b35d740081ea"
      },
      "execution_count": null,
      "outputs": [
        {
          "output_type": "execute_result",
          "data": {
            "text/plain": [
              "157     24.0\n",
              "158     52.0\n",
              "159     87.0\n",
              "160    129.0\n",
              "161    171.0\n",
              "150    227.0\n",
              "151    227.0\n",
              "152    227.0\n",
              "153    227.0\n",
              "154    227.0\n",
              "155    227.0\n",
              "156    227.0\n",
              "162    227.0\n",
              "Name: date, dtype: float64"
            ]
          },
          "metadata": {},
          "execution_count": 32
        }
      ]
    },
    {
      "cell_type": "code",
      "source": [
        "assessments_df.loc[(assessments_df['code_module']==\"FFF\") & (assessments_df['code_presentation']==\"2014J\")].sort_values('date').date"
      ],
      "metadata": {
        "colab": {
          "base_uri": "https://localhost:8080/"
        },
        "id": "rgYDmK-eftWd",
        "outputId": "dc0a75e3-45a2-4fa2-e725-a6799f1771bb"
      },
      "execution_count": null,
      "outputs": [
        {
          "output_type": "execute_result",
          "data": {
            "text/plain": [
              "170     24.0\n",
              "171     52.0\n",
              "172     94.0\n",
              "173    136.0\n",
              "174    199.0\n",
              "163    241.0\n",
              "164    241.0\n",
              "165    241.0\n",
              "166    241.0\n",
              "167    241.0\n",
              "168    241.0\n",
              "169    241.0\n",
              "175    241.0\n",
              "Name: date, dtype: float64"
            ]
          },
          "metadata": {},
          "execution_count": 33
        }
      ]
    },
    {
      "cell_type": "markdown",
      "source": [
        "#### Course Presentation for GGG\n",
        "\n",
        "* 2013J\n",
        "* 2014B\n",
        "* 2014J\n",
        "\n",
        "Same assessmen structure with a slight change of dates year on year"
      ],
      "metadata": {
        "id": "GFFPea6TgFSB"
      }
    },
    {
      "cell_type": "code",
      "source": [
        "assessments_df.loc[assessments_df['code_module']==\"GGG\"].code_presentation.value_counts()"
      ],
      "metadata": {
        "colab": {
          "base_uri": "https://localhost:8080/"
        },
        "id": "IwOOdXp4XPLm",
        "outputId": "4d7aa46d-3db4-4f9f-84a2-2975cd5d9c72"
      },
      "execution_count": null,
      "outputs": [
        {
          "output_type": "execute_result",
          "data": {
            "text/plain": [
              "2013J    10\n",
              "2014B    10\n",
              "2014J    10\n",
              "Name: code_presentation, dtype: int64"
            ]
          },
          "metadata": {},
          "execution_count": 34
        }
      ]
    },
    {
      "cell_type": "code",
      "source": [
        "assessments_df.loc[(assessments_df['code_module']==\"GGG\") & (assessments_df['code_presentation']==\"2013J\")].sort_values('date').date"
      ],
      "metadata": {
        "colab": {
          "base_uri": "https://localhost:8080/"
        },
        "id": "P6fmef9lR8bu",
        "outputId": "4654f47e-57e1-467b-974d-b34c2e9611b1"
      },
      "execution_count": null,
      "outputs": [
        {
          "output_type": "execute_result",
          "data": {
            "text/plain": [
              "182     61.0\n",
              "183    124.0\n",
              "184    173.0\n",
              "176    229.0\n",
              "177    229.0\n",
              "178    229.0\n",
              "179    229.0\n",
              "180    229.0\n",
              "181    229.0\n",
              "185    229.0\n",
              "Name: date, dtype: float64"
            ]
          },
          "metadata": {},
          "execution_count": 35
        }
      ]
    },
    {
      "cell_type": "code",
      "source": [
        "assessments_df.loc[(assessments_df['code_module']==\"GGG\") & (assessments_df['code_presentation']==\"2014B\")].sort_values('date').date"
      ],
      "metadata": {
        "colab": {
          "base_uri": "https://localhost:8080/"
        },
        "id": "1KyLMG2YgMqR",
        "outputId": "ccaff1c2-7488-4d7d-d510-469726b02815"
      },
      "execution_count": null,
      "outputs": [
        {
          "output_type": "execute_result",
          "data": {
            "text/plain": [
              "192     61.0\n",
              "193    117.0\n",
              "194    166.0\n",
              "186    222.0\n",
              "187    222.0\n",
              "188    222.0\n",
              "189    222.0\n",
              "190    222.0\n",
              "191    222.0\n",
              "195    222.0\n",
              "Name: date, dtype: float64"
            ]
          },
          "metadata": {},
          "execution_count": 36
        }
      ]
    },
    {
      "cell_type": "code",
      "source": [
        "assessments_df.loc[(assessments_df['code_module']==\"GGG\") & (assessments_df['code_presentation']==\"2014J\")].sort_values('date').date"
      ],
      "metadata": {
        "colab": {
          "base_uri": "https://localhost:8080/"
        },
        "id": "U45mqG8rgNOI",
        "outputId": "59c84dc1-6435-4e01-a528-4592879b1c18"
      },
      "execution_count": null,
      "outputs": [
        {
          "output_type": "execute_result",
          "data": {
            "text/plain": [
              "202     61.0\n",
              "203    124.0\n",
              "204    173.0\n",
              "196    229.0\n",
              "197    229.0\n",
              "198    229.0\n",
              "199    229.0\n",
              "200    229.0\n",
              "201    229.0\n",
              "205    229.0\n",
              "Name: date, dtype: float64"
            ]
          },
          "metadata": {},
          "execution_count": 37
        }
      ]
    },
    {
      "cell_type": "code",
      "source": [
        "assessments_df.loc[(assessments_df['assessment_type'] != 'Exam')]"
      ],
      "metadata": {
        "colab": {
          "base_uri": "https://localhost:8080/",
          "height": 423
        },
        "id": "q7TCT954h_8r",
        "outputId": "b9fae4a5-a5b9-4c42-abea-0c59da660e8d"
      },
      "execution_count": null,
      "outputs": [
        {
          "output_type": "execute_result",
          "data": {
            "text/html": [
              "\n",
              "  <div id=\"df-fd55df1a-2e27-4a1d-b5e5-3fd56faa3fcf\">\n",
              "    <div class=\"colab-df-container\">\n",
              "      <div>\n",
              "<style scoped>\n",
              "    .dataframe tbody tr th:only-of-type {\n",
              "        vertical-align: middle;\n",
              "    }\n",
              "\n",
              "    .dataframe tbody tr th {\n",
              "        vertical-align: top;\n",
              "    }\n",
              "\n",
              "    .dataframe thead th {\n",
              "        text-align: right;\n",
              "    }\n",
              "</style>\n",
              "<table border=\"1\" class=\"dataframe\">\n",
              "  <thead>\n",
              "    <tr style=\"text-align: right;\">\n",
              "      <th></th>\n",
              "      <th>code_module</th>\n",
              "      <th>code_presentation</th>\n",
              "      <th>id_assessment</th>\n",
              "      <th>assessment_type</th>\n",
              "      <th>date</th>\n",
              "      <th>weight</th>\n",
              "    </tr>\n",
              "  </thead>\n",
              "  <tbody>\n",
              "    <tr>\n",
              "      <th>0</th>\n",
              "      <td>AAA</td>\n",
              "      <td>2013J</td>\n",
              "      <td>1752</td>\n",
              "      <td>TMA</td>\n",
              "      <td>19.0</td>\n",
              "      <td>10.0</td>\n",
              "    </tr>\n",
              "    <tr>\n",
              "      <th>1</th>\n",
              "      <td>AAA</td>\n",
              "      <td>2013J</td>\n",
              "      <td>1753</td>\n",
              "      <td>TMA</td>\n",
              "      <td>54.0</td>\n",
              "      <td>20.0</td>\n",
              "    </tr>\n",
              "    <tr>\n",
              "      <th>2</th>\n",
              "      <td>AAA</td>\n",
              "      <td>2013J</td>\n",
              "      <td>1754</td>\n",
              "      <td>TMA</td>\n",
              "      <td>117.0</td>\n",
              "      <td>20.0</td>\n",
              "    </tr>\n",
              "    <tr>\n",
              "      <th>3</th>\n",
              "      <td>AAA</td>\n",
              "      <td>2013J</td>\n",
              "      <td>1755</td>\n",
              "      <td>TMA</td>\n",
              "      <td>166.0</td>\n",
              "      <td>20.0</td>\n",
              "    </tr>\n",
              "    <tr>\n",
              "      <th>4</th>\n",
              "      <td>AAA</td>\n",
              "      <td>2013J</td>\n",
              "      <td>1756</td>\n",
              "      <td>TMA</td>\n",
              "      <td>215.0</td>\n",
              "      <td>30.0</td>\n",
              "    </tr>\n",
              "    <tr>\n",
              "      <th>...</th>\n",
              "      <td>...</td>\n",
              "      <td>...</td>\n",
              "      <td>...</td>\n",
              "      <td>...</td>\n",
              "      <td>...</td>\n",
              "      <td>...</td>\n",
              "    </tr>\n",
              "    <tr>\n",
              "      <th>200</th>\n",
              "      <td>GGG</td>\n",
              "      <td>2014J</td>\n",
              "      <td>37442</td>\n",
              "      <td>CMA</td>\n",
              "      <td>229.0</td>\n",
              "      <td>0.0</td>\n",
              "    </tr>\n",
              "    <tr>\n",
              "      <th>201</th>\n",
              "      <td>GGG</td>\n",
              "      <td>2014J</td>\n",
              "      <td>37443</td>\n",
              "      <td>CMA</td>\n",
              "      <td>229.0</td>\n",
              "      <td>0.0</td>\n",
              "    </tr>\n",
              "    <tr>\n",
              "      <th>202</th>\n",
              "      <td>GGG</td>\n",
              "      <td>2014J</td>\n",
              "      <td>37435</td>\n",
              "      <td>TMA</td>\n",
              "      <td>61.0</td>\n",
              "      <td>0.0</td>\n",
              "    </tr>\n",
              "    <tr>\n",
              "      <th>203</th>\n",
              "      <td>GGG</td>\n",
              "      <td>2014J</td>\n",
              "      <td>37436</td>\n",
              "      <td>TMA</td>\n",
              "      <td>124.0</td>\n",
              "      <td>0.0</td>\n",
              "    </tr>\n",
              "    <tr>\n",
              "      <th>204</th>\n",
              "      <td>GGG</td>\n",
              "      <td>2014J</td>\n",
              "      <td>37437</td>\n",
              "      <td>TMA</td>\n",
              "      <td>173.0</td>\n",
              "      <td>0.0</td>\n",
              "    </tr>\n",
              "  </tbody>\n",
              "</table>\n",
              "<p>182 rows × 6 columns</p>\n",
              "</div>\n",
              "      <button class=\"colab-df-convert\" onclick=\"convertToInteractive('df-fd55df1a-2e27-4a1d-b5e5-3fd56faa3fcf')\"\n",
              "              title=\"Convert this dataframe to an interactive table.\"\n",
              "              style=\"display:none;\">\n",
              "        \n",
              "  <svg xmlns=\"http://www.w3.org/2000/svg\" height=\"24px\"viewBox=\"0 0 24 24\"\n",
              "       width=\"24px\">\n",
              "    <path d=\"M0 0h24v24H0V0z\" fill=\"none\"/>\n",
              "    <path d=\"M18.56 5.44l.94 2.06.94-2.06 2.06-.94-2.06-.94-.94-2.06-.94 2.06-2.06.94zm-11 1L8.5 8.5l.94-2.06 2.06-.94-2.06-.94L8.5 2.5l-.94 2.06-2.06.94zm10 10l.94 2.06.94-2.06 2.06-.94-2.06-.94-.94-2.06-.94 2.06-2.06.94z\"/><path d=\"M17.41 7.96l-1.37-1.37c-.4-.4-.92-.59-1.43-.59-.52 0-1.04.2-1.43.59L10.3 9.45l-7.72 7.72c-.78.78-.78 2.05 0 2.83L4 21.41c.39.39.9.59 1.41.59.51 0 1.02-.2 1.41-.59l7.78-7.78 2.81-2.81c.8-.78.8-2.07 0-2.86zM5.41 20L4 18.59l7.72-7.72 1.47 1.35L5.41 20z\"/>\n",
              "  </svg>\n",
              "      </button>\n",
              "      \n",
              "  <style>\n",
              "    .colab-df-container {\n",
              "      display:flex;\n",
              "      flex-wrap:wrap;\n",
              "      gap: 12px;\n",
              "    }\n",
              "\n",
              "    .colab-df-convert {\n",
              "      background-color: #E8F0FE;\n",
              "      border: none;\n",
              "      border-radius: 50%;\n",
              "      cursor: pointer;\n",
              "      display: none;\n",
              "      fill: #1967D2;\n",
              "      height: 32px;\n",
              "      padding: 0 0 0 0;\n",
              "      width: 32px;\n",
              "    }\n",
              "\n",
              "    .colab-df-convert:hover {\n",
              "      background-color: #E2EBFA;\n",
              "      box-shadow: 0px 1px 2px rgba(60, 64, 67, 0.3), 0px 1px 3px 1px rgba(60, 64, 67, 0.15);\n",
              "      fill: #174EA6;\n",
              "    }\n",
              "\n",
              "    [theme=dark] .colab-df-convert {\n",
              "      background-color: #3B4455;\n",
              "      fill: #D2E3FC;\n",
              "    }\n",
              "\n",
              "    [theme=dark] .colab-df-convert:hover {\n",
              "      background-color: #434B5C;\n",
              "      box-shadow: 0px 1px 3px 1px rgba(0, 0, 0, 0.15);\n",
              "      filter: drop-shadow(0px 1px 2px rgba(0, 0, 0, 0.3));\n",
              "      fill: #FFFFFF;\n",
              "    }\n",
              "  </style>\n",
              "\n",
              "      <script>\n",
              "        const buttonEl =\n",
              "          document.querySelector('#df-fd55df1a-2e27-4a1d-b5e5-3fd56faa3fcf button.colab-df-convert');\n",
              "        buttonEl.style.display =\n",
              "          google.colab.kernel.accessAllowed ? 'block' : 'none';\n",
              "\n",
              "        async function convertToInteractive(key) {\n",
              "          const element = document.querySelector('#df-fd55df1a-2e27-4a1d-b5e5-3fd56faa3fcf');\n",
              "          const dataTable =\n",
              "            await google.colab.kernel.invokeFunction('convertToInteractive',\n",
              "                                                     [key], {});\n",
              "          if (!dataTable) return;\n",
              "\n",
              "          const docLinkHtml = 'Like what you see? Visit the ' +\n",
              "            '<a target=\"_blank\" href=https://colab.research.google.com/notebooks/data_table.ipynb>data table notebook</a>'\n",
              "            + ' to learn more about interactive tables.';\n",
              "          element.innerHTML = '';\n",
              "          dataTable['output_type'] = 'display_data';\n",
              "          await google.colab.output.renderOutput(dataTable, element);\n",
              "          const docLink = document.createElement('div');\n",
              "          docLink.innerHTML = docLinkHtml;\n",
              "          element.appendChild(docLink);\n",
              "        }\n",
              "      </script>\n",
              "    </div>\n",
              "  </div>\n",
              "  "
            ],
            "text/plain": [
              "    code_module code_presentation  id_assessment assessment_type   date  weight\n",
              "0           AAA             2013J           1752             TMA   19.0    10.0\n",
              "1           AAA             2013J           1753             TMA   54.0    20.0\n",
              "2           AAA             2013J           1754             TMA  117.0    20.0\n",
              "3           AAA             2013J           1755             TMA  166.0    20.0\n",
              "4           AAA             2013J           1756             TMA  215.0    30.0\n",
              "..          ...               ...            ...             ...    ...     ...\n",
              "200         GGG             2014J          37442             CMA  229.0     0.0\n",
              "201         GGG             2014J          37443             CMA  229.0     0.0\n",
              "202         GGG             2014J          37435             TMA   61.0     0.0\n",
              "203         GGG             2014J          37436             TMA  124.0     0.0\n",
              "204         GGG             2014J          37437             TMA  173.0     0.0\n",
              "\n",
              "[182 rows x 6 columns]"
            ]
          },
          "metadata": {},
          "execution_count": 38
        }
      ]
    },
    {
      "cell_type": "markdown",
      "source": [
        "### Merge other_df and all other student_info"
      ],
      "metadata": {
        "id": "85x85CkjjixN"
      }
    },
    {
      "cell_type": "code",
      "source": [
        "def merge_df(student_info_df, other_df, on, how='inner'):\n",
        "  student_all_info = pd.merge(student_info_df,other_df,on=on, how=how)\n",
        "\n",
        "  return student_all_info"
      ],
      "metadata": {
        "id": "OSn6fgaOi-mv"
      },
      "execution_count": null,
      "outputs": []
    },
    {
      "cell_type": "markdown",
      "metadata": {
        "id": "Aquh2SL95X1z"
      },
      "source": [
        "### Join assessment data with individual student assessments"
      ]
    },
    {
      "cell_type": "code",
      "source": [
        "def get_score_data(assessments_df, student_assessments_df, score_deadline, weighted=False):\n",
        "  # drop columns not required to join with student_assessments_df\n",
        "  #assessments_df.drop(['weight'], axis = 1, inplace = True)\n",
        "  assessments_df.code_module.value_counts()\n",
        "\n",
        "  # merge each student assessments with assessment data\n",
        "  combined_assessment = pd.merge(student_assessments_df,assessments_df,on='id_assessment')\n",
        "  combined_assessment.drop(['is_banked','date_submitted'],axis = 1,inplace=True)\n",
        "\n",
        "  # Get all assessments which are not the final exam and happened before a certain date\n",
        "  combined_assessment = combined_assessment[(combined_assessment['assessment_type'] != 'Exam') & (combined_assessment['date'] <= score_deadline)]\n",
        "\n",
        "  if not weighted:\n",
        "    # Find the average score and drop irrelavant columns\n",
        "    grouped_student_assessments = combined_assessment.groupby(['id_student','code_module','code_presentation']).mean()\n",
        "    grouped_student_assessments.drop(['id_assessment', 'date', 'weight'],axis=1,inplace = True)\n",
        "  else:\n",
        "    # Find the weighted score and drop irrelavant columns\n",
        "    combined_assessment['weighted_score'] = ((combined_assessment['weight']+0.1)/100) * combined_assessment['score']\n",
        "    grouped_student_assessments = combined_assessment.groupby(['id_student','code_module','code_presentation']).sum()\n",
        "    grouped_student_assessments.drop(['id_assessment', 'date', 'score', 'weight'],axis=1,inplace = True)\n",
        "\n",
        "  return grouped_student_assessments"
      ],
      "metadata": {
        "id": "607N6K-tfCfc"
      },
      "execution_count": null,
      "outputs": []
    },
    {
      "cell_type": "markdown",
      "metadata": {
        "id": "qtxteGf5_5vb"
      },
      "source": [
        "### Get the number of clicks by a deadline"
      ]
    },
    {
      "cell_type": "code",
      "source": [
        "# click data\n",
        "def inner_merge(left_df,right_df,right_cols,on_cols):\n",
        "    right_df = right_df[right_cols]\n",
        "    left_df = left_df.merge(right_df, on = on_cols)\n",
        "    return left_df.drop_duplicates()\n",
        "\n",
        "\n",
        "def get_click_data(student_vle_df,vle_df,click_deadline):\n",
        "\n",
        "  def clicks_from(clicks, deadlin\n",
        "    temp = clicks[clicks['date'] <= deadline]\n",
        "    temp = temp.drop('date', axis = 1)\n",
        "    temp = temp.groupby(['code_module','code_presentation','id_student','activity_type']).mean()\n",
        "    temp = temp.rename(columns = {'sum_click': f'sum_click{deadline} mean'})\n",
        "    temp = temp.reset_index() # this fills out the missing columns for merging later \n",
        "    return temp\n",
        "\n",
        "  clicks = inner_merge(student_vle_df,\n",
        "                        vle_df,\n",
        "                        ['id_site','code_module','code_presentation','activity_type'],\n",
        "                        ['id_site','code_module','code_presentation'],\n",
        "                      )\n",
        "\n",
        "  clicks = clicks.drop(['id_site'], axis = 1)\n",
        "\n",
        "  #clicks = clicks.groupby(['code_module','code_presentation','id_student','activity_type']).sum().reset_index()\n",
        "\n",
        "  sum_click_df = pd.pivot_table(data = clicks_from(clicks,click_deadline), \n",
        "                              index = ['code_module','code_presentation','id_student'],\n",
        "                              columns = 'activity_type', \n",
        "                              values = [f'sum_click{click_deadline} mean'],\n",
        "                              fill_value = 0,\n",
        "                              ).reset_index()\n",
        "\n",
        "  # get rid of multi index\n",
        "  sum_click_df = pd.concat([sum_click_df['code_module'],\n",
        "                            sum_click_df['code_presentation'],\n",
        "                            sum_click_df['id_student'], \n",
        "                            sum_click_df[f'sum_click{click_deadline} mean']], axis=1)\n",
        "\n",
        "  temp = sum_click_df.groupby(['code_module','code_presentation','id_student']).mean(numeric_only=True)\n",
        "\n",
        "  temp2 = pd.DataFrame()\n",
        "  temp2['mean_click'] = temp.mean(axis=1)\n",
        "  sum_click_df = pd.merge(sum_click_df,temp2,on = ['id_student','code_module','code_presentation'],how='left')\n",
        "\n",
        "  return sum_click_df"
      ],
      "metadata": {
        "id": "xIudDhhnu_4f"
      },
      "execution_count": null,
      "outputs": []
    },
    {
      "cell_type": "code",
      "source": [
        "def tidy_up_dataset(student_all_info):\n",
        "  # remove rows with null\n",
        "  student_all_info.dropna(inplace=True)\n",
        "\n",
        "  # replace final result string with numerical representation\n",
        "  student_all_info.final_result = student_all_info.final_result.replace({'Withdrawn':0,'Fail':1,'Pass':2,'Distinction':3})\n",
        "\n",
        "  # remove withdrawn students\n",
        "  student_all_info = student_all_info[student_all_info.final_result != 0]\n",
        "\n",
        "  return student_all_info"
      ],
      "metadata": {
        "id": "Dn7-jFeesgKN"
      },
      "execution_count": null,
      "outputs": []
    },
    {
      "cell_type": "code",
      "source": [
        "deadline_list = [i for i in range(0,271,10)]\n",
        "for DEADLINE in deadline_list:\n",
        "  if not os.path.exists(f'{write_path}/{DEADLINE}'):\n",
        "    os.makedirs(f'{write_path}/{DEADLINE}')\n",
        "\n",
        "  score_df = get_score_data(assessments_df.copy(), student_assessments_df.copy(), DEADLINE, weighted=False)\n",
        "\n",
        "  student_all_info = student_info_df.copy()\n",
        "\n",
        "  if not score_df.empty:\n",
        "    student_all_info = merge_df(student_all_info.copy(), score_df.copy(), on= ['id_student','code_module','code_presentation'])\n",
        "\n",
        "  weighted_df = get_score_data(assessments_df.copy(), student_assessments_df.copy(), DEADLINE, weighted=True)\n",
        "\n",
        "  if not weighted_df.empty:\n",
        "    student_all_info = merge_df(student_all_info.copy(), weighted_df.copy(), on= ['id_student','code_module','code_presentation'])\n",
        "\n",
        "  sum_click_df = get_click_data(student_vle_df.copy(),vle_df.copy(),DEADLINE)\n",
        "  student_all_info = merge_df(student_all_info.copy(), sum_click_df.copy(), on = ['id_student','code_module','code_presentation'])\n",
        "\n",
        "  student_all_info = tidy_up_dataset(student_all_info.copy())\n",
        "\n",
        "  student_all_info.to_csv(f'{write_path}/{DEADLINE}/oulad_dataset_combined_{DEADLINE}.csv', index=False)\n",
        "\n",
        "  # split by module\n",
        "  modules = student_all_info.code_module.unique()\n",
        "  for module in modules:\n",
        "    module_df = student_all_info.loc[student_all_info['code_module'] == module]\n",
        "    print(f\"Module {module}\")\n",
        "    print(module_df['code_presentation'].value_counts())\n",
        "    print(\"\")\n",
        "    module_df.drop('code_module', axis=1)\n",
        "    module_df.to_csv(f'{write_path}/{DEADLINE}/oulad_{module}_{DEADLINE}.csv', index=False)"
      ],
      "metadata": {
        "id": "rdgxKwNEzuhd",
        "colab": {
          "base_uri": "https://localhost:8080/"
        },
        "outputId": "2738a3ed-4952-4bd3-e6d7-1492f24d9248"
      },
      "execution_count": null,
      "outputs": [
        {
          "output_type": "stream",
          "name": "stdout",
          "text": [
            "Module AAA\n",
            "2013J    296\n",
            "2014J    274\n",
            "Name: code_presentation, dtype: int64\n",
            "\n",
            "Module BBB\n",
            "2014J    1151\n",
            "2013J    1144\n",
            "2013B     910\n",
            "2014B     789\n",
            "Name: code_presentation, dtype: int64\n",
            "\n",
            "Module CCC\n",
            "2014J    1159\n",
            "2014B     834\n",
            "Name: code_presentation, dtype: int64\n",
            "\n",
            "Module DDD\n",
            "2013J    1094\n",
            "2014J     999\n",
            "2013B     739\n",
            "2014B     620\n",
            "Name: code_presentation, dtype: int64\n",
            "\n",
            "Module EEE\n",
            "2014J    705\n",
            "2013J    612\n",
            "2014B    431\n",
            "Name: code_presentation, dtype: int64\n",
            "\n",
            "Module FFF\n",
            "2013J    1391\n",
            "2014J    1318\n",
            "2013B    1033\n",
            "2014B     828\n",
            "Name: code_presentation, dtype: int64\n",
            "\n",
            "Module GGG\n",
            "2013J    565\n",
            "2014B    423\n",
            "2014J    376\n",
            "Name: code_presentation, dtype: int64\n",
            "\n",
            "Module AAA\n",
            "2013J    306\n",
            "2014J    288\n",
            "Name: code_presentation, dtype: int64\n",
            "\n",
            "Module BBB\n",
            "2014J    1392\n",
            "2013J    1389\n",
            "2013B    1121\n",
            "2014B    1000\n",
            "Name: code_presentation, dtype: int64\n",
            "\n",
            "Module CCC\n",
            "2014J    1264\n",
            "2014B     906\n",
            "Name: code_presentation, dtype: int64\n",
            "\n",
            "Module DDD\n",
            "2013J    1161\n",
            "2014J    1051\n",
            "2013B     781\n",
            "2014B     670\n",
            "Name: code_presentation, dtype: int64\n",
            "\n",
            "Module EEE\n",
            "2014J    800\n",
            "2013J    722\n",
            "2014B    478\n",
            "Name: code_presentation, dtype: int64\n",
            "\n",
            "Module FFF\n",
            "2013J    1486\n",
            "2014J    1390\n",
            "2013B    1091\n",
            "2014B     938\n",
            "Name: code_presentation, dtype: int64\n",
            "\n",
            "Module GGG\n",
            "2013J    698\n",
            "2014B    612\n",
            "2014J    517\n",
            "Name: code_presentation, dtype: int64\n",
            "\n",
            "Module AAA\n",
            "2013J    299\n",
            "2014J    282\n",
            "Name: code_presentation, dtype: int64\n",
            "\n",
            "Module BBB\n",
            "2014J    1448\n",
            "2013J    1420\n",
            "2013B    1105\n",
            "2014B     998\n",
            "Name: code_presentation, dtype: int64\n",
            "\n",
            "Module CCC\n",
            "2014J    1233\n",
            "2014B     851\n",
            "Name: code_presentation, dtype: int64\n",
            "\n",
            "Module DDD\n",
            "2014J    1039\n",
            "Name: code_presentation, dtype: int64\n",
            "\n",
            "Module FFF\n",
            "2013J    1435\n",
            "2013B    1064\n",
            "Name: code_presentation, dtype: int64\n",
            "\n",
            "Module AAA\n",
            "2013J    300\n",
            "2014J    282\n",
            "Name: code_presentation, dtype: int64\n",
            "\n",
            "Module BBB\n",
            "2014J    1454\n",
            "2013J    1440\n",
            "2013B    1115\n",
            "2014B    1011\n",
            "Name: code_presentation, dtype: int64\n",
            "\n",
            "Module CCC\n",
            "2014J    1233\n",
            "2014B     851\n",
            "Name: code_presentation, dtype: int64\n",
            "\n",
            "Module DDD\n",
            "2013J    1107\n",
            "2014J    1043\n",
            "2013B     757\n",
            "2014B     636\n",
            "Name: code_presentation, dtype: int64\n",
            "\n",
            "Module FFF\n",
            "2013J    1440\n",
            "2014J    1377\n",
            "2013B    1067\n",
            "2014B     902\n",
            "Name: code_presentation, dtype: int64\n",
            "\n",
            "Module AAA\n",
            "2013J    300\n",
            "2014J    282\n",
            "Name: code_presentation, dtype: int64\n",
            "\n",
            "Module BBB\n",
            "2014J    1456\n",
            "2013J    1454\n",
            "2013B    1117\n",
            "2014B    1024\n",
            "Name: code_presentation, dtype: int64\n",
            "\n",
            "Module CCC\n",
            "2014J    1268\n",
            "2014B     884\n",
            "Name: code_presentation, dtype: int64\n",
            "\n",
            "Module DDD\n",
            "2013J    1107\n",
            "2014J    1043\n",
            "2013B     757\n",
            "2014B     637\n",
            "Name: code_presentation, dtype: int64\n",
            "\n",
            "Module EEE\n",
            "2014J    783\n",
            "2013J    706\n",
            "2014B    456\n",
            "Name: code_presentation, dtype: int64\n",
            "\n",
            "Module FFF\n",
            "2013J    1441\n",
            "2014J    1379\n",
            "2013B    1068\n",
            "2014B     904\n",
            "Name: code_presentation, dtype: int64\n",
            "\n",
            "Module AAA\n",
            "2013J    301\n",
            "2014J    282\n",
            "Name: code_presentation, dtype: int64\n",
            "\n",
            "Module BBB\n",
            "2013J    1467\n",
            "2014J    1458\n",
            "2013B    1126\n",
            "2014B    1033\n",
            "Name: code_presentation, dtype: int64\n",
            "\n",
            "Module CCC\n",
            "2014J    1268\n",
            "2014B     884\n",
            "Name: code_presentation, dtype: int64\n",
            "\n",
            "Module DDD\n",
            "2013J    1107\n",
            "2014J    1048\n",
            "2013B     758\n",
            "2014B     638\n",
            "Name: code_presentation, dtype: int64\n",
            "\n",
            "Module EEE\n",
            "2014J    785\n",
            "2013J    707\n",
            "2014B    456\n",
            "Name: code_presentation, dtype: int64\n",
            "\n",
            "Module FFF\n",
            "2013J    1446\n",
            "2014J    1379\n",
            "2013B    1072\n",
            "2014B     905\n",
            "Name: code_presentation, dtype: int64\n",
            "\n",
            "Module AAA\n",
            "2013J    305\n",
            "2014J    285\n",
            "Name: code_presentation, dtype: int64\n",
            "\n",
            "Module BBB\n",
            "2014J    1474\n",
            "2013J    1473\n",
            "2013B    1132\n",
            "2014B    1035\n",
            "Name: code_presentation, dtype: int64\n",
            "\n",
            "Module CCC\n",
            "2014J    1269\n",
            "2014B     884\n",
            "Name: code_presentation, dtype: int64\n",
            "\n",
            "Module DDD\n",
            "2013J    1114\n",
            "2014J    1048\n",
            "2013B     761\n",
            "2014B     646\n",
            "Name: code_presentation, dtype: int64\n",
            "\n",
            "Module EEE\n",
            "2014J    785\n",
            "2013J    707\n",
            "2014B    456\n",
            "Name: code_presentation, dtype: int64\n",
            "\n",
            "Module FFF\n",
            "2013J    1446\n",
            "2014J    1382\n",
            "2013B    1072\n",
            "2014B     907\n",
            "Name: code_presentation, dtype: int64\n",
            "\n",
            "Module AAA\n",
            "2013J    305\n",
            "2014J    285\n",
            "Name: code_presentation, dtype: int64\n",
            "\n",
            "Module BBB\n",
            "2014J    1475\n",
            "2013J    1473\n",
            "2013B    1133\n",
            "2014B    1035\n",
            "Name: code_presentation, dtype: int64\n",
            "\n",
            "Module CCC\n",
            "2014J    1274\n",
            "2014B     890\n",
            "Name: code_presentation, dtype: int64\n",
            "\n",
            "Module DDD\n",
            "2013J    1114\n",
            "2014J    1049\n",
            "2013B     761\n",
            "2014B     646\n",
            "Name: code_presentation, dtype: int64\n",
            "\n",
            "Module EEE\n",
            "2014J    789\n",
            "2013J    709\n",
            "2014B    459\n",
            "Name: code_presentation, dtype: int64\n",
            "\n",
            "Module FFF\n",
            "2013J    1446\n",
            "2014J    1383\n",
            "2013B    1072\n",
            "2014B     907\n",
            "Name: code_presentation, dtype: int64\n",
            "\n",
            "Module GGG\n",
            "2013J    738\n",
            "2014B    623\n",
            "2014J    541\n",
            "Name: code_presentation, dtype: int64\n",
            "\n",
            "Module AAA\n",
            "2013J    305\n",
            "2014J    285\n",
            "Name: code_presentation, dtype: int64\n",
            "\n",
            "Module BBB\n",
            "2014J    1475\n",
            "2013J    1473\n",
            "2013B    1133\n",
            "2014B    1035\n",
            "Name: code_presentation, dtype: int64\n",
            "\n",
            "Module CCC\n",
            "2014J    1274\n",
            "2014B     890\n",
            "Name: code_presentation, dtype: int64\n",
            "\n",
            "Module DDD\n",
            "2013J    1114\n",
            "2014J    1049\n",
            "2013B     761\n",
            "2014B     646\n",
            "Name: code_presentation, dtype: int64\n",
            "\n",
            "Module EEE\n",
            "2014J    789\n",
            "2013J    709\n",
            "2014B    459\n",
            "Name: code_presentation, dtype: int64\n",
            "\n",
            "Module FFF\n",
            "2013J    1446\n",
            "2014J    1383\n",
            "2013B    1072\n",
            "2014B     907\n",
            "Name: code_presentation, dtype: int64\n",
            "\n",
            "Module GGG\n",
            "2013J    739\n",
            "2014B    627\n",
            "2014J    542\n",
            "Name: code_presentation, dtype: int64\n",
            "\n",
            "Module AAA\n",
            "2013J    305\n",
            "2014J    285\n",
            "Name: code_presentation, dtype: int64\n",
            "\n",
            "Module BBB\n",
            "2014J    1476\n",
            "2013J    1473\n",
            "2013B    1134\n",
            "2014B    1037\n",
            "Name: code_presentation, dtype: int64\n",
            "\n",
            "Module CCC\n",
            "2014J    1274\n",
            "2014B     890\n",
            "Name: code_presentation, dtype: int64\n",
            "\n",
            "Module DDD\n",
            "2013J    1114\n",
            "2014J    1049\n",
            "2013B     761\n",
            "2014B     646\n",
            "Name: code_presentation, dtype: int64\n",
            "\n",
            "Module EEE\n",
            "2014J    789\n",
            "2013J    709\n",
            "2014B    459\n",
            "Name: code_presentation, dtype: int64\n",
            "\n",
            "Module FFF\n",
            "2013J    1446\n",
            "2014J    1383\n",
            "2013B    1073\n",
            "2014B     908\n",
            "Name: code_presentation, dtype: int64\n",
            "\n",
            "Module GGG\n",
            "2013J    742\n",
            "2014B    627\n",
            "2014J    543\n",
            "Name: code_presentation, dtype: int64\n",
            "\n",
            "Module AAA\n",
            "2013J    305\n",
            "2014J    285\n",
            "Name: code_presentation, dtype: int64\n",
            "\n",
            "Module BBB\n",
            "2013J    1477\n",
            "2014J    1476\n",
            "2013B    1134\n",
            "2014B    1037\n",
            "Name: code_presentation, dtype: int64\n",
            "\n",
            "Module CCC\n",
            "2014J    1275\n",
            "2014B     890\n",
            "Name: code_presentation, dtype: int64\n",
            "\n",
            "Module DDD\n",
            "2013J    1114\n",
            "2014J    1049\n",
            "2013B     761\n",
            "2014B     646\n",
            "Name: code_presentation, dtype: int64\n",
            "\n",
            "Module EEE\n",
            "2014J    789\n",
            "2013J    709\n",
            "2014B    459\n",
            "Name: code_presentation, dtype: int64\n",
            "\n",
            "Module FFF\n",
            "2013J    1446\n",
            "2014J    1384\n",
            "2013B    1073\n",
            "2014B     908\n",
            "Name: code_presentation, dtype: int64\n",
            "\n",
            "Module GGG\n",
            "2013J    743\n",
            "2014B    627\n",
            "2014J    544\n",
            "Name: code_presentation, dtype: int64\n",
            "\n",
            "Module AAA\n",
            "2013J    305\n",
            "2014J    285\n",
            "Name: code_presentation, dtype: int64\n",
            "\n",
            "Module BBB\n",
            "2013J    1477\n",
            "2014J    1477\n",
            "2013B    1134\n",
            "2014B    1038\n",
            "Name: code_presentation, dtype: int64\n",
            "\n",
            "Module CCC\n",
            "2014J    1277\n",
            "2014B     892\n",
            "Name: code_presentation, dtype: int64\n",
            "\n",
            "Module DDD\n",
            "2013J    1116\n",
            "2014J    1051\n",
            "2013B     761\n",
            "2014B     646\n",
            "Name: code_presentation, dtype: int64\n",
            "\n",
            "Module EEE\n",
            "2014J    790\n",
            "2013J    709\n",
            "2014B    459\n",
            "Name: code_presentation, dtype: int64\n",
            "\n",
            "Module FFF\n",
            "2013J    1446\n",
            "2014J    1385\n",
            "2013B    1073\n",
            "2014B     908\n",
            "Name: code_presentation, dtype: int64\n",
            "\n",
            "Module GGG\n",
            "2013J    745\n",
            "2014B    628\n",
            "2014J    544\n",
            "Name: code_presentation, dtype: int64\n",
            "\n",
            "Module AAA\n",
            "2013J    305\n",
            "2014J    285\n",
            "Name: code_presentation, dtype: int64\n",
            "\n",
            "Module BBB\n",
            "2013J    1479\n",
            "2014J    1477\n",
            "2013B    1134\n",
            "2014B    1038\n",
            "Name: code_presentation, dtype: int64\n",
            "\n",
            "Module CCC\n",
            "2014J    1277\n",
            "2014B     892\n",
            "Name: code_presentation, dtype: int64\n",
            "\n",
            "Module DDD\n",
            "2013J    1116\n",
            "2014J    1053\n",
            "2013B     761\n",
            "2014B     647\n",
            "Name: code_presentation, dtype: int64\n",
            "\n",
            "Module EEE\n",
            "2014J    790\n",
            "2013J    709\n",
            "2014B    460\n",
            "Name: code_presentation, dtype: int64\n",
            "\n",
            "Module FFF\n",
            "2013J    1446\n",
            "2014J    1385\n",
            "2013B    1073\n",
            "2014B     908\n",
            "Name: code_presentation, dtype: int64\n",
            "\n",
            "Module GGG\n",
            "2013J    745\n",
            "2014B    641\n",
            "2014J    544\n",
            "Name: code_presentation, dtype: int64\n",
            "\n",
            "Module AAA\n",
            "2013J    305\n",
            "2014J    285\n",
            "Name: code_presentation, dtype: int64\n",
            "\n",
            "Module BBB\n",
            "2013J    1481\n",
            "2014J    1477\n",
            "2013B    1134\n",
            "2014B    1038\n",
            "Name: code_presentation, dtype: int64\n",
            "\n",
            "Module CCC\n",
            "2014J    1277\n",
            "2014B     892\n",
            "Name: code_presentation, dtype: int64\n",
            "\n",
            "Module DDD\n",
            "2013J    1117\n",
            "2014J    1053\n",
            "2013B     762\n",
            "2014B     647\n",
            "Name: code_presentation, dtype: int64\n",
            "\n",
            "Module EEE\n",
            "2014J    790\n",
            "2013J    709\n",
            "2014B    460\n",
            "Name: code_presentation, dtype: int64\n",
            "\n",
            "Module FFF\n",
            "2013J    1447\n",
            "2014J    1385\n",
            "2013B    1073\n",
            "2014B     908\n",
            "Name: code_presentation, dtype: int64\n",
            "\n",
            "Module GGG\n",
            "2013J    774\n",
            "2014B    641\n",
            "2014J    561\n",
            "Name: code_presentation, dtype: int64\n",
            "\n",
            "Module AAA\n",
            "2013J    305\n",
            "2014J    285\n",
            "Name: code_presentation, dtype: int64\n",
            "\n",
            "Module BBB\n",
            "2013J    1484\n",
            "2014J    1477\n",
            "2013B    1134\n",
            "2014B    1038\n",
            "Name: code_presentation, dtype: int64\n",
            "\n",
            "Module CCC\n",
            "2014J    1277\n",
            "2014B     892\n",
            "Name: code_presentation, dtype: int64\n",
            "\n",
            "Module DDD\n",
            "2013J    1117\n",
            "2014J    1054\n",
            "2013B     762\n",
            "2014B     647\n",
            "Name: code_presentation, dtype: int64\n",
            "\n",
            "Module EEE\n",
            "2014J    790\n",
            "2013J    709\n",
            "2014B    460\n",
            "Name: code_presentation, dtype: int64\n",
            "\n",
            "Module FFF\n",
            "2013J    1447\n",
            "2014J    1386\n",
            "2013B    1073\n",
            "2014B     908\n",
            "Name: code_presentation, dtype: int64\n",
            "\n",
            "Module GGG\n",
            "2013J    776\n",
            "2014B    641\n",
            "2014J    561\n",
            "Name: code_presentation, dtype: int64\n",
            "\n",
            "Module AAA\n",
            "2013J    305\n",
            "2014J    285\n",
            "Name: code_presentation, dtype: int64\n",
            "\n",
            "Module BBB\n",
            "2013J    1484\n",
            "2014J    1477\n",
            "2013B    1134\n",
            "2014B    1038\n",
            "Name: code_presentation, dtype: int64\n",
            "\n",
            "Module CCC\n",
            "2014J    1278\n",
            "2014B     892\n",
            "Name: code_presentation, dtype: int64\n",
            "\n",
            "Module DDD\n",
            "2013J    1117\n",
            "2014J    1054\n",
            "2013B     762\n",
            "2014B     647\n",
            "Name: code_presentation, dtype: int64\n",
            "\n",
            "Module EEE\n",
            "2014J    790\n",
            "2013J    709\n",
            "2014B    460\n",
            "Name: code_presentation, dtype: int64\n",
            "\n",
            "Module FFF\n",
            "2013J    1447\n",
            "2014J    1386\n",
            "2013B    1073\n",
            "2014B     908\n",
            "Name: code_presentation, dtype: int64\n",
            "\n",
            "Module GGG\n",
            "2013J    777\n",
            "2014B    641\n",
            "2014J    561\n",
            "Name: code_presentation, dtype: int64\n",
            "\n",
            "Module AAA\n",
            "2013J    305\n",
            "2014J    285\n",
            "Name: code_presentation, dtype: int64\n",
            "\n",
            "Module BBB\n",
            "2013J    1484\n",
            "2014J    1477\n",
            "2013B    1134\n",
            "2014B    1038\n",
            "Name: code_presentation, dtype: int64\n",
            "\n",
            "Module CCC\n",
            "2014J    1278\n",
            "2014B     892\n",
            "Name: code_presentation, dtype: int64\n",
            "\n",
            "Module DDD\n",
            "2013J    1117\n",
            "2014J    1054\n",
            "2013B     762\n",
            "2014B     647\n",
            "Name: code_presentation, dtype: int64\n",
            "\n",
            "Module EEE\n",
            "2014J    790\n",
            "2013J    709\n",
            "2014B    460\n",
            "Name: code_presentation, dtype: int64\n",
            "\n",
            "Module FFF\n",
            "2013J    1447\n",
            "2014J    1386\n",
            "2013B    1073\n",
            "2014B     908\n",
            "Name: code_presentation, dtype: int64\n",
            "\n",
            "Module GGG\n",
            "2013J    777\n",
            "2014B    641\n",
            "2014J    562\n",
            "Name: code_presentation, dtype: int64\n",
            "\n",
            "Module AAA\n",
            "2013J    305\n",
            "2014J    285\n",
            "Name: code_presentation, dtype: int64\n",
            "\n",
            "Module BBB\n",
            "2013J    1484\n",
            "2014J    1477\n",
            "2013B    1134\n",
            "2014B    1038\n",
            "Name: code_presentation, dtype: int64\n",
            "\n",
            "Module CCC\n",
            "2014J    1278\n",
            "2014B     892\n",
            "Name: code_presentation, dtype: int64\n",
            "\n",
            "Module DDD\n",
            "2013J    1117\n",
            "2014J    1055\n",
            "2013B     762\n",
            "2014B     647\n",
            "Name: code_presentation, dtype: int64\n",
            "\n",
            "Module EEE\n",
            "2014J    790\n",
            "2013J    709\n",
            "2014B    460\n",
            "Name: code_presentation, dtype: int64\n",
            "\n",
            "Module FFF\n",
            "2013J    1447\n",
            "2014J    1386\n",
            "2013B    1073\n",
            "2014B     908\n",
            "Name: code_presentation, dtype: int64\n",
            "\n",
            "Module GGG\n",
            "2013J    777\n",
            "2014B    642\n",
            "2014J    562\n",
            "Name: code_presentation, dtype: int64\n",
            "\n",
            "Module AAA\n",
            "2013J    305\n",
            "2014J    285\n",
            "Name: code_presentation, dtype: int64\n",
            "\n",
            "Module BBB\n",
            "2013J    1484\n",
            "2014J    1477\n",
            "2013B    1134\n",
            "2014B    1038\n",
            "Name: code_presentation, dtype: int64\n",
            "\n",
            "Module CCC\n",
            "2014J    1278\n",
            "2014B     892\n",
            "Name: code_presentation, dtype: int64\n",
            "\n",
            "Module DDD\n",
            "2013J    1117\n",
            "2014J    1055\n",
            "2013B     762\n",
            "2014B     647\n",
            "Name: code_presentation, dtype: int64\n",
            "\n",
            "Module EEE\n",
            "2014J    790\n",
            "2013J    709\n",
            "2014B    460\n",
            "Name: code_presentation, dtype: int64\n",
            "\n",
            "Module FFF\n",
            "2013J    1447\n",
            "2014J    1386\n",
            "2013B    1073\n",
            "2014B     908\n",
            "Name: code_presentation, dtype: int64\n",
            "\n",
            "Module GGG\n",
            "2013J    778\n",
            "2014B    642\n",
            "2014J    564\n",
            "Name: code_presentation, dtype: int64\n",
            "\n",
            "Module AAA\n",
            "2013J    305\n",
            "2014J    285\n",
            "Name: code_presentation, dtype: int64\n",
            "\n",
            "Module BBB\n",
            "2013J    1484\n",
            "2014J    1477\n",
            "2013B    1134\n",
            "2014B    1038\n",
            "Name: code_presentation, dtype: int64\n",
            "\n",
            "Module CCC\n",
            "2014J    1278\n",
            "2014B     892\n",
            "Name: code_presentation, dtype: int64\n",
            "\n",
            "Module DDD\n",
            "2013J    1117\n",
            "2014J    1055\n",
            "2013B     762\n",
            "2014B     647\n",
            "Name: code_presentation, dtype: int64\n",
            "\n",
            "Module EEE\n",
            "2014J    790\n",
            "2013J    709\n",
            "2014B    460\n",
            "Name: code_presentation, dtype: int64\n",
            "\n",
            "Module FFF\n",
            "2013J    1447\n",
            "2014J    1386\n",
            "2013B    1073\n",
            "2014B     908\n",
            "Name: code_presentation, dtype: int64\n",
            "\n",
            "Module GGG\n",
            "2013J    778\n",
            "2014B    642\n",
            "2014J    565\n",
            "Name: code_presentation, dtype: int64\n",
            "\n",
            "Module AAA\n",
            "2013J    305\n",
            "2014J    285\n",
            "Name: code_presentation, dtype: int64\n",
            "\n",
            "Module BBB\n",
            "2013J    1484\n",
            "2014J    1477\n",
            "2013B    1134\n",
            "2014B    1038\n",
            "Name: code_presentation, dtype: int64\n",
            "\n",
            "Module CCC\n",
            "2014J    1278\n",
            "2014B     892\n",
            "Name: code_presentation, dtype: int64\n",
            "\n",
            "Module DDD\n",
            "2013J    1117\n",
            "2014J    1055\n",
            "2013B     762\n",
            "2014B     648\n",
            "Name: code_presentation, dtype: int64\n",
            "\n",
            "Module EEE\n",
            "2014J    790\n",
            "2013J    709\n",
            "2014B    460\n",
            "Name: code_presentation, dtype: int64\n",
            "\n",
            "Module FFF\n",
            "2013J    1447\n",
            "2014J    1386\n",
            "2013B    1073\n",
            "2014B     908\n",
            "Name: code_presentation, dtype: int64\n",
            "\n",
            "Module GGG\n",
            "2013J    778\n",
            "2014B    642\n",
            "2014J    565\n",
            "Name: code_presentation, dtype: int64\n",
            "\n",
            "Module AAA\n",
            "2013J    305\n",
            "2014J    285\n",
            "Name: code_presentation, dtype: int64\n",
            "\n",
            "Module BBB\n",
            "2013J    1484\n",
            "2014J    1477\n",
            "2013B    1134\n",
            "2014B    1038\n",
            "Name: code_presentation, dtype: int64\n",
            "\n",
            "Module CCC\n",
            "2014J    1278\n",
            "2014B     892\n",
            "Name: code_presentation, dtype: int64\n",
            "\n",
            "Module DDD\n",
            "2013J    1117\n",
            "2014J    1055\n",
            "2013B     762\n",
            "2014B     648\n",
            "Name: code_presentation, dtype: int64\n",
            "\n",
            "Module EEE\n",
            "2014J    790\n",
            "2013J    709\n",
            "2014B    460\n",
            "Name: code_presentation, dtype: int64\n",
            "\n",
            "Module FFF\n",
            "2013J    1447\n",
            "2014J    1386\n",
            "2013B    1073\n",
            "2014B     908\n",
            "Name: code_presentation, dtype: int64\n",
            "\n",
            "Module GGG\n",
            "2013J    778\n",
            "2014B    642\n",
            "2014J    565\n",
            "Name: code_presentation, dtype: int64\n",
            "\n",
            "Module AAA\n",
            "2013J    305\n",
            "2014J    285\n",
            "Name: code_presentation, dtype: int64\n",
            "\n",
            "Module BBB\n",
            "2013J    1484\n",
            "2014J    1477\n",
            "2013B    1134\n",
            "2014B    1038\n",
            "Name: code_presentation, dtype: int64\n",
            "\n",
            "Module CCC\n",
            "2014J    1278\n",
            "2014B     892\n",
            "Name: code_presentation, dtype: int64\n",
            "\n",
            "Module DDD\n",
            "2013J    1117\n",
            "2014J    1055\n",
            "2013B     762\n",
            "2014B     648\n",
            "Name: code_presentation, dtype: int64\n",
            "\n",
            "Module EEE\n",
            "2014J    790\n",
            "2013J    709\n",
            "2014B    460\n",
            "Name: code_presentation, dtype: int64\n",
            "\n",
            "Module FFF\n",
            "2013J    1447\n",
            "2014J    1387\n",
            "2013B    1073\n",
            "2014B     908\n",
            "Name: code_presentation, dtype: int64\n",
            "\n",
            "Module GGG\n",
            "2013J    778\n",
            "2014B    642\n",
            "2014J    565\n",
            "Name: code_presentation, dtype: int64\n",
            "\n",
            "Module AAA\n",
            "2013J    305\n",
            "2014J    285\n",
            "Name: code_presentation, dtype: int64\n",
            "\n",
            "Module BBB\n",
            "2013J    1484\n",
            "2014J    1477\n",
            "2013B    1135\n",
            "2014B    1038\n",
            "Name: code_presentation, dtype: int64\n",
            "\n",
            "Module CCC\n",
            "2014J    1278\n",
            "2014B     892\n",
            "Name: code_presentation, dtype: int64\n",
            "\n",
            "Module DDD\n",
            "2013J    1117\n",
            "2014J    1055\n",
            "2013B     762\n",
            "2014B     648\n",
            "Name: code_presentation, dtype: int64\n",
            "\n",
            "Module EEE\n",
            "2014J    790\n",
            "2013J    709\n",
            "2014B    460\n",
            "Name: code_presentation, dtype: int64\n",
            "\n",
            "Module FFF\n",
            "2013J    1447\n",
            "2014J    1387\n",
            "2013B    1074\n",
            "2014B     914\n",
            "Name: code_presentation, dtype: int64\n",
            "\n",
            "Module GGG\n",
            "2013J    781\n",
            "2014B    645\n",
            "2014J    566\n",
            "Name: code_presentation, dtype: int64\n",
            "\n",
            "Module AAA\n",
            "2013J    305\n",
            "2014J    285\n",
            "Name: code_presentation, dtype: int64\n",
            "\n",
            "Module BBB\n",
            "2013J    1485\n",
            "2014J    1477\n",
            "2013B    1135\n",
            "2014B    1038\n",
            "Name: code_presentation, dtype: int64\n",
            "\n",
            "Module CCC\n",
            "2014J    1278\n",
            "2014B     892\n",
            "Name: code_presentation, dtype: int64\n",
            "\n",
            "Module DDD\n",
            "2013J    1117\n",
            "2014J    1055\n",
            "2013B     762\n",
            "2014B     648\n",
            "Name: code_presentation, dtype: int64\n",
            "\n",
            "Module EEE\n",
            "2014J    790\n",
            "2013J    709\n",
            "2014B    460\n",
            "Name: code_presentation, dtype: int64\n",
            "\n",
            "Module FFF\n",
            "2013J    1453\n",
            "2014J    1387\n",
            "2013B    1074\n",
            "2014B     914\n",
            "Name: code_presentation, dtype: int64\n",
            "\n",
            "Module GGG\n",
            "2013J    781\n",
            "2014B    645\n",
            "2014J    566\n",
            "Name: code_presentation, dtype: int64\n",
            "\n",
            "Module AAA\n",
            "2013J    305\n",
            "2014J    285\n",
            "Name: code_presentation, dtype: int64\n",
            "\n",
            "Module BBB\n",
            "2013J    1485\n",
            "2014J    1477\n",
            "2013B    1135\n",
            "2014B    1038\n",
            "Name: code_presentation, dtype: int64\n",
            "\n",
            "Module CCC\n",
            "2014J    1278\n",
            "2014B     892\n",
            "Name: code_presentation, dtype: int64\n",
            "\n",
            "Module DDD\n",
            "2013J    1117\n",
            "2014J    1055\n",
            "2013B     762\n",
            "2014B     648\n",
            "Name: code_presentation, dtype: int64\n",
            "\n",
            "Module EEE\n",
            "2014J    790\n",
            "2013J    709\n",
            "2014B    460\n",
            "Name: code_presentation, dtype: int64\n",
            "\n",
            "Module FFF\n",
            "2013J    1453\n",
            "2014J    1387\n",
            "2013B    1074\n",
            "2014B     914\n",
            "Name: code_presentation, dtype: int64\n",
            "\n",
            "Module GGG\n",
            "2013J    781\n",
            "2014B    645\n",
            "2014J    566\n",
            "Name: code_presentation, dtype: int64\n",
            "\n",
            "Module AAA\n",
            "2013J    305\n",
            "2014J    285\n",
            "Name: code_presentation, dtype: int64\n",
            "\n",
            "Module BBB\n",
            "2013J    1485\n",
            "2014J    1477\n",
            "2013B    1135\n",
            "2014B    1038\n",
            "Name: code_presentation, dtype: int64\n",
            "\n",
            "Module CCC\n",
            "2014J    1278\n",
            "2014B     892\n",
            "Name: code_presentation, dtype: int64\n",
            "\n",
            "Module DDD\n",
            "2013J    1117\n",
            "2014J    1055\n",
            "2013B     762\n",
            "2014B     648\n",
            "Name: code_presentation, dtype: int64\n",
            "\n",
            "Module EEE\n",
            "2014J    790\n",
            "2013J    709\n",
            "2014B    460\n",
            "Name: code_presentation, dtype: int64\n",
            "\n",
            "Module FFF\n",
            "2013J    1453\n",
            "2014J    1387\n",
            "2013B    1074\n",
            "2014B     914\n",
            "Name: code_presentation, dtype: int64\n",
            "\n",
            "Module GGG\n",
            "2013J    781\n",
            "2014B    645\n",
            "2014J    566\n",
            "Name: code_presentation, dtype: int64\n",
            "\n",
            "Module AAA\n",
            "2013J    305\n",
            "2014J    285\n",
            "Name: code_presentation, dtype: int64\n",
            "\n",
            "Module BBB\n",
            "2013J    1485\n",
            "2014J    1477\n",
            "2013B    1135\n",
            "2014B    1038\n",
            "Name: code_presentation, dtype: int64\n",
            "\n",
            "Module CCC\n",
            "2014J    1278\n",
            "2014B     892\n",
            "Name: code_presentation, dtype: int64\n",
            "\n",
            "Module DDD\n",
            "2013J    1117\n",
            "2014J    1055\n",
            "2013B     762\n",
            "2014B     648\n",
            "Name: code_presentation, dtype: int64\n",
            "\n",
            "Module EEE\n",
            "2014J    790\n",
            "2013J    709\n",
            "2014B    460\n",
            "Name: code_presentation, dtype: int64\n",
            "\n",
            "Module FFF\n",
            "2013J    1453\n",
            "2014J    1387\n",
            "2013B    1074\n",
            "2014B     914\n",
            "Name: code_presentation, dtype: int64\n",
            "\n",
            "Module GGG\n",
            "2013J    781\n",
            "2014B    645\n",
            "2014J    566\n",
            "Name: code_presentation, dtype: int64\n",
            "\n"
          ]
        }
      ]
    },
    {
      "cell_type": "code",
      "source": [
        ""
      ],
      "metadata": {
        "id": "MZY2UI0hLEik"
      },
      "execution_count": null,
      "outputs": []
    }
  ]
}