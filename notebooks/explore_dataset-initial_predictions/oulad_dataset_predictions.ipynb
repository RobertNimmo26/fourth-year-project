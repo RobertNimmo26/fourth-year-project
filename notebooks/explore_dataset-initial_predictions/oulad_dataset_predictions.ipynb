{
  "nbformat": 4,
  "nbformat_minor": 0,
  "metadata": {
    "kernelspec": {
      "display_name": "Python 3",
      "language": "python",
      "name": "python3"
    },
    "language_info": {
      "codemirror_mode": {
        "name": "ipython",
        "version": 3
      },
      "file_extension": ".py",
      "mimetype": "text/x-python",
      "name": "python",
      "nbconvert_exporter": "python",
      "pygments_lexer": "ipython3",
      "version": "3.7.4"
    },
    "colab": {
      "name": "oulad_dataset_predictions.ipynb",
      "provenance": [],
      "collapsed_sections": [],
      "include_colab_link": true
    }
  },
  "cells": [
    {
      "cell_type": "markdown",
      "metadata": {
        "id": "view-in-github",
        "colab_type": "text"
      },
      "source": [
        "<a href=\"https://colab.research.google.com/github/RobertNimmo26/fourth-year-project/blob/develop/notebooks/oulad_dataset_predictions.ipynb\" target=\"_parent\"><img src=\"https://colab.research.google.com/assets/colab-badge.svg\" alt=\"Open In Colab\"/></a>"
      ]
    },
    {
      "cell_type": "markdown",
      "metadata": {
        "id": "50rs6MLKz5fn"
      },
      "source": [
        "# Join Dataset"
      ]
    },
    {
      "cell_type": "markdown",
      "metadata": {
        "id": "k-CKgOJr0C7W"
      },
      "source": [
        "### GDrive setup"
      ]
    },
    {
      "cell_type": "code",
      "metadata": {
        "colab": {
          "base_uri": "https://localhost:8080/"
        },
        "id": "2puHe1Ty0Gn4",
        "outputId": "f57de739-9bbf-435a-ea01-9cc36ae96ffa"
      },
      "source": [
        "from google.colab import drive\n",
        "drive.mount('/content/drive')"
      ],
      "execution_count": 1,
      "outputs": [
        {
          "output_type": "stream",
          "name": "stdout",
          "text": [
            "Drive already mounted at /content/drive; to attempt to forcibly remount, call drive.mount(\"/content/drive\", force_remount=True).\n"
          ]
        }
      ]
    },
    {
      "cell_type": "code",
      "metadata": {
        "colab": {
          "base_uri": "https://localhost:8080/"
        },
        "id": "ArM2sqXK2cG3",
        "outputId": "3e800b8c-6ac7-489a-827d-b2ea531f9257"
      },
      "source": [
        "cd 'drive/My Drive/Colab Notebooks/4th year project/OULAD dataset'"
      ],
      "execution_count": 2,
      "outputs": [
        {
          "output_type": "stream",
          "name": "stdout",
          "text": [
            "/content/drive/My Drive/Colab Notebooks/4th year project/OULAD dataset\n"
          ]
        }
      ]
    },
    {
      "cell_type": "code",
      "metadata": {
        "colab": {
          "base_uri": "https://localhost:8080/"
        },
        "id": "p9ayAhws2evi",
        "outputId": "cb0a024b-0059-4990-d66a-14ea5d199ecc"
      },
      "source": [
        "ls"
      ],
      "execution_count": 3,
      "outputs": [
        {
          "output_type": "stream",
          "name": "stdout",
          "text": [
            "\u001b[0m\u001b[01;34manonymisedOUDataSet\u001b[0m/        StudentAssessmentDaysDeadline.csv\n",
            "oulad_dataset_combined.csv\n"
          ]
        }
      ]
    },
    {
      "cell_type": "markdown",
      "metadata": {
        "id": "v3Uycz2vz5fx"
      },
      "source": [
        "## Setup"
      ]
    },
    {
      "cell_type": "code",
      "metadata": {
        "id": "SmyB7uFCz5fz"
      },
      "source": [
        "import pandas as pd\n",
        "import numpy as np\n",
        "import matplotlib.pyplot as plt\n",
        "import seaborn as sns"
      ],
      "execution_count": 4,
      "outputs": []
    },
    {
      "cell_type": "code",
      "metadata": {
        "id": "YO6dS31xz5f2"
      },
      "source": [
        "assessments_df = pd.read_csv('../OULAD dataset/anonymisedOUDataSet/assessments.csv')\n",
        "courses_df = pd.read_csv('../OULAD dataset/anonymisedOUDataSet/courses.csv')\n",
        "student_assessments_df = pd.read_csv('../OULAD dataset/anonymisedOUDataSet/studentAssessment.csv')\n",
        "student_info_df = pd.read_csv('../OULAD dataset/anonymisedOUDataSet/studentInfo.csv')\n",
        "student_registration_df = pd.read_csv('../OULAD dataset/anonymisedOUDataSet/studentRegistration.csv')\n",
        "student_vle_df = pd.read_csv('../OULAD dataset/anonymisedOUDataSet/studentVle.csv')\n",
        "vle_df = pd.read_csv('../OULAD dataset/anonymisedOUDataSet/vle.csv')\n",
        "\n",
        "sa_days_deadline_df = pd.read_csv('../OULAD dataset/StudentAssessmentDaysDeadline.csv')\n",
        "\n",
        "sns.set(rc={'figure.figsize':(11.7,8.27)})"
      ],
      "execution_count": 5,
      "outputs": []
    },
    {
      "cell_type": "markdown",
      "metadata": {
        "id": "Aquh2SL95X1z"
      },
      "source": [
        "### Join assessment data with individual student assessments"
      ]
    },
    {
      "cell_type": "code",
      "metadata": {
        "execution": {
          "iopub.execute_input": "2021-11-24T15:49:22.443734Z",
          "iopub.status.busy": "2021-11-24T15:49:22.443113Z",
          "iopub.status.idle": "2021-11-24T15:49:22.457776Z",
          "shell.execute_reply": "2021-11-24T15:49:22.456671Z",
          "shell.execute_reply.started": "2021-11-24T15:49:22.443686Z"
        },
        "id": "7gtDyT3Lz5f6",
        "colab": {
          "base_uri": "https://localhost:8080/"
        },
        "outputId": "fa266a31-145f-4f19-8d34-7d4179d59bc8"
      },
      "source": [
        "# drop columns not required to join with student_assessments_df\n",
        "assessments_df.drop(['code_presentation','assessment_type','date','weight'], axis = 1, inplace = True)\n",
        "assessments_df.code_module.value_counts()"
      ],
      "execution_count": 6,
      "outputs": [
        {
          "output_type": "execute_result",
          "data": {
            "text/plain": [
              "FFF    52\n",
              "BBB    42\n",
              "DDD    35\n",
              "GGG    30\n",
              "CCC    20\n",
              "EEE    15\n",
              "AAA    12\n",
              "Name: code_module, dtype: int64"
            ]
          },
          "metadata": {},
          "execution_count": 6
        }
      ]
    },
    {
      "cell_type": "code",
      "metadata": {
        "execution": {
          "iopub.execute_input": "2021-11-24T15:49:22.459829Z",
          "iopub.status.busy": "2021-11-24T15:49:22.459264Z",
          "iopub.status.idle": "2021-11-24T15:49:22.489154Z",
          "shell.execute_reply": "2021-11-24T15:49:22.488437Z",
          "shell.execute_reply.started": "2021-11-24T15:49:22.459794Z"
        },
        "id": "SQOeVzVOz5f8",
        "colab": {
          "base_uri": "https://localhost:8080/",
          "height": 206
        },
        "outputId": "80ff6cdb-b2e3-4cff-be2d-bd1fe530f445"
      },
      "source": [
        "# merge each student assessments with assessment data\n",
        "combined_assessment = pd.merge(student_assessments_df,assessments_df,on='id_assessment')\n",
        "combined_assessment.drop(['is_banked','date_submitted'],axis = 1,inplace=True)\n",
        "combined_assessment.head()"
      ],
      "execution_count": 7,
      "outputs": [
        {
          "output_type": "execute_result",
          "data": {
            "text/html": [
              "<div>\n",
              "<style scoped>\n",
              "    .dataframe tbody tr th:only-of-type {\n",
              "        vertical-align: middle;\n",
              "    }\n",
              "\n",
              "    .dataframe tbody tr th {\n",
              "        vertical-align: top;\n",
              "    }\n",
              "\n",
              "    .dataframe thead th {\n",
              "        text-align: right;\n",
              "    }\n",
              "</style>\n",
              "<table border=\"1\" class=\"dataframe\">\n",
              "  <thead>\n",
              "    <tr style=\"text-align: right;\">\n",
              "      <th></th>\n",
              "      <th>id_assessment</th>\n",
              "      <th>id_student</th>\n",
              "      <th>score</th>\n",
              "      <th>code_module</th>\n",
              "    </tr>\n",
              "  </thead>\n",
              "  <tbody>\n",
              "    <tr>\n",
              "      <th>0</th>\n",
              "      <td>1752</td>\n",
              "      <td>11391</td>\n",
              "      <td>78.0</td>\n",
              "      <td>AAA</td>\n",
              "    </tr>\n",
              "    <tr>\n",
              "      <th>1</th>\n",
              "      <td>1752</td>\n",
              "      <td>28400</td>\n",
              "      <td>70.0</td>\n",
              "      <td>AAA</td>\n",
              "    </tr>\n",
              "    <tr>\n",
              "      <th>2</th>\n",
              "      <td>1752</td>\n",
              "      <td>31604</td>\n",
              "      <td>72.0</td>\n",
              "      <td>AAA</td>\n",
              "    </tr>\n",
              "    <tr>\n",
              "      <th>3</th>\n",
              "      <td>1752</td>\n",
              "      <td>32885</td>\n",
              "      <td>69.0</td>\n",
              "      <td>AAA</td>\n",
              "    </tr>\n",
              "    <tr>\n",
              "      <th>4</th>\n",
              "      <td>1752</td>\n",
              "      <td>38053</td>\n",
              "      <td>79.0</td>\n",
              "      <td>AAA</td>\n",
              "    </tr>\n",
              "  </tbody>\n",
              "</table>\n",
              "</div>"
            ],
            "text/plain": [
              "   id_assessment  id_student  score code_module\n",
              "0           1752       11391   78.0         AAA\n",
              "1           1752       28400   70.0         AAA\n",
              "2           1752       31604   72.0         AAA\n",
              "3           1752       32885   69.0         AAA\n",
              "4           1752       38053   79.0         AAA"
            ]
          },
          "metadata": {},
          "execution_count": 7
        }
      ]
    },
    {
      "cell_type": "code",
      "metadata": {
        "execution": {
          "iopub.execute_input": "2021-11-24T15:49:22.493378Z",
          "iopub.status.busy": "2021-11-24T15:49:22.490379Z",
          "iopub.status.idle": "2021-11-24T15:49:22.538936Z",
          "shell.execute_reply": "2021-11-24T15:49:22.537949Z",
          "shell.execute_reply.started": "2021-11-24T15:49:22.493330Z"
        },
        "id": "Ss1f0Uhvz5f-",
        "colab": {
          "base_uri": "https://localhost:8080/",
          "height": 237
        },
        "outputId": "f4eab163-61cf-4a9f-b589-e8a701e5a97b"
      },
      "source": [
        "# group assessments by student then course\n",
        "grouped_student_assessments = combined_assessment.groupby(['id_student','code_module']).mean()\n",
        "grouped_student_assessments.sort_values('id_student')\n",
        "\n",
        "grouped_student_assessments.drop(['id_assessment'],axis=1,inplace = True)\n",
        "grouped_student_assessments.head()"
      ],
      "execution_count": 8,
      "outputs": [
        {
          "output_type": "execute_result",
          "data": {
            "text/html": [
              "<div>\n",
              "<style scoped>\n",
              "    .dataframe tbody tr th:only-of-type {\n",
              "        vertical-align: middle;\n",
              "    }\n",
              "\n",
              "    .dataframe tbody tr th {\n",
              "        vertical-align: top;\n",
              "    }\n",
              "\n",
              "    .dataframe thead th {\n",
              "        text-align: right;\n",
              "    }\n",
              "</style>\n",
              "<table border=\"1\" class=\"dataframe\">\n",
              "  <thead>\n",
              "    <tr style=\"text-align: right;\">\n",
              "      <th></th>\n",
              "      <th></th>\n",
              "      <th>score</th>\n",
              "    </tr>\n",
              "    <tr>\n",
              "      <th>id_student</th>\n",
              "      <th>code_module</th>\n",
              "      <th></th>\n",
              "    </tr>\n",
              "  </thead>\n",
              "  <tbody>\n",
              "    <tr>\n",
              "      <th>6516</th>\n",
              "      <th>AAA</th>\n",
              "      <td>61.800000</td>\n",
              "    </tr>\n",
              "    <tr>\n",
              "      <th>8462</th>\n",
              "      <th>DDD</th>\n",
              "      <td>87.000000</td>\n",
              "    </tr>\n",
              "    <tr>\n",
              "      <th>11391</th>\n",
              "      <th>AAA</th>\n",
              "      <td>82.000000</td>\n",
              "    </tr>\n",
              "    <tr>\n",
              "      <th>23629</th>\n",
              "      <th>BBB</th>\n",
              "      <td>82.500000</td>\n",
              "    </tr>\n",
              "    <tr>\n",
              "      <th>23698</th>\n",
              "      <th>CCC</th>\n",
              "      <td>74.444444</td>\n",
              "    </tr>\n",
              "  </tbody>\n",
              "</table>\n",
              "</div>"
            ],
            "text/plain": [
              "                            score\n",
              "id_student code_module           \n",
              "6516       AAA          61.800000\n",
              "8462       DDD          87.000000\n",
              "11391      AAA          82.000000\n",
              "23629      BBB          82.500000\n",
              "23698      CCC          74.444444"
            ]
          },
          "metadata": {},
          "execution_count": 8
        }
      ]
    },
    {
      "cell_type": "markdown",
      "metadata": {
        "id": "iEiGcMvB-I5R"
      },
      "source": [
        "#### Plot the number of modules each student takes"
      ]
    },
    {
      "cell_type": "code",
      "metadata": {
        "execution": {
          "iopub.execute_input": "2021-11-24T15:49:22.540955Z",
          "iopub.status.busy": "2021-11-24T15:49:22.540386Z",
          "iopub.status.idle": "2021-11-24T15:49:22.745013Z",
          "shell.execute_reply": "2021-11-24T15:49:22.744208Z",
          "shell.execute_reply.started": "2021-11-24T15:49:22.540911Z"
        },
        "id": "EqJLw3EYz5gB",
        "colab": {
          "base_uri": "https://localhost:8080/",
          "height": 551
        },
        "outputId": "a159356b-486f-4898-dd85-1550c5f29be8"
      },
      "source": [
        "student_all_info = pd.merge(student_info_df,grouped_student_assessments,on='id_student')\n",
        "fig1 = student_all_info.groupby(['id_student']).code_module.count().sort_values().hist()\n",
        "fig1.set_title('Number of modules by student')\n",
        "fig1.set_xlabel('Number of modules')\n",
        "fig1.set_ylabel('Number of students')"
      ],
      "execution_count": 9,
      "outputs": [
        {
          "output_type": "execute_result",
          "data": {
            "text/plain": [
              "Text(0, 0.5, 'Number of students')"
            ]
          },
          "metadata": {},
          "execution_count": 9
        },
        {
          "output_type": "display_data",
          "data": {
            "image/png": "[encoded data removed]",
            "text/plain": [
              "<Figure size 842.4x595.44 with 1 Axes>"
            ]
          },
          "metadata": {}
        }
      ]
    },
    {
      "cell_type": "markdown",
      "metadata": {
        "id": "qtxteGf5_5vb"
      },
      "source": [
        "#### Number of sum clicks per student"
      ]
    },
    {
      "cell_type": "code",
      "source": [
        "# click data\n",
        "def inner_merge(left_df,right_df,right_cols,on_cols):\n",
        "    right_df = right_df[right_cols]\n",
        "    left_df = left_df.merge(right_df, on = on_cols)\n",
        "    return left_df.drop_duplicates()\n",
        "\n",
        "clicks = inner_merge(student_vle_df,\n",
        "                      vle_df,\n",
        "                      ['id_site','code_module','code_presentation','activity_type'],\n",
        "                      ['id_site','code_module','code_presentation'],\n",
        "                    )\n",
        "\n",
        "clicks = clicks.drop(['id_site','date'], axis = 1)\n",
        "\n",
        "clicks = clicks.groupby(['code_module','code_presentation','id_student','activity_type']).sum().reset_index()\n",
        "\n",
        "grouped_vle_sum_clicks_activity = pd.pivot_table(data = clicks, \n",
        "                            index = ['code_module','code_presentation','id_student'],\n",
        "                            columns = 'activity_type', \n",
        "                            values = [f'sum_click'],\n",
        "                            fill_value = 0,\n",
        "                            ).reset_index()\n",
        "\n",
        "# get rid of multi index\n",
        "grouped_vle_sum_clicks_activity = pd.concat([grouped_vle_sum_clicks_activity['code_module'],\n",
        "                              grouped_vle_sum_clicks_activity['code_presentation'],\n",
        "                              grouped_vle_sum_clicks_activity['id_student'], \n",
        "                              grouped_vle_sum_clicks_activity[f'sum_click']], axis=1)\n",
        "\n",
        "temp = grouped_vle_sum_clicks_activity.groupby(['code_module','code_presentation','id_student']).sum(numeric_only=True, min_count=0)\n"
      ],
      "metadata": {
        "id": "xIudDhhnu_4f"
      },
      "execution_count": 10,
      "outputs": []
    },
    {
      "cell_type": "code",
      "source": [
        "temp2 = pd.DataFrame()\n",
        "temp2['sum_click'] = temp.sum(axis=1)"
      ],
      "metadata": {
        "id": "2h-SNdP_0rHR"
      },
      "execution_count": 11,
      "outputs": []
    },
    {
      "cell_type": "code",
      "source": [
        "grouped_vle_sum_clicks_activity = pd.merge(grouped_vle_sum_clicks_activity,temp2,on = ['id_student','code_module','code_presentation'],how='left')"
      ],
      "metadata": {
        "id": "6bhwoYJ00YIA"
      },
      "execution_count": 12,
      "outputs": []
    },
    {
      "cell_type": "code",
      "source": [
        "temp.sum(axis=1)"
      ],
      "metadata": {
        "colab": {
          "base_uri": "https://localhost:8080/"
        },
        "id": "JHWvw6XU0Cv2",
        "outputId": "165bffeb-e51a-4537-990f-7b9ab1dda9d8"
      },
      "execution_count": 13,
      "outputs": [
        {
          "output_type": "execute_result",
          "data": {
            "text/plain": [
              "code_module  code_presentation  id_student\n",
              "AAA          2013J              11391          922\n",
              "                                28400         1409\n",
              "                                30268          260\n",
              "                                31604         2007\n",
              "                                32885         1012\n",
              "                                              ... \n",
              "GGG          2014J              2640965         38\n",
              "                                2645731        855\n",
              "                                2648187        291\n",
              "                                2679821        273\n",
              "                                2684003        583\n",
              "Length: 29228, dtype: int64"
            ]
          },
          "metadata": {},
          "execution_count": 13
        }
      ]
    },
    {
      "cell_type": "code",
      "source": [
        "grouped_vle_sum_clicks_activity.head()"
      ],
      "metadata": {
        "colab": {
          "base_uri": "https://localhost:8080/",
          "height": 226
        },
        "id": "TXq6R0R6zJEI",
        "outputId": "fee580b8-175c-46a6-f2da-57c23954d4a2"
      },
      "execution_count": 14,
      "outputs": [
        {
          "output_type": "execute_result",
          "data": {
            "text/html": [
              "<div>\n",
              "<style scoped>\n",
              "    .dataframe tbody tr th:only-of-type {\n",
              "        vertical-align: middle;\n",
              "    }\n",
              "\n",
              "    .dataframe tbody tr th {\n",
              "        vertical-align: top;\n",
              "    }\n",
              "\n",
              "    .dataframe thead th {\n",
              "        text-align: right;\n",
              "    }\n",
              "</style>\n",
              "<table border=\"1\" class=\"dataframe\">\n",
              "  <thead>\n",
              "    <tr style=\"text-align: right;\">\n",
              "      <th></th>\n",
              "      <th>code_module</th>\n",
              "      <th>code_presentation</th>\n",
              "      <th>id_student</th>\n",
              "      <th>dataplus</th>\n",
              "      <th>dualpane</th>\n",
              "      <th>externalquiz</th>\n",
              "      <th>folder</th>\n",
              "      <th>forumng</th>\n",
              "      <th>glossary</th>\n",
              "      <th>homepage</th>\n",
              "      <th>htmlactivity</th>\n",
              "      <th>oucollaborate</th>\n",
              "      <th>oucontent</th>\n",
              "      <th>ouelluminate</th>\n",
              "      <th>ouwiki</th>\n",
              "      <th>page</th>\n",
              "      <th>questionnaire</th>\n",
              "      <th>quiz</th>\n",
              "      <th>repeatactivity</th>\n",
              "      <th>resource</th>\n",
              "      <th>sharedsubpage</th>\n",
              "      <th>subpage</th>\n",
              "      <th>url</th>\n",
              "      <th>sum_click</th>\n",
              "    </tr>\n",
              "  </thead>\n",
              "  <tbody>\n",
              "    <tr>\n",
              "      <th>0</th>\n",
              "      <td>AAA</td>\n",
              "      <td>2013J</td>\n",
              "      <td>11391</td>\n",
              "      <td>0</td>\n",
              "      <td>0</td>\n",
              "      <td>0</td>\n",
              "      <td>0</td>\n",
              "      <td>181</td>\n",
              "      <td>0</td>\n",
              "      <td>138</td>\n",
              "      <td>0</td>\n",
              "      <td>0</td>\n",
              "      <td>553</td>\n",
              "      <td>0</td>\n",
              "      <td>0</td>\n",
              "      <td>0</td>\n",
              "      <td>0</td>\n",
              "      <td>0</td>\n",
              "      <td>0</td>\n",
              "      <td>13</td>\n",
              "      <td>0</td>\n",
              "      <td>32</td>\n",
              "      <td>5</td>\n",
              "      <td>922</td>\n",
              "    </tr>\n",
              "    <tr>\n",
              "      <th>1</th>\n",
              "      <td>AAA</td>\n",
              "      <td>2013J</td>\n",
              "      <td>28400</td>\n",
              "      <td>10</td>\n",
              "      <td>0</td>\n",
              "      <td>0</td>\n",
              "      <td>0</td>\n",
              "      <td>393</td>\n",
              "      <td>0</td>\n",
              "      <td>324</td>\n",
              "      <td>0</td>\n",
              "      <td>0</td>\n",
              "      <td>535</td>\n",
              "      <td>0</td>\n",
              "      <td>0</td>\n",
              "      <td>0</td>\n",
              "      <td>0</td>\n",
              "      <td>0</td>\n",
              "      <td>0</td>\n",
              "      <td>12</td>\n",
              "      <td>0</td>\n",
              "      <td>87</td>\n",
              "      <td>48</td>\n",
              "      <td>1409</td>\n",
              "    </tr>\n",
              "    <tr>\n",
              "      <th>2</th>\n",
              "      <td>AAA</td>\n",
              "      <td>2013J</td>\n",
              "      <td>30268</td>\n",
              "      <td>0</td>\n",
              "      <td>0</td>\n",
              "      <td>0</td>\n",
              "      <td>0</td>\n",
              "      <td>105</td>\n",
              "      <td>0</td>\n",
              "      <td>59</td>\n",
              "      <td>0</td>\n",
              "      <td>0</td>\n",
              "      <td>66</td>\n",
              "      <td>0</td>\n",
              "      <td>0</td>\n",
              "      <td>0</td>\n",
              "      <td>0</td>\n",
              "      <td>0</td>\n",
              "      <td>0</td>\n",
              "      <td>4</td>\n",
              "      <td>0</td>\n",
              "      <td>22</td>\n",
              "      <td>4</td>\n",
              "      <td>260</td>\n",
              "    </tr>\n",
              "    <tr>\n",
              "      <th>3</th>\n",
              "      <td>AAA</td>\n",
              "      <td>2013J</td>\n",
              "      <td>31604</td>\n",
              "      <td>2</td>\n",
              "      <td>0</td>\n",
              "      <td>0</td>\n",
              "      <td>0</td>\n",
              "      <td>502</td>\n",
              "      <td>1</td>\n",
              "      <td>432</td>\n",
              "      <td>0</td>\n",
              "      <td>0</td>\n",
              "      <td>817</td>\n",
              "      <td>0</td>\n",
              "      <td>0</td>\n",
              "      <td>0</td>\n",
              "      <td>0</td>\n",
              "      <td>0</td>\n",
              "      <td>0</td>\n",
              "      <td>19</td>\n",
              "      <td>0</td>\n",
              "      <td>144</td>\n",
              "      <td>90</td>\n",
              "      <td>2007</td>\n",
              "    </tr>\n",
              "    <tr>\n",
              "      <th>4</th>\n",
              "      <td>AAA</td>\n",
              "      <td>2013J</td>\n",
              "      <td>32885</td>\n",
              "      <td>0</td>\n",
              "      <td>0</td>\n",
              "      <td>0</td>\n",
              "      <td>0</td>\n",
              "      <td>175</td>\n",
              "      <td>4</td>\n",
              "      <td>204</td>\n",
              "      <td>0</td>\n",
              "      <td>0</td>\n",
              "      <td>491</td>\n",
              "      <td>0</td>\n",
              "      <td>0</td>\n",
              "      <td>0</td>\n",
              "      <td>0</td>\n",
              "      <td>0</td>\n",
              "      <td>0</td>\n",
              "      <td>45</td>\n",
              "      <td>0</td>\n",
              "      <td>79</td>\n",
              "      <td>14</td>\n",
              "      <td>1012</td>\n",
              "    </tr>\n",
              "  </tbody>\n",
              "</table>\n",
              "</div>"
            ],
            "text/plain": [
              "  code_module code_presentation  id_student  ...  subpage  url  sum_click\n",
              "0         AAA             2013J       11391  ...       32    5        922\n",
              "1         AAA             2013J       28400  ...       87   48       1409\n",
              "2         AAA             2013J       30268  ...       22    4        260\n",
              "3         AAA             2013J       31604  ...      144   90       2007\n",
              "4         AAA             2013J       32885  ...       79   14       1012\n",
              "\n",
              "[5 rows x 24 columns]"
            ]
          },
          "metadata": {},
          "execution_count": 14
        }
      ]
    },
    {
      "cell_type": "code",
      "source": [
        "# grouped_vle_sum_clicks_activity = pd.merge(student_vle_df,vle_df[['id_site','activity_type']],on='id_site')\n",
        "# temp = grouped_vle_sum_clicks_activity\n",
        "\n",
        "# grouped_vle_sum_clicks_activity = grouped_vle_sum_clicks_activity.groupby(['id_student','code_module','activity_type']).sum().reset_index()\n",
        "\n",
        "# grouped_vle_sum_clicks_activity.drop(['id_site','date'],axis=1,inplace=True)\n",
        "\n",
        "# grouped_vle_sum_clicks_activity.head(20)"
      ],
      "metadata": {
        "id": "_8Bq-XWGptYB"
      },
      "execution_count": 15,
      "outputs": []
    },
    {
      "cell_type": "code",
      "metadata": {
        "execution": {
          "iopub.execute_input": "2021-11-24T15:49:22.747286Z",
          "iopub.status.busy": "2021-11-24T15:49:22.746734Z",
          "iopub.status.idle": "2021-11-24T15:49:24.586027Z",
          "shell.execute_reply": "2021-11-24T15:49:24.585258Z",
          "shell.execute_reply.started": "2021-11-24T15:49:22.747240Z"
        },
        "id": "KtkzDCXBz5gE"
      },
      "source": [
        "# # number of clicks a student makes for a module\n",
        "# grouped_vle_sum_clicks = student_vle_df.groupby(['id_student','code_module']).sum()\n",
        "\n",
        "# # Remove uneeded columns\n",
        "# grouped_vle_sum_clicks.drop(['id_site','date'],axis=1,inplace=True)\n",
        "# grouped_vle_sum_clicks.head()"
      ],
      "execution_count": 16,
      "outputs": []
    },
    {
      "cell_type": "code",
      "metadata": {
        "execution": {
          "iopub.execute_input": "2021-11-24T15:49:24.589464Z",
          "iopub.status.busy": "2021-11-24T15:49:24.589138Z",
          "iopub.status.idle": "2021-11-24T15:49:24.621484Z",
          "shell.execute_reply": "2021-11-24T15:49:24.620407Z",
          "shell.execute_reply.started": "2021-11-24T15:49:24.589434Z"
        },
        "id": "MSLv94y3z5gG"
      },
      "source": [
        "# merge grouped_vle_sum_clicks_activity to student_all_info to a new dataframe called df\n",
        "df = pd.merge(student_all_info,grouped_vle_sum_clicks_activity,on = ['id_student','code_module','code_presentation'],how='left')"
      ],
      "execution_count": 17,
      "outputs": []
    },
    {
      "cell_type": "code",
      "metadata": {
        "execution": {
          "iopub.execute_input": "2021-11-24T15:49:24.623184Z",
          "iopub.status.busy": "2021-11-24T15:49:24.622869Z",
          "iopub.status.idle": "2021-11-24T15:49:24.663722Z",
          "shell.execute_reply": "2021-11-24T15:49:24.662819Z",
          "shell.execute_reply.started": "2021-11-24T15:49:24.623141Z"
        },
        "id": "l6vJXeC7z5gH"
      },
      "source": [
        "# remove rows with null\n",
        "df.dropna(inplace=True)"
      ],
      "execution_count": 18,
      "outputs": []
    },
    {
      "cell_type": "code",
      "source": [
        "df.head()"
      ],
      "metadata": {
        "colab": {
          "base_uri": "https://localhost:8080/",
          "height": 347
        },
        "id": "d2CQeraTlp--",
        "outputId": "3dbdaddd-e4e1-4345-ab48-ee90612d652c"
      },
      "execution_count": 19,
      "outputs": [
        {
          "output_type": "execute_result",
          "data": {
            "text/html": [
              "<div>\n",
              "<style scoped>\n",
              "    .dataframe tbody tr th:only-of-type {\n",
              "        vertical-align: middle;\n",
              "    }\n",
              "\n",
              "    .dataframe tbody tr th {\n",
              "        vertical-align: top;\n",
              "    }\n",
              "\n",
              "    .dataframe thead th {\n",
              "        text-align: right;\n",
              "    }\n",
              "</style>\n",
              "<table border=\"1\" class=\"dataframe\">\n",
              "  <thead>\n",
              "    <tr style=\"text-align: right;\">\n",
              "      <th></th>\n",
              "      <th>code_module</th>\n",
              "      <th>code_presentation</th>\n",
              "      <th>id_student</th>\n",
              "      <th>gender</th>\n",
              "      <th>region</th>\n",
              "      <th>highest_education</th>\n",
              "      <th>imd_band</th>\n",
              "      <th>age_band</th>\n",
              "      <th>num_of_prev_attempts</th>\n",
              "      <th>studied_credits</th>\n",
              "      <th>disability</th>\n",
              "      <th>final_result</th>\n",
              "      <th>score</th>\n",
              "      <th>dataplus</th>\n",
              "      <th>dualpane</th>\n",
              "      <th>externalquiz</th>\n",
              "      <th>folder</th>\n",
              "      <th>forumng</th>\n",
              "      <th>glossary</th>\n",
              "      <th>homepage</th>\n",
              "      <th>htmlactivity</th>\n",
              "      <th>oucollaborate</th>\n",
              "      <th>oucontent</th>\n",
              "      <th>ouelluminate</th>\n",
              "      <th>ouwiki</th>\n",
              "      <th>page</th>\n",
              "      <th>questionnaire</th>\n",
              "      <th>quiz</th>\n",
              "      <th>repeatactivity</th>\n",
              "      <th>resource</th>\n",
              "      <th>sharedsubpage</th>\n",
              "      <th>subpage</th>\n",
              "      <th>url</th>\n",
              "      <th>sum_click</th>\n",
              "    </tr>\n",
              "  </thead>\n",
              "  <tbody>\n",
              "    <tr>\n",
              "      <th>0</th>\n",
              "      <td>AAA</td>\n",
              "      <td>2013J</td>\n",
              "      <td>11391</td>\n",
              "      <td>M</td>\n",
              "      <td>East Anglian Region</td>\n",
              "      <td>HE Qualification</td>\n",
              "      <td>90-100%</td>\n",
              "      <td>55&lt;=</td>\n",
              "      <td>0</td>\n",
              "      <td>240</td>\n",
              "      <td>N</td>\n",
              "      <td>Pass</td>\n",
              "      <td>82.0</td>\n",
              "      <td>0.0</td>\n",
              "      <td>0.0</td>\n",
              "      <td>0.0</td>\n",
              "      <td>0.0</td>\n",
              "      <td>181.0</td>\n",
              "      <td>0.0</td>\n",
              "      <td>138.0</td>\n",
              "      <td>0.0</td>\n",
              "      <td>0.0</td>\n",
              "      <td>553.0</td>\n",
              "      <td>0.0</td>\n",
              "      <td>0.0</td>\n",
              "      <td>0.0</td>\n",
              "      <td>0.0</td>\n",
              "      <td>0.0</td>\n",
              "      <td>0.0</td>\n",
              "      <td>13.0</td>\n",
              "      <td>0.0</td>\n",
              "      <td>32.0</td>\n",
              "      <td>5.0</td>\n",
              "      <td>922.0</td>\n",
              "    </tr>\n",
              "    <tr>\n",
              "      <th>1</th>\n",
              "      <td>AAA</td>\n",
              "      <td>2013J</td>\n",
              "      <td>28400</td>\n",
              "      <td>F</td>\n",
              "      <td>Scotland</td>\n",
              "      <td>HE Qualification</td>\n",
              "      <td>20-30%</td>\n",
              "      <td>35-55</td>\n",
              "      <td>0</td>\n",
              "      <td>60</td>\n",
              "      <td>N</td>\n",
              "      <td>Pass</td>\n",
              "      <td>66.4</td>\n",
              "      <td>10.0</td>\n",
              "      <td>0.0</td>\n",
              "      <td>0.0</td>\n",
              "      <td>0.0</td>\n",
              "      <td>393.0</td>\n",
              "      <td>0.0</td>\n",
              "      <td>324.0</td>\n",
              "      <td>0.0</td>\n",
              "      <td>0.0</td>\n",
              "      <td>535.0</td>\n",
              "      <td>0.0</td>\n",
              "      <td>0.0</td>\n",
              "      <td>0.0</td>\n",
              "      <td>0.0</td>\n",
              "      <td>0.0</td>\n",
              "      <td>0.0</td>\n",
              "      <td>12.0</td>\n",
              "      <td>0.0</td>\n",
              "      <td>87.0</td>\n",
              "      <td>48.0</td>\n",
              "      <td>1409.0</td>\n",
              "    </tr>\n",
              "    <tr>\n",
              "      <th>2</th>\n",
              "      <td>AAA</td>\n",
              "      <td>2013J</td>\n",
              "      <td>31604</td>\n",
              "      <td>F</td>\n",
              "      <td>South East Region</td>\n",
              "      <td>A Level or Equivalent</td>\n",
              "      <td>50-60%</td>\n",
              "      <td>35-55</td>\n",
              "      <td>0</td>\n",
              "      <td>60</td>\n",
              "      <td>N</td>\n",
              "      <td>Pass</td>\n",
              "      <td>76.0</td>\n",
              "      <td>2.0</td>\n",
              "      <td>0.0</td>\n",
              "      <td>0.0</td>\n",
              "      <td>0.0</td>\n",
              "      <td>502.0</td>\n",
              "      <td>1.0</td>\n",
              "      <td>432.0</td>\n",
              "      <td>0.0</td>\n",
              "      <td>0.0</td>\n",
              "      <td>817.0</td>\n",
              "      <td>0.0</td>\n",
              "      <td>0.0</td>\n",
              "      <td>0.0</td>\n",
              "      <td>0.0</td>\n",
              "      <td>0.0</td>\n",
              "      <td>0.0</td>\n",
              "      <td>19.0</td>\n",
              "      <td>0.0</td>\n",
              "      <td>144.0</td>\n",
              "      <td>90.0</td>\n",
              "      <td>2007.0</td>\n",
              "    </tr>\n",
              "    <tr>\n",
              "      <th>3</th>\n",
              "      <td>AAA</td>\n",
              "      <td>2013J</td>\n",
              "      <td>32885</td>\n",
              "      <td>F</td>\n",
              "      <td>West Midlands Region</td>\n",
              "      <td>Lower Than A Level</td>\n",
              "      <td>50-60%</td>\n",
              "      <td>0-35</td>\n",
              "      <td>0</td>\n",
              "      <td>60</td>\n",
              "      <td>N</td>\n",
              "      <td>Pass</td>\n",
              "      <td>54.4</td>\n",
              "      <td>0.0</td>\n",
              "      <td>0.0</td>\n",
              "      <td>0.0</td>\n",
              "      <td>0.0</td>\n",
              "      <td>175.0</td>\n",
              "      <td>4.0</td>\n",
              "      <td>204.0</td>\n",
              "      <td>0.0</td>\n",
              "      <td>0.0</td>\n",
              "      <td>491.0</td>\n",
              "      <td>0.0</td>\n",
              "      <td>0.0</td>\n",
              "      <td>0.0</td>\n",
              "      <td>0.0</td>\n",
              "      <td>0.0</td>\n",
              "      <td>0.0</td>\n",
              "      <td>45.0</td>\n",
              "      <td>0.0</td>\n",
              "      <td>79.0</td>\n",
              "      <td>14.0</td>\n",
              "      <td>1012.0</td>\n",
              "    </tr>\n",
              "    <tr>\n",
              "      <th>4</th>\n",
              "      <td>AAA</td>\n",
              "      <td>2013J</td>\n",
              "      <td>38053</td>\n",
              "      <td>M</td>\n",
              "      <td>Wales</td>\n",
              "      <td>A Level or Equivalent</td>\n",
              "      <td>80-90%</td>\n",
              "      <td>35-55</td>\n",
              "      <td>0</td>\n",
              "      <td>60</td>\n",
              "      <td>N</td>\n",
              "      <td>Pass</td>\n",
              "      <td>68.0</td>\n",
              "      <td>7.0</td>\n",
              "      <td>0.0</td>\n",
              "      <td>0.0</td>\n",
              "      <td>0.0</td>\n",
              "      <td>829.0</td>\n",
              "      <td>4.0</td>\n",
              "      <td>512.0</td>\n",
              "      <td>0.0</td>\n",
              "      <td>0.0</td>\n",
              "      <td>885.0</td>\n",
              "      <td>0.0</td>\n",
              "      <td>0.0</td>\n",
              "      <td>0.0</td>\n",
              "      <td>0.0</td>\n",
              "      <td>0.0</td>\n",
              "      <td>0.0</td>\n",
              "      <td>11.0</td>\n",
              "      <td>0.0</td>\n",
              "      <td>91.0</td>\n",
              "      <td>45.0</td>\n",
              "      <td>2384.0</td>\n",
              "    </tr>\n",
              "  </tbody>\n",
              "</table>\n",
              "</div>"
            ],
            "text/plain": [
              "  code_module code_presentation  id_student  ... subpage   url sum_click\n",
              "0         AAA             2013J       11391  ...    32.0   5.0     922.0\n",
              "1         AAA             2013J       28400  ...    87.0  48.0    1409.0\n",
              "2         AAA             2013J       31604  ...   144.0  90.0    2007.0\n",
              "3         AAA             2013J       32885  ...    79.0  14.0    1012.0\n",
              "4         AAA             2013J       38053  ...    91.0  45.0    2384.0\n",
              "\n",
              "[5 rows x 34 columns]"
            ]
          },
          "metadata": {},
          "execution_count": 19
        }
      ]
    },
    {
      "cell_type": "code",
      "metadata": {
        "execution": {
          "iopub.execute_input": "2021-11-24T15:49:24.675966Z",
          "iopub.status.busy": "2021-11-24T15:49:24.675582Z",
          "iopub.status.idle": "2021-11-24T15:49:24.715515Z",
          "shell.execute_reply": "2021-11-24T15:49:24.714712Z",
          "shell.execute_reply.started": "2021-11-24T15:49:24.675937Z"
        },
        "id": "Nj52q4qfz5gJ"
      },
      "source": [
        "# # categorise df columns\n",
        "# df.code_module = pd.Categorical(df.code_module)\n",
        "# df.code_presentation = pd.Categorical(df.code_presentation)\n",
        "# df.gender = pd.Categorical(df.gender)\n",
        "# df.region = pd.Categorical(df.region)\n",
        "# df.highest_education = pd.Categorical(df.highest_education)\n",
        "# df.imd_band = pd.Categorical(df.imd_band)\n",
        "# df.age_band = pd.Categorical(df.age_band)\n",
        "# df.disability = pd.Categorical(df.disability)\n",
        "# df.final_result = pd.Categorical(df.final_result)\n"
      ],
      "execution_count": 20,
      "outputs": []
    },
    {
      "cell_type": "code",
      "source": [
        "df.final_result"
      ],
      "metadata": {
        "colab": {
          "base_uri": "https://localhost:8080/"
        },
        "id": "XazxfzJHzi1w",
        "outputId": "1cf45850-6b5e-4ee6-ea90-bb2beb5ee0da"
      },
      "execution_count": 21,
      "outputs": [
        {
          "output_type": "execute_result",
          "data": {
            "text/plain": [
              "0               Pass\n",
              "1               Pass\n",
              "2               Pass\n",
              "3               Pass\n",
              "4               Pass\n",
              "            ...     \n",
              "30353    Distinction\n",
              "30354    Distinction\n",
              "30355           Pass\n",
              "30356      Withdrawn\n",
              "30357    Distinction\n",
              "Name: final_result, Length: 28687, dtype: object"
            ]
          },
          "metadata": {},
          "execution_count": 21
        }
      ]
    },
    {
      "cell_type": "code",
      "metadata": {
        "execution": {
          "iopub.execute_input": "2021-11-24T15:49:24.731759Z",
          "iopub.status.busy": "2021-11-24T15:49:24.731382Z",
          "iopub.status.idle": "2021-11-24T15:49:24.757195Z",
          "shell.execute_reply": "2021-11-24T15:49:24.756380Z",
          "shell.execute_reply.started": "2021-11-24T15:49:24.731730Z"
        },
        "id": "m925Y4SBz5gK"
      },
      "source": [
        "# replace final result string with numerical representation\n",
        "df.final_result = df.final_result.replace({'Withdrawn':0,'Fail':1,'Pass':2,'Distinction':3})"
      ],
      "execution_count": 22,
      "outputs": []
    },
    {
      "cell_type": "markdown",
      "metadata": {
        "id": "TdHcyLriFvuv"
      },
      "source": [
        "### Module AAA - statistics"
      ]
    },
    {
      "cell_type": "code",
      "metadata": {
        "execution": {
          "iopub.execute_input": "2021-11-24T15:49:24.763478Z",
          "iopub.status.busy": "2021-11-24T15:49:24.763188Z",
          "iopub.status.idle": "2021-11-24T15:49:24.782091Z",
          "shell.execute_reply": "2021-11-24T15:49:24.781160Z",
          "shell.execute_reply.started": "2021-11-24T15:49:24.763449Z"
        },
        "id": "OLHnkl_cz5gL",
        "colab": {
          "base_uri": "https://localhost:8080/"
        },
        "outputId": "9e62b496-bee7-4806-b419-df7698e0d503"
      },
      "source": [
        "# select every \n",
        "module_AAA = df.loc[df['code_module'] == \"AAA\"]\n",
        "print(module_AAA.shape)\n",
        "#module_AAA = module_AAA.loc[module_AAA['sum_click'] > 50]\n",
        "\n",
        "# remove withdrawn\n",
        "module_AAA = module_AAA[module_AAA.final_result != 0]\n",
        "\n",
        "# 2 results - pass or fail\n",
        "module_AAA['final_result'] = module_AAA['final_result'].replace({1:0, 2:1, 3:1})\n",
        "module_AAA.shape"
      ],
      "execution_count": 23,
      "outputs": [
        {
          "output_type": "stream",
          "name": "stdout",
          "text": [
            "(688, 34)\n"
          ]
        },
        {
          "output_type": "execute_result",
          "data": {
            "text/plain": [
              "(594, 34)"
            ]
          },
          "metadata": {},
          "execution_count": 23
        }
      ]
    },
    {
      "cell_type": "code",
      "metadata": {
        "colab": {
          "base_uri": "https://localhost:8080/",
          "height": 347
        },
        "id": "ogKYpjI0G_Nx",
        "outputId": "bc79ca7b-65c7-4cc0-c5cf-727681dab92a"
      },
      "source": [
        "module_AAA.head()"
      ],
      "execution_count": 24,
      "outputs": [
        {
          "output_type": "execute_result",
          "data": {
            "text/html": [
              "<div>\n",
              "<style scoped>\n",
              "    .dataframe tbody tr th:only-of-type {\n",
              "        vertical-align: middle;\n",
              "    }\n",
              "\n",
              "    .dataframe tbody tr th {\n",
              "        vertical-align: top;\n",
              "    }\n",
              "\n",
              "    .dataframe thead th {\n",
              "        text-align: right;\n",
              "    }\n",
              "</style>\n",
              "<table border=\"1\" class=\"dataframe\">\n",
              "  <thead>\n",
              "    <tr style=\"text-align: right;\">\n",
              "      <th></th>\n",
              "      <th>code_module</th>\n",
              "      <th>code_presentation</th>\n",
              "      <th>id_student</th>\n",
              "      <th>gender</th>\n",
              "      <th>region</th>\n",
              "      <th>highest_education</th>\n",
              "      <th>imd_band</th>\n",
              "      <th>age_band</th>\n",
              "      <th>num_of_prev_attempts</th>\n",
              "      <th>studied_credits</th>\n",
              "      <th>disability</th>\n",
              "      <th>final_result</th>\n",
              "      <th>score</th>\n",
              "      <th>dataplus</th>\n",
              "      <th>dualpane</th>\n",
              "      <th>externalquiz</th>\n",
              "      <th>folder</th>\n",
              "      <th>forumng</th>\n",
              "      <th>glossary</th>\n",
              "      <th>homepage</th>\n",
              "      <th>htmlactivity</th>\n",
              "      <th>oucollaborate</th>\n",
              "      <th>oucontent</th>\n",
              "      <th>ouelluminate</th>\n",
              "      <th>ouwiki</th>\n",
              "      <th>page</th>\n",
              "      <th>questionnaire</th>\n",
              "      <th>quiz</th>\n",
              "      <th>repeatactivity</th>\n",
              "      <th>resource</th>\n",
              "      <th>sharedsubpage</th>\n",
              "      <th>subpage</th>\n",
              "      <th>url</th>\n",
              "      <th>sum_click</th>\n",
              "    </tr>\n",
              "  </thead>\n",
              "  <tbody>\n",
              "    <tr>\n",
              "      <th>0</th>\n",
              "      <td>AAA</td>\n",
              "      <td>2013J</td>\n",
              "      <td>11391</td>\n",
              "      <td>M</td>\n",
              "      <td>East Anglian Region</td>\n",
              "      <td>HE Qualification</td>\n",
              "      <td>90-100%</td>\n",
              "      <td>55&lt;=</td>\n",
              "      <td>0</td>\n",
              "      <td>240</td>\n",
              "      <td>N</td>\n",
              "      <td>1</td>\n",
              "      <td>82.0</td>\n",
              "      <td>0.0</td>\n",
              "      <td>0.0</td>\n",
              "      <td>0.0</td>\n",
              "      <td>0.0</td>\n",
              "      <td>181.0</td>\n",
              "      <td>0.0</td>\n",
              "      <td>138.0</td>\n",
              "      <td>0.0</td>\n",
              "      <td>0.0</td>\n",
              "      <td>553.0</td>\n",
              "      <td>0.0</td>\n",
              "      <td>0.0</td>\n",
              "      <td>0.0</td>\n",
              "      <td>0.0</td>\n",
              "      <td>0.0</td>\n",
              "      <td>0.0</td>\n",
              "      <td>13.0</td>\n",
              "      <td>0.0</td>\n",
              "      <td>32.0</td>\n",
              "      <td>5.0</td>\n",
              "      <td>922.0</td>\n",
              "    </tr>\n",
              "    <tr>\n",
              "      <th>1</th>\n",
              "      <td>AAA</td>\n",
              "      <td>2013J</td>\n",
              "      <td>28400</td>\n",
              "      <td>F</td>\n",
              "      <td>Scotland</td>\n",
              "      <td>HE Qualification</td>\n",
              "      <td>20-30%</td>\n",
              "      <td>35-55</td>\n",
              "      <td>0</td>\n",
              "      <td>60</td>\n",
              "      <td>N</td>\n",
              "      <td>1</td>\n",
              "      <td>66.4</td>\n",
              "      <td>10.0</td>\n",
              "      <td>0.0</td>\n",
              "      <td>0.0</td>\n",
              "      <td>0.0</td>\n",
              "      <td>393.0</td>\n",
              "      <td>0.0</td>\n",
              "      <td>324.0</td>\n",
              "      <td>0.0</td>\n",
              "      <td>0.0</td>\n",
              "      <td>535.0</td>\n",
              "      <td>0.0</td>\n",
              "      <td>0.0</td>\n",
              "      <td>0.0</td>\n",
              "      <td>0.0</td>\n",
              "      <td>0.0</td>\n",
              "      <td>0.0</td>\n",
              "      <td>12.0</td>\n",
              "      <td>0.0</td>\n",
              "      <td>87.0</td>\n",
              "      <td>48.0</td>\n",
              "      <td>1409.0</td>\n",
              "    </tr>\n",
              "    <tr>\n",
              "      <th>2</th>\n",
              "      <td>AAA</td>\n",
              "      <td>2013J</td>\n",
              "      <td>31604</td>\n",
              "      <td>F</td>\n",
              "      <td>South East Region</td>\n",
              "      <td>A Level or Equivalent</td>\n",
              "      <td>50-60%</td>\n",
              "      <td>35-55</td>\n",
              "      <td>0</td>\n",
              "      <td>60</td>\n",
              "      <td>N</td>\n",
              "      <td>1</td>\n",
              "      <td>76.0</td>\n",
              "      <td>2.0</td>\n",
              "      <td>0.0</td>\n",
              "      <td>0.0</td>\n",
              "      <td>0.0</td>\n",
              "      <td>502.0</td>\n",
              "      <td>1.0</td>\n",
              "      <td>432.0</td>\n",
              "      <td>0.0</td>\n",
              "      <td>0.0</td>\n",
              "      <td>817.0</td>\n",
              "      <td>0.0</td>\n",
              "      <td>0.0</td>\n",
              "      <td>0.0</td>\n",
              "      <td>0.0</td>\n",
              "      <td>0.0</td>\n",
              "      <td>0.0</td>\n",
              "      <td>19.0</td>\n",
              "      <td>0.0</td>\n",
              "      <td>144.0</td>\n",
              "      <td>90.0</td>\n",
              "      <td>2007.0</td>\n",
              "    </tr>\n",
              "    <tr>\n",
              "      <th>3</th>\n",
              "      <td>AAA</td>\n",
              "      <td>2013J</td>\n",
              "      <td>32885</td>\n",
              "      <td>F</td>\n",
              "      <td>West Midlands Region</td>\n",
              "      <td>Lower Than A Level</td>\n",
              "      <td>50-60%</td>\n",
              "      <td>0-35</td>\n",
              "      <td>0</td>\n",
              "      <td>60</td>\n",
              "      <td>N</td>\n",
              "      <td>1</td>\n",
              "      <td>54.4</td>\n",
              "      <td>0.0</td>\n",
              "      <td>0.0</td>\n",
              "      <td>0.0</td>\n",
              "      <td>0.0</td>\n",
              "      <td>175.0</td>\n",
              "      <td>4.0</td>\n",
              "      <td>204.0</td>\n",
              "      <td>0.0</td>\n",
              "      <td>0.0</td>\n",
              "      <td>491.0</td>\n",
              "      <td>0.0</td>\n",
              "      <td>0.0</td>\n",
              "      <td>0.0</td>\n",
              "      <td>0.0</td>\n",
              "      <td>0.0</td>\n",
              "      <td>0.0</td>\n",
              "      <td>45.0</td>\n",
              "      <td>0.0</td>\n",
              "      <td>79.0</td>\n",
              "      <td>14.0</td>\n",
              "      <td>1012.0</td>\n",
              "    </tr>\n",
              "    <tr>\n",
              "      <th>4</th>\n",
              "      <td>AAA</td>\n",
              "      <td>2013J</td>\n",
              "      <td>38053</td>\n",
              "      <td>M</td>\n",
              "      <td>Wales</td>\n",
              "      <td>A Level or Equivalent</td>\n",
              "      <td>80-90%</td>\n",
              "      <td>35-55</td>\n",
              "      <td>0</td>\n",
              "      <td>60</td>\n",
              "      <td>N</td>\n",
              "      <td>1</td>\n",
              "      <td>68.0</td>\n",
              "      <td>7.0</td>\n",
              "      <td>0.0</td>\n",
              "      <td>0.0</td>\n",
              "      <td>0.0</td>\n",
              "      <td>829.0</td>\n",
              "      <td>4.0</td>\n",
              "      <td>512.0</td>\n",
              "      <td>0.0</td>\n",
              "      <td>0.0</td>\n",
              "      <td>885.0</td>\n",
              "      <td>0.0</td>\n",
              "      <td>0.0</td>\n",
              "      <td>0.0</td>\n",
              "      <td>0.0</td>\n",
              "      <td>0.0</td>\n",
              "      <td>0.0</td>\n",
              "      <td>11.0</td>\n",
              "      <td>0.0</td>\n",
              "      <td>91.0</td>\n",
              "      <td>45.0</td>\n",
              "      <td>2384.0</td>\n",
              "    </tr>\n",
              "  </tbody>\n",
              "</table>\n",
              "</div>"
            ],
            "text/plain": [
              "  code_module code_presentation  id_student  ... subpage   url sum_click\n",
              "0         AAA             2013J       11391  ...    32.0   5.0     922.0\n",
              "1         AAA             2013J       28400  ...    87.0  48.0    1409.0\n",
              "2         AAA             2013J       31604  ...   144.0  90.0    2007.0\n",
              "3         AAA             2013J       32885  ...    79.0  14.0    1012.0\n",
              "4         AAA             2013J       38053  ...    91.0  45.0    2384.0\n",
              "\n",
              "[5 rows x 34 columns]"
            ]
          },
          "metadata": {},
          "execution_count": 24
        }
      ]
    },
    {
      "cell_type": "code",
      "metadata": {
        "colab": {
          "base_uri": "https://localhost:8080/",
          "height": 423
        },
        "id": "8YGXkHqjGKhP",
        "outputId": "865160bf-1625-4c54-936f-8786d779dc55"
      },
      "source": [
        "#students who completed the module >1 are included\n",
        "module_AAA.groupby('id_student',as_index=False).size().sort_values(by='size')"
      ],
      "execution_count": 25,
      "outputs": [
        {
          "output_type": "execute_result",
          "data": {
            "text/html": [
              "<div>\n",
              "<style scoped>\n",
              "    .dataframe tbody tr th:only-of-type {\n",
              "        vertical-align: middle;\n",
              "    }\n",
              "\n",
              "    .dataframe tbody tr th {\n",
              "        vertical-align: top;\n",
              "    }\n",
              "\n",
              "    .dataframe thead th {\n",
              "        text-align: right;\n",
              "    }\n",
              "</style>\n",
              "<table border=\"1\" class=\"dataframe\">\n",
              "  <thead>\n",
              "    <tr style=\"text-align: right;\">\n",
              "      <th></th>\n",
              "      <th>id_student</th>\n",
              "      <th>size</th>\n",
              "    </tr>\n",
              "  </thead>\n",
              "  <tbody>\n",
              "    <tr>\n",
              "      <th>0</th>\n",
              "      <td>6516</td>\n",
              "      <td>1</td>\n",
              "    </tr>\n",
              "    <tr>\n",
              "      <th>388</th>\n",
              "      <td>998493</td>\n",
              "      <td>1</td>\n",
              "    </tr>\n",
              "    <tr>\n",
              "      <th>389</th>\n",
              "      <td>1035023</td>\n",
              "      <td>1</td>\n",
              "    </tr>\n",
              "    <tr>\n",
              "      <th>390</th>\n",
              "      <td>1045203</td>\n",
              "      <td>1</td>\n",
              "    </tr>\n",
              "    <tr>\n",
              "      <th>391</th>\n",
              "      <td>1105478</td>\n",
              "      <td>1</td>\n",
              "    </tr>\n",
              "    <tr>\n",
              "      <th>...</th>\n",
              "      <td>...</td>\n",
              "      <td>...</td>\n",
              "    </tr>\n",
              "    <tr>\n",
              "      <th>589</th>\n",
              "      <td>2698257</td>\n",
              "      <td>1</td>\n",
              "    </tr>\n",
              "    <tr>\n",
              "      <th>192</th>\n",
              "      <td>295741</td>\n",
              "      <td>2</td>\n",
              "    </tr>\n",
              "    <tr>\n",
              "      <th>80</th>\n",
              "      <td>147756</td>\n",
              "      <td>2</td>\n",
              "    </tr>\n",
              "    <tr>\n",
              "      <th>547</th>\n",
              "      <td>2596621</td>\n",
              "      <td>2</td>\n",
              "    </tr>\n",
              "    <tr>\n",
              "      <th>400</th>\n",
              "      <td>1472925</td>\n",
              "      <td>2</td>\n",
              "    </tr>\n",
              "  </tbody>\n",
              "</table>\n",
              "<p>590 rows × 2 columns</p>\n",
              "</div>"
            ],
            "text/plain": [
              "     id_student  size\n",
              "0          6516     1\n",
              "388      998493     1\n",
              "389     1035023     1\n",
              "390     1045203     1\n",
              "391     1105478     1\n",
              "..          ...   ...\n",
              "589     2698257     1\n",
              "192      295741     2\n",
              "80       147756     2\n",
              "547     2596621     2\n",
              "400     1472925     2\n",
              "\n",
              "[590 rows x 2 columns]"
            ]
          },
          "metadata": {},
          "execution_count": 25
        }
      ]
    },
    {
      "cell_type": "code",
      "metadata": {
        "execution": {
          "iopub.execute_input": "2021-11-24T15:49:24.783493Z",
          "iopub.status.busy": "2021-11-24T15:49:24.783216Z",
          "iopub.status.idle": "2021-11-24T15:49:24.793598Z",
          "shell.execute_reply": "2021-11-24T15:49:24.792634Z",
          "shell.execute_reply.started": "2021-11-24T15:49:24.783466Z"
        },
        "id": "ibJC_yG0z5gL"
      },
      "source": [
        "# split students by pass or fail\n",
        "module_AAA_fail = module_AAA.loc[module_AAA['final_result'] == 0]\n",
        "module_AAA_pass = module_AAA.loc[module_AAA['final_result'] == 1]"
      ],
      "execution_count": 26,
      "outputs": []
    },
    {
      "cell_type": "markdown",
      "metadata": {
        "id": "Jm76T21xHM7T"
      },
      "source": [
        "#### Plot distribution of sum clicks by pass and fail"
      ]
    },
    {
      "cell_type": "code",
      "metadata": {
        "execution": {
          "iopub.execute_input": "2021-11-24T16:00:16.552056Z",
          "iopub.status.busy": "2021-11-24T16:00:16.551587Z",
          "iopub.status.idle": "2021-11-24T16:00:17.057783Z",
          "shell.execute_reply": "2021-11-24T16:00:17.056628Z",
          "shell.execute_reply.started": "2021-11-24T16:00:16.552019Z"
        },
        "id": "kJkvrUKQz5gM",
        "colab": {
          "base_uri": "https://localhost:8080/",
          "height": 605
        },
        "outputId": "0cffedb4-e55b-4979-88e4-73cfb032225a"
      },
      "source": [
        "import matplotlib.pyplot as plt\n",
        "import seaborn as sns\n",
        "\n",
        "sns.distplot(module_AAA_pass.groupby(['id_student'])['sum_click'].sum(), kde=False)\n",
        "sns.distplot(module_AAA_fail.groupby(['id_student'])['sum_click'].sum(), kde=False)\n",
        "\n",
        "plt.legend(labels=['pass',\"fail\"])\n",
        "\n",
        "plt.xlabel(\"sum clicks\")\n",
        "plt.ylabel(\"count\")\n",
        "\n",
        "plt.title(\"Distribution of sum clicks by pass and fail\")"
      ],
      "execution_count": 27,
      "outputs": [
        {
          "output_type": "stream",
          "name": "stderr",
          "text": [
            "/usr/local/lib/python3.7/dist-packages/seaborn/distributions.py:2619: FutureWarning: `distplot` is a deprecated function and will be removed in a future version. Please adapt your code to use either `displot` (a figure-level function with similar flexibility) or `histplot` (an axes-level function for histograms).\n",
            "  warnings.warn(msg, FutureWarning)\n"
          ]
        },
        {
          "output_type": "execute_result",
          "data": {
            "text/plain": [
              "Text(0.5, 1.0, 'Distribution of sum clicks by pass and fail')"
            ]
          },
          "metadata": {},
          "execution_count": 27
        },
        {
          "output_type": "display_data",
          "data": {
            "image/png": "[encoded data removed]",
            "text/plain": [
              "<Figure size 842.4x595.44 with 1 Axes>"
            ]
          },
          "metadata": {}
        }
      ]
    },
    {
      "cell_type": "markdown",
      "metadata": {
        "id": "JwMKlM1nHekV"
      },
      "source": [
        "#### Plot distribution of assessment scores by pass and fail"
      ]
    },
    {
      "cell_type": "code",
      "metadata": {
        "execution": {
          "iopub.execute_input": "2021-11-24T16:00:27.030083Z",
          "iopub.status.busy": "2021-11-24T16:00:27.029721Z",
          "iopub.status.idle": "2021-11-24T16:00:27.264307Z",
          "shell.execute_reply": "2021-11-24T16:00:27.263248Z",
          "shell.execute_reply.started": "2021-11-24T16:00:27.030051Z"
        },
        "id": "IvR90qDEz5gM",
        "colab": {
          "base_uri": "https://localhost:8080/",
          "height": 605
        },
        "outputId": "896e6955-5766-4689-f548-575c6e2c9ae1"
      },
      "source": [
        "sns.distplot(module_AAA_pass[\"score\"],kde=False)\n",
        "sns.distplot(module_AAA_fail[\"score\"],kde=False)\n",
        "\n",
        "plt.legend(labels=['pass',\"fail\"])\n",
        "\n",
        "plt.xlabel(\"score\")\n",
        "plt.ylabel(\"count\")\n",
        "\n",
        "plt.title(\"Distribution of assessment scores by pass and fail\")"
      ],
      "execution_count": 28,
      "outputs": [
        {
          "output_type": "stream",
          "name": "stderr",
          "text": [
            "/usr/local/lib/python3.7/dist-packages/seaborn/distributions.py:2619: FutureWarning: `distplot` is a deprecated function and will be removed in a future version. Please adapt your code to use either `displot` (a figure-level function with similar flexibility) or `histplot` (an axes-level function for histograms).\n",
            "  warnings.warn(msg, FutureWarning)\n"
          ]
        },
        {
          "output_type": "execute_result",
          "data": {
            "text/plain": [
              "Text(0.5, 1.0, 'Distribution of assessment scores by pass and fail')"
            ]
          },
          "metadata": {},
          "execution_count": 28
        },
        {
          "output_type": "display_data",
          "data": {
            "image/png": "[encoded data removed]",
            "text/plain": [
              "<Figure size 842.4x595.44 with 1 Axes>"
            ]
          },
          "metadata": {}
        }
      ]
    },
    {
      "cell_type": "markdown",
      "metadata": {
        "id": "6aW2Xm6nKMAL"
      },
      "source": [
        "#### Plot final result by gender"
      ]
    },
    {
      "cell_type": "code",
      "source": [
        "gender_temp = []\n",
        "final_result_temp = []\n",
        "\n",
        "for i in list(module_AAA.groupby('id_student')['gender']):\n",
        "  gender_temp.append(i[1].unique()[0])\n",
        "  \n",
        "for i in list(module_AAA.groupby('id_student')['final_result']):\n",
        "  final_result_temp.append(i[1].unique()[0])\n",
        "\n",
        "gender_temp = pd.DataFrame(gender_temp, columns=['gender'])\n",
        "final_result_temp = pd.DataFrame(final_result_temp, columns=['final_result'])"
      ],
      "metadata": {
        "id": "YLSXwLDNGcN9"
      },
      "execution_count": 29,
      "outputs": []
    },
    {
      "cell_type": "code",
      "source": [
        "joined_gender_results = gender_temp.join(final_result_temp)"
      ],
      "metadata": {
        "id": "Ksw6qqCtC5rS"
      },
      "execution_count": 30,
      "outputs": []
    },
    {
      "cell_type": "code",
      "metadata": {
        "execution": {
          "iopub.execute_input": "2021-11-24T15:49:25.437557Z",
          "iopub.status.busy": "2021-11-24T15:49:25.437259Z",
          "iopub.status.idle": "2021-11-24T15:49:25.601737Z",
          "shell.execute_reply": "2021-11-24T15:49:25.600942Z",
          "shell.execute_reply.started": "2021-11-24T15:49:25.437528Z"
        },
        "id": "rP9Oexgfz5gN",
        "colab": {
          "base_uri": "https://localhost:8080/",
          "height": 549
        },
        "outputId": "e367fac6-bf03-4485-f3c7-22adec3627a5"
      },
      "source": [
        "pd.crosstab(joined_gender_results['gender'],joined_gender_results['final_result']).plot.bar(stacked=True)\n",
        "plt.title(\"Final result by gender\")\n",
        "\n",
        "plt.legend(labels=['fail','pass'])\n",
        "\n",
        "plt.xlabel(\"Gender\")\n",
        "plt.ylabel(\"Count\")"
      ],
      "execution_count": 31,
      "outputs": [
        {
          "output_type": "execute_result",
          "data": {
            "text/plain": [
              "Text(0, 0.5, 'Count')"
            ]
          },
          "metadata": {},
          "execution_count": 31
        },
        {
          "output_type": "display_data",
          "data": {
            "image/png": "[encoded data removed]",
            "text/plain": [
              "<Figure size 842.4x595.44 with 1 Axes>"
            ]
          },
          "metadata": {}
        }
      ]
    },
    {
      "cell_type": "markdown",
      "metadata": {
        "id": "hLpqS4SQF0EX"
      },
      "source": [
        "### Predictions"
      ]
    },
    {
      "cell_type": "code",
      "metadata": {
        "colab": {
          "base_uri": "https://localhost:8080/",
          "height": 347
        },
        "id": "HEXWPv5b4NTj",
        "outputId": "1bda753e-9459-495a-ffdd-6fe7729e6022"
      },
      "source": [
        "df.head()"
      ],
      "execution_count": 32,
      "outputs": [
        {
          "output_type": "execute_result",
          "data": {
            "text/html": [
              "<div>\n",
              "<style scoped>\n",
              "    .dataframe tbody tr th:only-of-type {\n",
              "        vertical-align: middle;\n",
              "    }\n",
              "\n",
              "    .dataframe tbody tr th {\n",
              "        vertical-align: top;\n",
              "    }\n",
              "\n",
              "    .dataframe thead th {\n",
              "        text-align: right;\n",
              "    }\n",
              "</style>\n",
              "<table border=\"1\" class=\"dataframe\">\n",
              "  <thead>\n",
              "    <tr style=\"text-align: right;\">\n",
              "      <th></th>\n",
              "      <th>code_module</th>\n",
              "      <th>code_presentation</th>\n",
              "      <th>id_student</th>\n",
              "      <th>gender</th>\n",
              "      <th>region</th>\n",
              "      <th>highest_education</th>\n",
              "      <th>imd_band</th>\n",
              "      <th>age_band</th>\n",
              "      <th>num_of_prev_attempts</th>\n",
              "      <th>studied_credits</th>\n",
              "      <th>disability</th>\n",
              "      <th>final_result</th>\n",
              "      <th>score</th>\n",
              "      <th>dataplus</th>\n",
              "      <th>dualpane</th>\n",
              "      <th>externalquiz</th>\n",
              "      <th>folder</th>\n",
              "      <th>forumng</th>\n",
              "      <th>glossary</th>\n",
              "      <th>homepage</th>\n",
              "      <th>htmlactivity</th>\n",
              "      <th>oucollaborate</th>\n",
              "      <th>oucontent</th>\n",
              "      <th>ouelluminate</th>\n",
              "      <th>ouwiki</th>\n",
              "      <th>page</th>\n",
              "      <th>questionnaire</th>\n",
              "      <th>quiz</th>\n",
              "      <th>repeatactivity</th>\n",
              "      <th>resource</th>\n",
              "      <th>sharedsubpage</th>\n",
              "      <th>subpage</th>\n",
              "      <th>url</th>\n",
              "      <th>sum_click</th>\n",
              "    </tr>\n",
              "  </thead>\n",
              "  <tbody>\n",
              "    <tr>\n",
              "      <th>0</th>\n",
              "      <td>AAA</td>\n",
              "      <td>2013J</td>\n",
              "      <td>11391</td>\n",
              "      <td>M</td>\n",
              "      <td>East Anglian Region</td>\n",
              "      <td>HE Qualification</td>\n",
              "      <td>90-100%</td>\n",
              "      <td>55&lt;=</td>\n",
              "      <td>0</td>\n",
              "      <td>240</td>\n",
              "      <td>N</td>\n",
              "      <td>2</td>\n",
              "      <td>82.0</td>\n",
              "      <td>0.0</td>\n",
              "      <td>0.0</td>\n",
              "      <td>0.0</td>\n",
              "      <td>0.0</td>\n",
              "      <td>181.0</td>\n",
              "      <td>0.0</td>\n",
              "      <td>138.0</td>\n",
              "      <td>0.0</td>\n",
              "      <td>0.0</td>\n",
              "      <td>553.0</td>\n",
              "      <td>0.0</td>\n",
              "      <td>0.0</td>\n",
              "      <td>0.0</td>\n",
              "      <td>0.0</td>\n",
              "      <td>0.0</td>\n",
              "      <td>0.0</td>\n",
              "      <td>13.0</td>\n",
              "      <td>0.0</td>\n",
              "      <td>32.0</td>\n",
              "      <td>5.0</td>\n",
              "      <td>922.0</td>\n",
              "    </tr>\n",
              "    <tr>\n",
              "      <th>1</th>\n",
              "      <td>AAA</td>\n",
              "      <td>2013J</td>\n",
              "      <td>28400</td>\n",
              "      <td>F</td>\n",
              "      <td>Scotland</td>\n",
              "      <td>HE Qualification</td>\n",
              "      <td>20-30%</td>\n",
              "      <td>35-55</td>\n",
              "      <td>0</td>\n",
              "      <td>60</td>\n",
              "      <td>N</td>\n",
              "      <td>2</td>\n",
              "      <td>66.4</td>\n",
              "      <td>10.0</td>\n",
              "      <td>0.0</td>\n",
              "      <td>0.0</td>\n",
              "      <td>0.0</td>\n",
              "      <td>393.0</td>\n",
              "      <td>0.0</td>\n",
              "      <td>324.0</td>\n",
              "      <td>0.0</td>\n",
              "      <td>0.0</td>\n",
              "      <td>535.0</td>\n",
              "      <td>0.0</td>\n",
              "      <td>0.0</td>\n",
              "      <td>0.0</td>\n",
              "      <td>0.0</td>\n",
              "      <td>0.0</td>\n",
              "      <td>0.0</td>\n",
              "      <td>12.0</td>\n",
              "      <td>0.0</td>\n",
              "      <td>87.0</td>\n",
              "      <td>48.0</td>\n",
              "      <td>1409.0</td>\n",
              "    </tr>\n",
              "    <tr>\n",
              "      <th>2</th>\n",
              "      <td>AAA</td>\n",
              "      <td>2013J</td>\n",
              "      <td>31604</td>\n",
              "      <td>F</td>\n",
              "      <td>South East Region</td>\n",
              "      <td>A Level or Equivalent</td>\n",
              "      <td>50-60%</td>\n",
              "      <td>35-55</td>\n",
              "      <td>0</td>\n",
              "      <td>60</td>\n",
              "      <td>N</td>\n",
              "      <td>2</td>\n",
              "      <td>76.0</td>\n",
              "      <td>2.0</td>\n",
              "      <td>0.0</td>\n",
              "      <td>0.0</td>\n",
              "      <td>0.0</td>\n",
              "      <td>502.0</td>\n",
              "      <td>1.0</td>\n",
              "      <td>432.0</td>\n",
              "      <td>0.0</td>\n",
              "      <td>0.0</td>\n",
              "      <td>817.0</td>\n",
              "      <td>0.0</td>\n",
              "      <td>0.0</td>\n",
              "      <td>0.0</td>\n",
              "      <td>0.0</td>\n",
              "      <td>0.0</td>\n",
              "      <td>0.0</td>\n",
              "      <td>19.0</td>\n",
              "      <td>0.0</td>\n",
              "      <td>144.0</td>\n",
              "      <td>90.0</td>\n",
              "      <td>2007.0</td>\n",
              "    </tr>\n",
              "    <tr>\n",
              "      <th>3</th>\n",
              "      <td>AAA</td>\n",
              "      <td>2013J</td>\n",
              "      <td>32885</td>\n",
              "      <td>F</td>\n",
              "      <td>West Midlands Region</td>\n",
              "      <td>Lower Than A Level</td>\n",
              "      <td>50-60%</td>\n",
              "      <td>0-35</td>\n",
              "      <td>0</td>\n",
              "      <td>60</td>\n",
              "      <td>N</td>\n",
              "      <td>2</td>\n",
              "      <td>54.4</td>\n",
              "      <td>0.0</td>\n",
              "      <td>0.0</td>\n",
              "      <td>0.0</td>\n",
              "      <td>0.0</td>\n",
              "      <td>175.0</td>\n",
              "      <td>4.0</td>\n",
              "      <td>204.0</td>\n",
              "      <td>0.0</td>\n",
              "      <td>0.0</td>\n",
              "      <td>491.0</td>\n",
              "      <td>0.0</td>\n",
              "      <td>0.0</td>\n",
              "      <td>0.0</td>\n",
              "      <td>0.0</td>\n",
              "      <td>0.0</td>\n",
              "      <td>0.0</td>\n",
              "      <td>45.0</td>\n",
              "      <td>0.0</td>\n",
              "      <td>79.0</td>\n",
              "      <td>14.0</td>\n",
              "      <td>1012.0</td>\n",
              "    </tr>\n",
              "    <tr>\n",
              "      <th>4</th>\n",
              "      <td>AAA</td>\n",
              "      <td>2013J</td>\n",
              "      <td>38053</td>\n",
              "      <td>M</td>\n",
              "      <td>Wales</td>\n",
              "      <td>A Level or Equivalent</td>\n",
              "      <td>80-90%</td>\n",
              "      <td>35-55</td>\n",
              "      <td>0</td>\n",
              "      <td>60</td>\n",
              "      <td>N</td>\n",
              "      <td>2</td>\n",
              "      <td>68.0</td>\n",
              "      <td>7.0</td>\n",
              "      <td>0.0</td>\n",
              "      <td>0.0</td>\n",
              "      <td>0.0</td>\n",
              "      <td>829.0</td>\n",
              "      <td>4.0</td>\n",
              "      <td>512.0</td>\n",
              "      <td>0.0</td>\n",
              "      <td>0.0</td>\n",
              "      <td>885.0</td>\n",
              "      <td>0.0</td>\n",
              "      <td>0.0</td>\n",
              "      <td>0.0</td>\n",
              "      <td>0.0</td>\n",
              "      <td>0.0</td>\n",
              "      <td>0.0</td>\n",
              "      <td>11.0</td>\n",
              "      <td>0.0</td>\n",
              "      <td>91.0</td>\n",
              "      <td>45.0</td>\n",
              "      <td>2384.0</td>\n",
              "    </tr>\n",
              "  </tbody>\n",
              "</table>\n",
              "</div>"
            ],
            "text/plain": [
              "  code_module code_presentation  id_student  ... subpage   url sum_click\n",
              "0         AAA             2013J       11391  ...    32.0   5.0     922.0\n",
              "1         AAA             2013J       28400  ...    87.0  48.0    1409.0\n",
              "2         AAA             2013J       31604  ...   144.0  90.0    2007.0\n",
              "3         AAA             2013J       32885  ...    79.0  14.0    1012.0\n",
              "4         AAA             2013J       38053  ...    91.0  45.0    2384.0\n",
              "\n",
              "[5 rows x 34 columns]"
            ]
          },
          "metadata": {},
          "execution_count": 32
        }
      ]
    },
    {
      "cell_type": "code",
      "source": [
        "df.to_csv('oulad_dataset_combined.csv')"
      ],
      "metadata": {
        "id": "LkjVUpBFM1LA"
      },
      "execution_count": 33,
      "outputs": []
    },
    {
      "cell_type": "markdown",
      "metadata": {
        "id": "hdIuLIELUzI-"
      },
      "source": [
        "#### Evaluation"
      ]
    },
    {
      "cell_type": "code",
      "metadata": {
        "id": "uhgNhMwRLbWQ"
      },
      "source": [
        "from sklearn.metrics import classification_report\n",
        "from sklearn.metrics import confusion_matrix\n",
        "from sklearn.metrics import precision_score\n",
        "from sklearn.metrics import recall_score\n",
        "from sklearn.metrics import accuracy_score\n",
        "from sklearn.metrics import fbeta_score\n",
        "\n",
        "\n",
        "def evaluation_summary(description, predictions, true_labels):\n",
        "  print(\"Evaluation for: \" + description)\n",
        "  precision_macro = precision_score(true_labels, predictions, average='macro')\n",
        "  precision_weighted = precision_score(true_labels, predictions, average='weighted')\n",
        "\n",
        "  recall = recall_score(true_labels, predictions, average='macro')\n",
        "  accuracy = accuracy_score(true_labels, predictions)\n",
        "  f1 = fbeta_score(true_labels, predictions, beta=1, average='macro')#, labels=np.unique(predictions)) #1 means f_1 measure\n",
        "\n",
        "  print(\"Classifier '%s' has Acc=%0.3f P_macro=%0.3f P_weighted=%0.3f R=%0.3f F1=%0.3f\" % (description,accuracy,precision_macro,precision_weighted,recall,f1))\n",
        "  # Specify three digits instead of the default two.\n",
        "  print(classification_report(true_labels, predictions, digits=3))\n",
        "  print('\\nConfusion matrix:\\n') # Note the order here is true, predicted, odd.\n",
        "  cm = confusion_matrix(true_labels, predictions)\n",
        "  labels = np.unique(true_labels)\n",
        "  print(pd.DataFrame(cm, index=labels, columns=labels))\n",
        "\n",
        "  plt.subplots(figsize=(8,7))\n",
        "  ax= plt.subplot()\n",
        "  sns.heatmap(cm, annot=True, fmt='g', ax=ax, cmap=\"YlGnBu\");  #annot=True to annotate cells, ftm='g' to disable scientific notation\n",
        "\n",
        "  # labels, title and ticks\n",
        "  ax.set_xlabel('Predicted labels');ax.set_ylabel('True labels'); \n",
        "  ax.set_title('Confusion Matrix'); \n",
        "  ax.xaxis.set_ticklabels(['fail', 'pass']); ax.yaxis.set_ticklabels(['fail', 'pass'])"
      ],
      "execution_count": 34,
      "outputs": []
    },
    {
      "cell_type": "markdown",
      "metadata": {
        "id": "dRxzFuz3U2EY"
      },
      "source": [
        "#### Split dataset"
      ]
    },
    {
      "cell_type": "code",
      "metadata": {
        "execution": {
          "iopub.execute_input": "2021-11-24T15:49:25.714577Z",
          "iopub.status.busy": "2021-11-24T15:49:25.714299Z",
          "iopub.status.idle": "2021-11-24T15:49:25.875592Z",
          "shell.execute_reply": "2021-11-24T15:49:25.874635Z",
          "shell.execute_reply.started": "2021-11-24T15:49:25.714550Z"
        },
        "id": "B_Vx1IA-z5gO"
      },
      "source": [
        "from sklearn.model_selection import train_test_split\n",
        "\n",
        "def split_dataset(X, Y):   \n",
        "    X_train, X_test, Y_train, Y_test = train_test_split(X, Y)\n",
        "    return X_train, Y_train, X_test, Y_test\n"
      ],
      "execution_count": 35,
      "outputs": []
    },
    {
      "cell_type": "markdown",
      "metadata": {
        "id": "zas-wWClU5tt"
      },
      "source": [
        "#### Prepare data"
      ]
    },
    {
      "cell_type": "code",
      "source": [
        "from sklearn import preprocessing\n",
        "\n",
        "class MultiColumnLabelEncoder:\n",
        "    def __init__(self,columns = None):\n",
        "        self.columns = columns # array of column names to encode\n",
        "\n",
        "    def fit(self,X,y=None):\n",
        "        return self # not relevant here\n",
        "\n",
        "    def transform(self,X):\n",
        "        '''\n",
        "        Transforms columns of X specified in self.columns using\n",
        "        LabelEncoder(). If no columns specified, transforms all\n",
        "        columns in X.\n",
        "        '''\n",
        "        output = X.copy()\n",
        "        if self.columns is not None:\n",
        "            for col in self.columns:\n",
        "                output[col] = preprocessing.LabelEncoder().fit_transform(output[col])\n",
        "        else:\n",
        "            for colname,col in output.iteritems():\n",
        "                output[colname] = preprocessing.LabelEncoder().fit_transform(col)\n",
        "        return output\n",
        "\n",
        "    def fit_transform(self,X,y=None):\n",
        "        return self.fit(X,y).transform(X)\n",
        "\n",
        "\n",
        "class MultiColumnOHEncoder:\n",
        "    def __init__(self,columns = None):\n",
        "        self.columns = columns # array of column names to encode\n",
        "\n",
        "    def fit(self,X,y=None):\n",
        "        return self # not relevant here\n",
        "\n",
        "    def transform(self,X):\n",
        "        '''\n",
        "        Transforms columns of X specified in self.columns using\n",
        "        LabelEncoder(). If no columns specified, transforms all\n",
        "        columns in X.\n",
        "        '''\n",
        "        output = X.copy()\n",
        "        if self.columns is not None:\n",
        "            for col in self.columns:\n",
        "                output[col] = preprocessing.OneHotEncoder().fit_transform(output[col])\n",
        "        else:\n",
        "            for colname,col in output.iteritems():\n",
        "                output[colname] = preprocessing.OneHotEncoder().fit_transform(col)\n",
        "        return output\n",
        "\n",
        "    def fit_transform(self,X,y=None):\n",
        "        return self.fit(X,y).transform(X)"
      ],
      "metadata": {
        "id": "XT-gdqT7ryDE"
      },
      "execution_count": 36,
      "outputs": []
    },
    {
      "cell_type": "code",
      "source": [
        "# categorise df columns\n",
        "df.code_module = pd.Categorical(df.code_module)\n",
        "df.code_presentation = pd.Categorical(df.code_presentation)\n",
        "df.gender = pd.Categorical(df.gender)\n",
        "df.region = pd.Categorical(df.region)\n",
        "df.disability = pd.Categorical(df.disability)\n",
        "df.final_result = pd.Categorical(df.final_result)\n",
        "\n",
        "from sklearn.pipeline import Pipeline\n",
        "\n",
        "encoding_pipeline = Pipeline([\n",
        "    ('encoding_label',MultiColumnLabelEncoder(columns=['highest_education','imd_band','age_band'])),\n",
        "])\n",
        "df = encoding_pipeline.fit_transform(df)"
      ],
      "metadata": {
        "id": "gueTkayTs0pf"
      },
      "execution_count": 37,
      "outputs": []
    },
    {
      "cell_type": "code",
      "metadata": {
        "execution": {
          "iopub.execute_input": "2021-11-24T15:49:25.898064Z",
          "iopub.status.busy": "2021-11-24T15:49:25.897633Z",
          "iopub.status.idle": "2021-11-24T15:49:26.265276Z",
          "shell.execute_reply": "2021-11-24T15:49:26.264276Z",
          "shell.execute_reply.started": "2021-11-24T15:49:25.898034Z"
        },
        "id": "r18gPU8sz5gP"
      },
      "source": [
        "# remove withdrawl\n",
        "df = df[df.final_result != 0]\n",
        "Y = df['final_result'].replace({1:0, 2:1, 3:1}) # Fail; Pass, Distinction -> Incomplete; Complete\n",
        "X = df.drop('final_result', axis=1)\n",
        "\n",
        "# Convert categorical variable into indicator variables. One-hot encoding\n",
        "X = pd.get_dummies(X)"
      ],
      "execution_count": 38,
      "outputs": []
    },
    {
      "cell_type": "code",
      "metadata": {
        "colab": {
          "base_uri": "https://localhost:8080/",
          "height": 261
        },
        "id": "X1oeqcvt4odu",
        "outputId": "258b85b0-cd6e-41a9-e17a-cac1da35e910"
      },
      "source": [
        "X.head()"
      ],
      "execution_count": 39,
      "outputs": [
        {
          "output_type": "execute_result",
          "data": {
            "text/html": [
              "<div>\n",
              "<style scoped>\n",
              "    .dataframe tbody tr th:only-of-type {\n",
              "        vertical-align: middle;\n",
              "    }\n",
              "\n",
              "    .dataframe tbody tr th {\n",
              "        vertical-align: top;\n",
              "    }\n",
              "\n",
              "    .dataframe thead th {\n",
              "        text-align: right;\n",
              "    }\n",
              "</style>\n",
              "<table border=\"1\" class=\"dataframe\">\n",
              "  <thead>\n",
              "    <tr style=\"text-align: right;\">\n",
              "      <th></th>\n",
              "      <th>id_student</th>\n",
              "      <th>highest_education</th>\n",
              "      <th>imd_band</th>\n",
              "      <th>age_band</th>\n",
              "      <th>num_of_prev_attempts</th>\n",
              "      <th>studied_credits</th>\n",
              "      <th>score</th>\n",
              "      <th>dataplus</th>\n",
              "      <th>dualpane</th>\n",
              "      <th>externalquiz</th>\n",
              "      <th>folder</th>\n",
              "      <th>forumng</th>\n",
              "      <th>glossary</th>\n",
              "      <th>homepage</th>\n",
              "      <th>htmlactivity</th>\n",
              "      <th>oucollaborate</th>\n",
              "      <th>oucontent</th>\n",
              "      <th>ouelluminate</th>\n",
              "      <th>ouwiki</th>\n",
              "      <th>page</th>\n",
              "      <th>questionnaire</th>\n",
              "      <th>quiz</th>\n",
              "      <th>repeatactivity</th>\n",
              "      <th>resource</th>\n",
              "      <th>sharedsubpage</th>\n",
              "      <th>subpage</th>\n",
              "      <th>url</th>\n",
              "      <th>sum_click</th>\n",
              "      <th>code_module_AAA</th>\n",
              "      <th>code_module_BBB</th>\n",
              "      <th>code_module_CCC</th>\n",
              "      <th>code_module_DDD</th>\n",
              "      <th>code_module_EEE</th>\n",
              "      <th>code_module_FFF</th>\n",
              "      <th>code_module_GGG</th>\n",
              "      <th>code_presentation_2013B</th>\n",
              "      <th>code_presentation_2013J</th>\n",
              "      <th>code_presentation_2014B</th>\n",
              "      <th>code_presentation_2014J</th>\n",
              "      <th>gender_F</th>\n",
              "      <th>gender_M</th>\n",
              "      <th>region_East Anglian Region</th>\n",
              "      <th>region_East Midlands Region</th>\n",
              "      <th>region_Ireland</th>\n",
              "      <th>region_London Region</th>\n",
              "      <th>region_North Region</th>\n",
              "      <th>region_North Western Region</th>\n",
              "      <th>region_Scotland</th>\n",
              "      <th>region_South East Region</th>\n",
              "      <th>region_South Region</th>\n",
              "      <th>region_South West Region</th>\n",
              "      <th>region_Wales</th>\n",
              "      <th>region_West Midlands Region</th>\n",
              "      <th>region_Yorkshire Region</th>\n",
              "      <th>disability_N</th>\n",
              "      <th>disability_Y</th>\n",
              "    </tr>\n",
              "  </thead>\n",
              "  <tbody>\n",
              "    <tr>\n",
              "      <th>0</th>\n",
              "      <td>11391</td>\n",
              "      <td>1</td>\n",
              "      <td>9</td>\n",
              "      <td>2</td>\n",
              "      <td>0</td>\n",
              "      <td>240</td>\n",
              "      <td>82.0</td>\n",
              "      <td>0.0</td>\n",
              "      <td>0.0</td>\n",
              "      <td>0.0</td>\n",
              "      <td>0.0</td>\n",
              "      <td>181.0</td>\n",
              "      <td>0.0</td>\n",
              "      <td>138.0</td>\n",
              "      <td>0.0</td>\n",
              "      <td>0.0</td>\n",
              "      <td>553.0</td>\n",
              "      <td>0.0</td>\n",
              "      <td>0.0</td>\n",
              "      <td>0.0</td>\n",
              "      <td>0.0</td>\n",
              "      <td>0.0</td>\n",
              "      <td>0.0</td>\n",
              "      <td>13.0</td>\n",
              "      <td>0.0</td>\n",
              "      <td>32.0</td>\n",
              "      <td>5.0</td>\n",
              "      <td>922.0</td>\n",
              "      <td>1</td>\n",
              "      <td>0</td>\n",
              "      <td>0</td>\n",
              "      <td>0</td>\n",
              "      <td>0</td>\n",
              "      <td>0</td>\n",
              "      <td>0</td>\n",
              "      <td>0</td>\n",
              "      <td>1</td>\n",
              "      <td>0</td>\n",
              "      <td>0</td>\n",
              "      <td>0</td>\n",
              "      <td>1</td>\n",
              "      <td>1</td>\n",
              "      <td>0</td>\n",
              "      <td>0</td>\n",
              "      <td>0</td>\n",
              "      <td>0</td>\n",
              "      <td>0</td>\n",
              "      <td>0</td>\n",
              "      <td>0</td>\n",
              "      <td>0</td>\n",
              "      <td>0</td>\n",
              "      <td>0</td>\n",
              "      <td>0</td>\n",
              "      <td>0</td>\n",
              "      <td>1</td>\n",
              "      <td>0</td>\n",
              "    </tr>\n",
              "    <tr>\n",
              "      <th>1</th>\n",
              "      <td>28400</td>\n",
              "      <td>1</td>\n",
              "      <td>2</td>\n",
              "      <td>1</td>\n",
              "      <td>0</td>\n",
              "      <td>60</td>\n",
              "      <td>66.4</td>\n",
              "      <td>10.0</td>\n",
              "      <td>0.0</td>\n",
              "      <td>0.0</td>\n",
              "      <td>0.0</td>\n",
              "      <td>393.0</td>\n",
              "      <td>0.0</td>\n",
              "      <td>324.0</td>\n",
              "      <td>0.0</td>\n",
              "      <td>0.0</td>\n",
              "      <td>535.0</td>\n",
              "      <td>0.0</td>\n",
              "      <td>0.0</td>\n",
              "      <td>0.0</td>\n",
              "      <td>0.0</td>\n",
              "      <td>0.0</td>\n",
              "      <td>0.0</td>\n",
              "      <td>12.0</td>\n",
              "      <td>0.0</td>\n",
              "      <td>87.0</td>\n",
              "      <td>48.0</td>\n",
              "      <td>1409.0</td>\n",
              "      <td>1</td>\n",
              "      <td>0</td>\n",
              "      <td>0</td>\n",
              "      <td>0</td>\n",
              "      <td>0</td>\n",
              "      <td>0</td>\n",
              "      <td>0</td>\n",
              "      <td>0</td>\n",
              "      <td>1</td>\n",
              "      <td>0</td>\n",
              "      <td>0</td>\n",
              "      <td>1</td>\n",
              "      <td>0</td>\n",
              "      <td>0</td>\n",
              "      <td>0</td>\n",
              "      <td>0</td>\n",
              "      <td>0</td>\n",
              "      <td>0</td>\n",
              "      <td>0</td>\n",
              "      <td>1</td>\n",
              "      <td>0</td>\n",
              "      <td>0</td>\n",
              "      <td>0</td>\n",
              "      <td>0</td>\n",
              "      <td>0</td>\n",
              "      <td>0</td>\n",
              "      <td>1</td>\n",
              "      <td>0</td>\n",
              "    </tr>\n",
              "    <tr>\n",
              "      <th>2</th>\n",
              "      <td>31604</td>\n",
              "      <td>0</td>\n",
              "      <td>5</td>\n",
              "      <td>1</td>\n",
              "      <td>0</td>\n",
              "      <td>60</td>\n",
              "      <td>76.0</td>\n",
              "      <td>2.0</td>\n",
              "      <td>0.0</td>\n",
              "      <td>0.0</td>\n",
              "      <td>0.0</td>\n",
              "      <td>502.0</td>\n",
              "      <td>1.0</td>\n",
              "      <td>432.0</td>\n",
              "      <td>0.0</td>\n",
              "      <td>0.0</td>\n",
              "      <td>817.0</td>\n",
              "      <td>0.0</td>\n",
              "      <td>0.0</td>\n",
              "      <td>0.0</td>\n",
              "      <td>0.0</td>\n",
              "      <td>0.0</td>\n",
              "      <td>0.0</td>\n",
              "      <td>19.0</td>\n",
              "      <td>0.0</td>\n",
              "      <td>144.0</td>\n",
              "      <td>90.0</td>\n",
              "      <td>2007.0</td>\n",
              "      <td>1</td>\n",
              "      <td>0</td>\n",
              "      <td>0</td>\n",
              "      <td>0</td>\n",
              "      <td>0</td>\n",
              "      <td>0</td>\n",
              "      <td>0</td>\n",
              "      <td>0</td>\n",
              "      <td>1</td>\n",
              "      <td>0</td>\n",
              "      <td>0</td>\n",
              "      <td>1</td>\n",
              "      <td>0</td>\n",
              "      <td>0</td>\n",
              "      <td>0</td>\n",
              "      <td>0</td>\n",
              "      <td>0</td>\n",
              "      <td>0</td>\n",
              "      <td>0</td>\n",
              "      <td>0</td>\n",
              "      <td>1</td>\n",
              "      <td>0</td>\n",
              "      <td>0</td>\n",
              "      <td>0</td>\n",
              "      <td>0</td>\n",
              "      <td>0</td>\n",
              "      <td>1</td>\n",
              "      <td>0</td>\n",
              "    </tr>\n",
              "    <tr>\n",
              "      <th>3</th>\n",
              "      <td>32885</td>\n",
              "      <td>2</td>\n",
              "      <td>5</td>\n",
              "      <td>0</td>\n",
              "      <td>0</td>\n",
              "      <td>60</td>\n",
              "      <td>54.4</td>\n",
              "      <td>0.0</td>\n",
              "      <td>0.0</td>\n",
              "      <td>0.0</td>\n",
              "      <td>0.0</td>\n",
              "      <td>175.0</td>\n",
              "      <td>4.0</td>\n",
              "      <td>204.0</td>\n",
              "      <td>0.0</td>\n",
              "      <td>0.0</td>\n",
              "      <td>491.0</td>\n",
              "      <td>0.0</td>\n",
              "      <td>0.0</td>\n",
              "      <td>0.0</td>\n",
              "      <td>0.0</td>\n",
              "      <td>0.0</td>\n",
              "      <td>0.0</td>\n",
              "      <td>45.0</td>\n",
              "      <td>0.0</td>\n",
              "      <td>79.0</td>\n",
              "      <td>14.0</td>\n",
              "      <td>1012.0</td>\n",
              "      <td>1</td>\n",
              "      <td>0</td>\n",
              "      <td>0</td>\n",
              "      <td>0</td>\n",
              "      <td>0</td>\n",
              "      <td>0</td>\n",
              "      <td>0</td>\n",
              "      <td>0</td>\n",
              "      <td>1</td>\n",
              "      <td>0</td>\n",
              "      <td>0</td>\n",
              "      <td>1</td>\n",
              "      <td>0</td>\n",
              "      <td>0</td>\n",
              "      <td>0</td>\n",
              "      <td>0</td>\n",
              "      <td>0</td>\n",
              "      <td>0</td>\n",
              "      <td>0</td>\n",
              "      <td>0</td>\n",
              "      <td>0</td>\n",
              "      <td>0</td>\n",
              "      <td>0</td>\n",
              "      <td>0</td>\n",
              "      <td>1</td>\n",
              "      <td>0</td>\n",
              "      <td>1</td>\n",
              "      <td>0</td>\n",
              "    </tr>\n",
              "    <tr>\n",
              "      <th>4</th>\n",
              "      <td>38053</td>\n",
              "      <td>0</td>\n",
              "      <td>8</td>\n",
              "      <td>1</td>\n",
              "      <td>0</td>\n",
              "      <td>60</td>\n",
              "      <td>68.0</td>\n",
              "      <td>7.0</td>\n",
              "      <td>0.0</td>\n",
              "      <td>0.0</td>\n",
              "      <td>0.0</td>\n",
              "      <td>829.0</td>\n",
              "      <td>4.0</td>\n",
              "      <td>512.0</td>\n",
              "      <td>0.0</td>\n",
              "      <td>0.0</td>\n",
              "      <td>885.0</td>\n",
              "      <td>0.0</td>\n",
              "      <td>0.0</td>\n",
              "      <td>0.0</td>\n",
              "      <td>0.0</td>\n",
              "      <td>0.0</td>\n",
              "      <td>0.0</td>\n",
              "      <td>11.0</td>\n",
              "      <td>0.0</td>\n",
              "      <td>91.0</td>\n",
              "      <td>45.0</td>\n",
              "      <td>2384.0</td>\n",
              "      <td>1</td>\n",
              "      <td>0</td>\n",
              "      <td>0</td>\n",
              "      <td>0</td>\n",
              "      <td>0</td>\n",
              "      <td>0</td>\n",
              "      <td>0</td>\n",
              "      <td>0</td>\n",
              "      <td>1</td>\n",
              "      <td>0</td>\n",
              "      <td>0</td>\n",
              "      <td>0</td>\n",
              "      <td>1</td>\n",
              "      <td>0</td>\n",
              "      <td>0</td>\n",
              "      <td>0</td>\n",
              "      <td>0</td>\n",
              "      <td>0</td>\n",
              "      <td>0</td>\n",
              "      <td>0</td>\n",
              "      <td>0</td>\n",
              "      <td>0</td>\n",
              "      <td>0</td>\n",
              "      <td>1</td>\n",
              "      <td>0</td>\n",
              "      <td>0</td>\n",
              "      <td>1</td>\n",
              "      <td>0</td>\n",
              "    </tr>\n",
              "  </tbody>\n",
              "</table>\n",
              "</div>"
            ],
            "text/plain": [
              "   id_student  highest_education  ...  disability_N  disability_Y\n",
              "0       11391                  1  ...             1             0\n",
              "1       28400                  1  ...             1             0\n",
              "2       31604                  0  ...             1             0\n",
              "3       32885                  2  ...             1             0\n",
              "4       38053                  0  ...             1             0\n",
              "\n",
              "[5 rows x 56 columns]"
            ]
          },
          "metadata": {},
          "execution_count": 39
        }
      ]
    },
    {
      "cell_type": "code",
      "metadata": {
        "id": "N3slzCxLNQUu"
      },
      "source": [
        "X_train, Y_train, X_test, Y_test = split_dataset(X,Y)"
      ],
      "execution_count": 40,
      "outputs": []
    },
    {
      "cell_type": "markdown",
      "source": [
        "#### Dummy Classifier"
      ],
      "metadata": {
        "id": "os99d5XjLh7G"
      }
    },
    {
      "cell_type": "code",
      "source": [
        "from sklearn.dummy import DummyClassifier\n",
        "\n",
        "dummy_classifier = DummyClassifier()\n",
        "dummy_classifier.fit(X_train, Y_train)\n",
        "\n",
        "test_dt_predictions = dummy_classifier.predict(X_test)\n",
        "\n",
        "evaluation_summary(\"Dummy Classifier test dataset\",  test_dt_predictions, Y_test)"
      ],
      "metadata": {
        "colab": {
          "base_uri": "https://localhost:8080/",
          "height": 953
        },
        "id": "gj4foM_mLkRT",
        "outputId": "779489ae-c3e1-485a-89ef-fe4a5f30082d"
      },
      "execution_count": 41,
      "outputs": [
        {
          "output_type": "stream",
          "name": "stdout",
          "text": [
            "Evaluation for: Dummy Classifier test dataset\n",
            "Classifier 'Dummy Classifier test dataset' has Acc=0.736 P_macro=0.368 P_weighted=0.542 R=0.500 F1=0.424\n",
            "              precision    recall  f1-score   support\n",
            "\n",
            "           0      0.000     0.000     0.000      1512\n",
            "           1      0.736     1.000     0.848      4226\n",
            "\n",
            "    accuracy                          0.736      5738\n",
            "   macro avg      0.368     0.500     0.424      5738\n",
            "weighted avg      0.542     0.736     0.625      5738\n",
            "\n",
            "\n",
            "Confusion matrix:\n",
            "\n",
            "   0     1\n",
            "0  0  1512\n",
            "1  0  4226\n"
          ]
        },
        {
          "output_type": "stream",
          "name": "stderr",
          "text": [
            "/usr/local/lib/python3.7/dist-packages/sklearn/metrics/_classification.py:1308: UndefinedMetricWarning: Precision is ill-defined and being set to 0.0 in labels with no predicted samples. Use `zero_division` parameter to control this behavior.\n",
            "  _warn_prf(average, modifier, msg_start, len(result))\n",
            "/usr/local/lib/python3.7/dist-packages/sklearn/metrics/_classification.py:1308: UndefinedMetricWarning: Precision is ill-defined and being set to 0.0 in labels with no predicted samples. Use `zero_division` parameter to control this behavior.\n",
            "  _warn_prf(average, modifier, msg_start, len(result))\n",
            "/usr/local/lib/python3.7/dist-packages/sklearn/metrics/_classification.py:1308: UndefinedMetricWarning: Precision and F-score are ill-defined and being set to 0.0 in labels with no predicted samples. Use `zero_division` parameter to control this behavior.\n",
            "  _warn_prf(average, modifier, msg_start, len(result))\n",
            "/usr/local/lib/python3.7/dist-packages/sklearn/metrics/_classification.py:1308: UndefinedMetricWarning: Precision and F-score are ill-defined and being set to 0.0 in labels with no predicted samples. Use `zero_division` parameter to control this behavior.\n",
            "  _warn_prf(average, modifier, msg_start, len(result))\n",
            "/usr/local/lib/python3.7/dist-packages/sklearn/metrics/_classification.py:1308: UndefinedMetricWarning: Precision and F-score are ill-defined and being set to 0.0 in labels with no predicted samples. Use `zero_division` parameter to control this behavior.\n",
            "  _warn_prf(average, modifier, msg_start, len(result))\n"
          ]
        },
        {
          "output_type": "display_data",
          "data": {
            "image/png": "[encoded data removed]",
            "text/plain": [
              "<Figure size 576x504 with 2 Axes>"
            ]
          },
          "metadata": {}
        }
      ]
    },
    {
      "cell_type": "markdown",
      "metadata": {
        "id": "vlYXEvcdU7iV"
      },
      "source": [
        "#### Decision Tree Classifier"
      ]
    },
    {
      "cell_type": "code",
      "metadata": {
        "colab": {
          "base_uri": "https://localhost:8080/",
          "height": 759
        },
        "id": "8v-qo6OJMrFp",
        "outputId": "efd83f74-d0e9-4900-c234-2fab1975e789"
      },
      "source": [
        "from sklearn.tree import DecisionTreeClassifier \n",
        "\n",
        "dt_classifier = DecisionTreeClassifier()\n",
        "dt_classifier.fit(X_train, Y_train)\n",
        "\n",
        "test_dt_predictions = dt_classifier.predict( X_test)\n",
        "\n",
        "evaluation_summary(\"Decision Tree Classifier test dataset\",  test_dt_predictions, Y_test)"
      ],
      "execution_count": 42,
      "outputs": [
        {
          "output_type": "stream",
          "name": "stdout",
          "text": [
            "Evaluation for: Decision Tree Classifier test dataset\n",
            "Classifier 'Decision Tree Classifier test dataset' has Acc=0.812 P_macro=0.758 P_weighted=0.814 R=0.762 F1=0.760\n",
            "              precision    recall  f1-score   support\n",
            "\n",
            "           0      0.640     0.656     0.648      1512\n",
            "           1      0.876     0.868     0.872      4226\n",
            "\n",
            "    accuracy                          0.812      5738\n",
            "   macro avg      0.758     0.762     0.760      5738\n",
            "weighted avg      0.814     0.812     0.813      5738\n",
            "\n",
            "\n",
            "Confusion matrix:\n",
            "\n",
            "     0     1\n",
            "0  992   520\n",
            "1  557  3669\n"
          ]
        },
        {
          "output_type": "display_data",
          "data": {
            "image/png": "[encoded data removed]",
            "text/plain": [
              "<Figure size 576x504 with 2 Axes>"
            ]
          },
          "metadata": {}
        }
      ]
    },
    {
      "cell_type": "code",
      "metadata": {
        "id": "f_xRjxvW4kWI",
        "colab": {
          "base_uri": "https://localhost:8080/",
          "height": 652
        },
        "outputId": "d5dece3a-bd1d-468d-fa55-040e96da5737"
      },
      "source": [
        "feature_names = dt_classifier.feature_names_in_\n",
        "\n",
        "# get importance\n",
        "importance = dt_classifier.feature_importances_\n",
        "\n",
        "# plot feature importance\n",
        "plt.bar([x for x in range(len(importance))], importance)\n",
        "plt.xticks(range(len(feature_names)), feature_names, rotation='vertical')\n",
        "plt.show()"
      ],
      "execution_count": 43,
      "outputs": [
        {
          "output_type": "display_data",
          "data": {
            "image/png": "[encoded data removed]",
            "text/plain": [
              "<Figure size 842.4x595.44 with 1 Axes>"
            ]
          },
          "metadata": {}
        }
      ]
    },
    {
      "cell_type": "markdown",
      "source": [
        "### Guassian NB"
      ],
      "metadata": {
        "id": "XcX4QedgIq3i"
      }
    },
    {
      "cell_type": "code",
      "source": [
        "from sklearn.naive_bayes import GaussianNB\n",
        "\n",
        "gnb = GaussianNB()\n",
        "gnb.fit(X_train, Y_train)\n",
        "\n",
        "test_gnb_predictions = gnb.predict( X_test)\n",
        "\n",
        "evaluation_summary(\"Gaussian NB Classifier test dataset\",  test_gnb_predictions, Y_test)"
      ],
      "metadata": {
        "colab": {
          "base_uri": "https://localhost:8080/",
          "height": 759
        },
        "id": "v80cECeaHNJ3",
        "outputId": "9ae4fd26-caef-4f33-e220-0d8db4db10fa"
      },
      "execution_count": 44,
      "outputs": [
        {
          "output_type": "stream",
          "name": "stdout",
          "text": [
            "Evaluation for: Gaussian NB Classifier test dataset\n",
            "Classifier 'Gaussian NB Classifier test dataset' has Acc=0.539 P_macro=0.645 P_weighted=0.782 R=0.662 F1=0.538\n",
            "              precision    recall  f1-score   support\n",
            "\n",
            "           0      0.356     0.921     0.513      1512\n",
            "           1      0.935     0.403     0.563      4226\n",
            "\n",
            "    accuracy                          0.539      5738\n",
            "   macro avg      0.645     0.662     0.538      5738\n",
            "weighted avg      0.782     0.539     0.550      5738\n",
            "\n",
            "\n",
            "Confusion matrix:\n",
            "\n",
            "      0     1\n",
            "0  1393   119\n",
            "1  2524  1702\n"
          ]
        },
        {
          "output_type": "display_data",
          "data": {
            "image/png": "[encoded data removed]",
            "text/plain": [
              "<Figure size 576x504 with 2 Axes>"
            ]
          },
          "metadata": {}
        }
      ]
    },
    {
      "cell_type": "code",
      "source": [
        "from sklearn.inspection import permutation_importance\n",
        "\n",
        "importance = permutation_importance(gnb, X_test, Y_test)\n",
        "print(importance.importances_mean)\n",
        "\n",
        "feature_names = gnb.feature_names_in_\n",
        "\n",
        "plt.bar([x for x in range(len(importance['importances_mean']))], importance['importances_mean'], yerr=importance['importances_std'])\n",
        "plt.xticks(range(len(feature_names)), feature_names, rotation='vertical')\n",
        "plt.show()"
      ],
      "metadata": {
        "colab": {
          "base_uri": "https://localhost:8080/",
          "height": 895
        },
        "id": "hLTLEddEI7LB",
        "outputId": "bda29d3b-f3bf-44b3-d973-02a0f6623a4a"
      },
      "execution_count": 45,
      "outputs": [
        {
          "output_type": "stream",
          "name": "stdout",
          "text": [
            "[ 1.35935866e-03  0.00000000e+00  2.43987452e-04  0.00000000e+00\n",
            "  0.00000000e+00 -5.57685605e-04  3.76437783e-03  3.48553503e-05\n",
            "  6.97107006e-05 -1.04566051e-04  0.00000000e+00 -7.31962356e-04\n",
            "  2.02161032e-03 -1.03868944e-02  1.74276751e-04  9.41094458e-04\n",
            " -1.18508191e-03 -3.13698153e-04  1.53712095e-02  1.04566051e-04\n",
            "  3.48553503e-05  1.77762287e-03  0.00000000e+00  2.26559777e-03\n",
            "  0.00000000e+00 -2.61415127e-03  8.01673057e-04 -1.23736494e-02\n",
            "  0.00000000e+00  0.00000000e+00  0.00000000e+00  0.00000000e+00\n",
            "  0.00000000e+00  0.00000000e+00  0.00000000e+00  0.00000000e+00\n",
            "  0.00000000e+00  0.00000000e+00  0.00000000e+00  0.00000000e+00\n",
            "  0.00000000e+00  0.00000000e+00  0.00000000e+00  0.00000000e+00\n",
            "  0.00000000e+00  0.00000000e+00  0.00000000e+00  0.00000000e+00\n",
            "  0.00000000e+00  0.00000000e+00  0.00000000e+00  0.00000000e+00\n",
            "  0.00000000e+00  0.00000000e+00  0.00000000e+00  0.00000000e+00]\n"
          ]
        },
        {
          "output_type": "display_data",
          "data": {
            "image/png": "[encoded data removed]",
            "text/plain": [
              "<Figure size 842.4x595.44 with 1 Axes>"
            ]
          },
          "metadata": {}
        }
      ]
    },
    {
      "cell_type": "markdown",
      "source": [
        "#### Random Forest"
      ],
      "metadata": {
        "id": "x72u_esajUfD"
      }
    },
    {
      "cell_type": "code",
      "source": [
        "from sklearn.ensemble import RandomForestClassifier\n",
        "\n",
        "randomforest = RandomForestClassifier(n_estimators = 200,\n",
        "                             max_features = 'sqrt', \n",
        "                             min_samples_split = 10, \n",
        "                            )\n",
        "\n",
        "randomforest.fit(X_train, Y_train)\n",
        "\n",
        "test_randomforest_predictions = randomforest.predict( X_test)\n",
        "\n",
        "evaluation_summary(\"Gaussian NB Classifier test dataset\",  test_randomforest_predictions, Y_test)"
      ],
      "metadata": {
        "colab": {
          "base_uri": "https://localhost:8080/",
          "height": 759
        },
        "id": "-cNkzON3jWd5",
        "outputId": "1e79953d-20cd-491c-ac37-661af657ee3a"
      },
      "execution_count": 46,
      "outputs": [
        {
          "output_type": "stream",
          "name": "stdout",
          "text": [
            "Evaluation for: Gaussian NB Classifier test dataset\n",
            "Classifier 'Gaussian NB Classifier test dataset' has Acc=0.878 P_macro=0.868 P_weighted=0.876 R=0.805 F1=0.829\n",
            "              precision    recall  f1-score   support\n",
            "\n",
            "           0      0.851     0.651     0.738      1512\n",
            "           1      0.885     0.959     0.921      4226\n",
            "\n",
            "    accuracy                          0.878      5738\n",
            "   macro avg      0.868     0.805     0.829      5738\n",
            "weighted avg      0.876     0.878     0.873      5738\n",
            "\n",
            "\n",
            "Confusion matrix:\n",
            "\n",
            "     0     1\n",
            "0  985   527\n",
            "1  172  4054\n"
          ]
        },
        {
          "output_type": "display_data",
          "data": {
            "image/png": "[encoded data removed]",
            "text/plain": [
              "<Figure size 576x504 with 2 Axes>"
            ]
          },
          "metadata": {}
        }
      ]
    },
    {
      "cell_type": "code",
      "source": [
        "importance = permutation_importance(randomforest, X_test, Y_test)\n",
        "print(importance.importances_mean)\n",
        "\n",
        "feature_names = randomforest.feature_names_in_\n",
        "\n",
        "plt.bar([x for x in range(len(importance['importances_mean']))], importance['importances_mean'], yerr=importance['importances_std'])\n",
        "plt.xticks(range(len(feature_names)), feature_names, rotation='vertical')\n",
        "plt.show()\n",
        "\n",
        "importance_table = pd.DataFrame({'importance': importance['importances_mean'],\n",
        "                                 'column': feature_names })\n",
        "importance_table.sort_values(by = 'importance', ascending = False)[:20]"
      ],
      "metadata": {
        "colab": {
          "base_uri": "https://localhost:8080/",
          "height": 1000
        },
        "id": "_PkEvk5-kptL",
        "outputId": "90db2c4e-94ab-4cd2-b84a-ffbc20c41f62"
      },
      "execution_count": 47,
      "outputs": [
        {
          "output_type": "stream",
          "name": "stdout",
          "text": [
            "[ 1.08051586e-03  1.84733357e-03  7.31962356e-04  8.36528407e-04\n",
            "  6.97107006e-04  5.22830254e-04  2.44684559e-02  4.87974904e-04\n",
            "  6.97107006e-05  2.43987452e-04  5.57685605e-04  2.50958522e-03\n",
            "  5.22830254e-04  6.93621471e-03  4.53119554e-04  1.60334611e-03\n",
            "  6.27396305e-03  3.83408853e-04  6.72708261e-03  4.07807598e-03\n",
            "  5.22830254e-04  2.76402928e-02  0.00000000e+00  5.29801325e-03\n",
            "  0.00000000e+00  2.30045312e-03  2.61415127e-03  1.25130708e-02\n",
            "  4.53119554e-04  2.99756013e-03  1.53363541e-03 -9.06239108e-04\n",
            "  1.35935866e-03  2.54444057e-02  1.53363541e-03  4.53119554e-04\n",
            "  7.31962356e-04  6.62251656e-04  1.88218892e-03  1.39421401e-03\n",
            "  9.41094458e-04 -2.78842802e-04 -1.04566051e-04 -3.48553503e-04\n",
            " -2.09132102e-04  3.48553503e-05 -1.39421401e-04  2.09132102e-04\n",
            "  1.04566051e-04  2.22044605e-17  5.22830254e-04 -3.48553503e-05\n",
            "  1.39421401e-04 -1.04566051e-04  1.74276751e-04 -4.53119554e-04]\n"
          ]
        },
        {
          "output_type": "display_data",
          "data": {
            "image/png": "[encoded data removed]",
            "text/plain": [
              "<Figure size 842.4x595.44 with 1 Axes>"
            ]
          },
          "metadata": {}
        },
        {
          "output_type": "execute_result",
          "data": {
            "text/html": [
              "<div>\n",
              "<style scoped>\n",
              "    .dataframe tbody tr th:only-of-type {\n",
              "        vertical-align: middle;\n",
              "    }\n",
              "\n",
              "    .dataframe tbody tr th {\n",
              "        vertical-align: top;\n",
              "    }\n",
              "\n",
              "    .dataframe thead th {\n",
              "        text-align: right;\n",
              "    }\n",
              "</style>\n",
              "<table border=\"1\" class=\"dataframe\">\n",
              "  <thead>\n",
              "    <tr style=\"text-align: right;\">\n",
              "      <th></th>\n",
              "      <th>importance</th>\n",
              "      <th>column</th>\n",
              "    </tr>\n",
              "  </thead>\n",
              "  <tbody>\n",
              "    <tr>\n",
              "      <th>21</th>\n",
              "      <td>0.027640</td>\n",
              "      <td>quiz</td>\n",
              "    </tr>\n",
              "    <tr>\n",
              "      <th>33</th>\n",
              "      <td>0.025444</td>\n",
              "      <td>code_module_FFF</td>\n",
              "    </tr>\n",
              "    <tr>\n",
              "      <th>6</th>\n",
              "      <td>0.024468</td>\n",
              "      <td>score</td>\n",
              "    </tr>\n",
              "    <tr>\n",
              "      <th>27</th>\n",
              "      <td>0.012513</td>\n",
              "      <td>sum_click</td>\n",
              "    </tr>\n",
              "    <tr>\n",
              "      <th>13</th>\n",
              "      <td>0.006936</td>\n",
              "      <td>homepage</td>\n",
              "    </tr>\n",
              "    <tr>\n",
              "      <th>18</th>\n",
              "      <td>0.006727</td>\n",
              "      <td>ouwiki</td>\n",
              "    </tr>\n",
              "    <tr>\n",
              "      <th>16</th>\n",
              "      <td>0.006274</td>\n",
              "      <td>oucontent</td>\n",
              "    </tr>\n",
              "    <tr>\n",
              "      <th>23</th>\n",
              "      <td>0.005298</td>\n",
              "      <td>resource</td>\n",
              "    </tr>\n",
              "    <tr>\n",
              "      <th>19</th>\n",
              "      <td>0.004078</td>\n",
              "      <td>page</td>\n",
              "    </tr>\n",
              "    <tr>\n",
              "      <th>29</th>\n",
              "      <td>0.002998</td>\n",
              "      <td>code_module_BBB</td>\n",
              "    </tr>\n",
              "    <tr>\n",
              "      <th>26</th>\n",
              "      <td>0.002614</td>\n",
              "      <td>url</td>\n",
              "    </tr>\n",
              "    <tr>\n",
              "      <th>11</th>\n",
              "      <td>0.002510</td>\n",
              "      <td>forumng</td>\n",
              "    </tr>\n",
              "    <tr>\n",
              "      <th>25</th>\n",
              "      <td>0.002300</td>\n",
              "      <td>subpage</td>\n",
              "    </tr>\n",
              "    <tr>\n",
              "      <th>38</th>\n",
              "      <td>0.001882</td>\n",
              "      <td>code_presentation_2014J</td>\n",
              "    </tr>\n",
              "    <tr>\n",
              "      <th>1</th>\n",
              "      <td>0.001847</td>\n",
              "      <td>highest_education</td>\n",
              "    </tr>\n",
              "    <tr>\n",
              "      <th>15</th>\n",
              "      <td>0.001603</td>\n",
              "      <td>oucollaborate</td>\n",
              "    </tr>\n",
              "    <tr>\n",
              "      <th>34</th>\n",
              "      <td>0.001534</td>\n",
              "      <td>code_module_GGG</td>\n",
              "    </tr>\n",
              "    <tr>\n",
              "      <th>30</th>\n",
              "      <td>0.001534</td>\n",
              "      <td>code_module_CCC</td>\n",
              "    </tr>\n",
              "    <tr>\n",
              "      <th>39</th>\n",
              "      <td>0.001394</td>\n",
              "      <td>gender_F</td>\n",
              "    </tr>\n",
              "    <tr>\n",
              "      <th>32</th>\n",
              "      <td>0.001359</td>\n",
              "      <td>code_module_EEE</td>\n",
              "    </tr>\n",
              "  </tbody>\n",
              "</table>\n",
              "</div>"
            ],
            "text/plain": [
              "    importance                   column\n",
              "21    0.027640                     quiz\n",
              "33    0.025444          code_module_FFF\n",
              "6     0.024468                    score\n",
              "27    0.012513                sum_click\n",
              "13    0.006936                 homepage\n",
              "18    0.006727                   ouwiki\n",
              "16    0.006274                oucontent\n",
              "23    0.005298                 resource\n",
              "19    0.004078                     page\n",
              "29    0.002998          code_module_BBB\n",
              "26    0.002614                      url\n",
              "11    0.002510                  forumng\n",
              "25    0.002300                  subpage\n",
              "38    0.001882  code_presentation_2014J\n",
              "1     0.001847        highest_education\n",
              "15    0.001603            oucollaborate\n",
              "34    0.001534          code_module_GGG\n",
              "30    0.001534          code_module_CCC\n",
              "39    0.001394                 gender_F\n",
              "32    0.001359          code_module_EEE"
            ]
          },
          "metadata": {},
          "execution_count": 47
        }
      ]
    },
    {
      "cell_type": "code",
      "source": [
        "importance = randomforest.feature_importances_\n",
        "print(importance)\n",
        "\n",
        "feature_names = randomforest.feature_names_in_\n",
        "\n",
        "plt.bar([x for x in range(len(importance))], importance)\n",
        "plt.xticks(range(len(feature_names)), feature_names, rotation='vertical')\n",
        "plt.show()\n",
        "\n",
        "importance_table = pd.DataFrame({'importance': importance,\n",
        "                                 'column': feature_names })\n",
        "importance_table.sort_values(by = 'importance', ascending = False)[:20]"
      ],
      "metadata": {
        "colab": {
          "base_uri": "https://localhost:8080/",
          "height": 1000
        },
        "id": "NiaM9L0bjfS1",
        "outputId": "bc1acb3a-b97c-4cb8-e902-5eb8c57a8a8e"
      },
      "execution_count": 48,
      "outputs": [
        {
          "output_type": "stream",
          "name": "stdout",
          "text": [
            "[3.06134657e-02 1.14492106e-02 1.74309700e-02 4.39783216e-03\n",
            " 7.12167333e-03 1.27791096e-02 1.28658955e-01 7.72292078e-03\n",
            " 5.47225679e-03 9.25139796e-03 5.53668078e-03 4.70674041e-02\n",
            " 9.63635576e-03 1.02919324e-01 3.49857489e-03 1.86866334e-02\n",
            " 6.02898750e-02 5.32062888e-03 2.95423099e-02 1.81704649e-02\n",
            " 7.15783547e-03 8.20803805e-02 1.04629566e-04 5.37073806e-02\n",
            " 5.18890243e-04 4.19986155e-02 3.53603206e-02 1.15258943e-01\n",
            " 3.13206839e-03 9.55899673e-03 5.20632162e-03 3.52227682e-03\n",
            " 4.64625136e-03 2.18312018e-02 6.25874356e-03 4.29170853e-03\n",
            " 3.70105872e-03 3.70220708e-03 5.70624691e-03 7.48538841e-03\n",
            " 7.32546773e-03 3.36534510e-03 2.68369447e-03 2.43388798e-03\n",
            " 3.25671115e-03 1.70928419e-03 3.51331043e-03 3.71332790e-03\n",
            " 2.43657118e-03 2.84637480e-03 2.60014261e-03 2.60536294e-03\n",
            " 3.15568764e-03 2.50515524e-03 2.54266289e-03 2.51150470e-03]\n"
          ]
        },
        {
          "output_type": "display_data",
          "data": {
            "image/png": "[encoded data removed]",
            "text/plain": [
              "<Figure size 842.4x595.44 with 1 Axes>"
            ]
          },
          "metadata": {}
        },
        {
          "output_type": "execute_result",
          "data": {
            "text/html": [
              "<div>\n",
              "<style scoped>\n",
              "    .dataframe tbody tr th:only-of-type {\n",
              "        vertical-align: middle;\n",
              "    }\n",
              "\n",
              "    .dataframe tbody tr th {\n",
              "        vertical-align: top;\n",
              "    }\n",
              "\n",
              "    .dataframe thead th {\n",
              "        text-align: right;\n",
              "    }\n",
              "</style>\n",
              "<table border=\"1\" class=\"dataframe\">\n",
              "  <thead>\n",
              "    <tr style=\"text-align: right;\">\n",
              "      <th></th>\n",
              "      <th>importance</th>\n",
              "      <th>column</th>\n",
              "    </tr>\n",
              "  </thead>\n",
              "  <tbody>\n",
              "    <tr>\n",
              "      <th>6</th>\n",
              "      <td>0.128659</td>\n",
              "      <td>score</td>\n",
              "    </tr>\n",
              "    <tr>\n",
              "      <th>27</th>\n",
              "      <td>0.115259</td>\n",
              "      <td>sum_click</td>\n",
              "    </tr>\n",
              "    <tr>\n",
              "      <th>13</th>\n",
              "      <td>0.102919</td>\n",
              "      <td>homepage</td>\n",
              "    </tr>\n",
              "    <tr>\n",
              "      <th>21</th>\n",
              "      <td>0.082080</td>\n",
              "      <td>quiz</td>\n",
              "    </tr>\n",
              "    <tr>\n",
              "      <th>16</th>\n",
              "      <td>0.060290</td>\n",
              "      <td>oucontent</td>\n",
              "    </tr>\n",
              "    <tr>\n",
              "      <th>23</th>\n",
              "      <td>0.053707</td>\n",
              "      <td>resource</td>\n",
              "    </tr>\n",
              "    <tr>\n",
              "      <th>11</th>\n",
              "      <td>0.047067</td>\n",
              "      <td>forumng</td>\n",
              "    </tr>\n",
              "    <tr>\n",
              "      <th>25</th>\n",
              "      <td>0.041999</td>\n",
              "      <td>subpage</td>\n",
              "    </tr>\n",
              "    <tr>\n",
              "      <th>26</th>\n",
              "      <td>0.035360</td>\n",
              "      <td>url</td>\n",
              "    </tr>\n",
              "    <tr>\n",
              "      <th>0</th>\n",
              "      <td>0.030613</td>\n",
              "      <td>id_student</td>\n",
              "    </tr>\n",
              "    <tr>\n",
              "      <th>18</th>\n",
              "      <td>0.029542</td>\n",
              "      <td>ouwiki</td>\n",
              "    </tr>\n",
              "    <tr>\n",
              "      <th>33</th>\n",
              "      <td>0.021831</td>\n",
              "      <td>code_module_FFF</td>\n",
              "    </tr>\n",
              "    <tr>\n",
              "      <th>15</th>\n",
              "      <td>0.018687</td>\n",
              "      <td>oucollaborate</td>\n",
              "    </tr>\n",
              "    <tr>\n",
              "      <th>19</th>\n",
              "      <td>0.018170</td>\n",
              "      <td>page</td>\n",
              "    </tr>\n",
              "    <tr>\n",
              "      <th>2</th>\n",
              "      <td>0.017431</td>\n",
              "      <td>imd_band</td>\n",
              "    </tr>\n",
              "    <tr>\n",
              "      <th>5</th>\n",
              "      <td>0.012779</td>\n",
              "      <td>studied_credits</td>\n",
              "    </tr>\n",
              "    <tr>\n",
              "      <th>1</th>\n",
              "      <td>0.011449</td>\n",
              "      <td>highest_education</td>\n",
              "    </tr>\n",
              "    <tr>\n",
              "      <th>12</th>\n",
              "      <td>0.009636</td>\n",
              "      <td>glossary</td>\n",
              "    </tr>\n",
              "    <tr>\n",
              "      <th>29</th>\n",
              "      <td>0.009559</td>\n",
              "      <td>code_module_BBB</td>\n",
              "    </tr>\n",
              "    <tr>\n",
              "      <th>9</th>\n",
              "      <td>0.009251</td>\n",
              "      <td>externalquiz</td>\n",
              "    </tr>\n",
              "  </tbody>\n",
              "</table>\n",
              "</div>"
            ],
            "text/plain": [
              "    importance             column\n",
              "6     0.128659              score\n",
              "27    0.115259          sum_click\n",
              "13    0.102919           homepage\n",
              "21    0.082080               quiz\n",
              "16    0.060290          oucontent\n",
              "23    0.053707           resource\n",
              "11    0.047067            forumng\n",
              "25    0.041999            subpage\n",
              "26    0.035360                url\n",
              "0     0.030613         id_student\n",
              "18    0.029542             ouwiki\n",
              "33    0.021831    code_module_FFF\n",
              "15    0.018687      oucollaborate\n",
              "19    0.018170               page\n",
              "2     0.017431           imd_band\n",
              "5     0.012779    studied_credits\n",
              "1     0.011449  highest_education\n",
              "12    0.009636           glossary\n",
              "29    0.009559    code_module_BBB\n",
              "9     0.009251       externalquiz"
            ]
          },
          "metadata": {},
          "execution_count": 48
        }
      ]
    },
    {
      "cell_type": "code",
      "source": [
        ""
      ],
      "metadata": {
        "id": "2_0p3BYYkMJS"
      },
      "execution_count": 48,
      "outputs": []
    }
  ]
}